{
 "cells": [
  {
   "cell_type": "markdown",
   "id": "36d0c4a5",
   "metadata": {
    "id": "36d0c4a5"
   },
   "source": [
    "# Predicción de partidos de fútbol"
   ]
  },
  {
   "cell_type": "code",
   "execution_count": 29,
   "id": "46e5bd3a-98d8-4dd4-8ac3-af7c5bc458cc",
   "metadata": {},
   "outputs": [
    {
     "name": "stdout",
     "output_type": "stream",
     "text": [
      "    Season       Date    HomeTeam     AwayTeam  PartidoSeason  ELOHomeT  \\\n",
      "0  2019-20 2019-08-16  Ath Bilbao    Barcelona              1         0   \n",
      "1  2019-20 2019-08-17       Celta  Real Madrid              1         0   \n",
      "2  2019-20 2019-08-17    Valencia     Sociedad              1         0   \n",
      "3  2019-20 2019-08-17    Mallorca        Eibar              1         0   \n",
      "4  2019-20 2019-08-17     Leganes      Osasuna              1         0   \n",
      "\n",
      "   ELOHomeM  ELOAwayT  ELOAwayM  AtaqueMedioH  AtaqueMedioA  TarjetasRMedioH  \\\n",
      "0         0         0         0           0.0           0.0              0.0   \n",
      "1         0         0         0           0.0           0.0              0.0   \n",
      "2         0         0         0           0.0           0.0              0.0   \n",
      "3         0         0         0           0.0           0.0              0.0   \n",
      "4         0         0         0           0.0           0.0              0.0   \n",
      "\n",
      "   TarjetasRMedioA Resultado  \n",
      "0              0.0         H  \n",
      "1              0.0         A  \n",
      "2              0.0         D  \n",
      "3              0.0         H  \n",
      "4              0.0         A  \n"
     ]
    }
   ],
   "source": [
    "import pandas as pd\n",
    "\n",
    "# Cargar el archivo Excel en un DataFrame de pandas\n",
    "data = pd.read_excel('datos_definitivos.xlsx')\n",
    "\n",
    "print(data.head())"
   ]
  },
  {
   "cell_type": "markdown",
   "id": "d7cfd9a6",
   "metadata": {
    "id": "d7cfd9a6"
   },
   "source": [
    "## 1. EDA"
   ]
  },
  {
   "cell_type": "code",
   "execution_count": 30,
   "id": "9f2da05f",
   "metadata": {
    "colab": {
     "base_uri": "https://localhost:8080/"
    },
    "id": "9f2da05f",
    "outputId": "2b934d3d-ba08-4358-d914-5ff5b89fd64b"
   },
   "outputs": [
    {
     "name": "stdout",
     "output_type": "stream",
     "text": [
      "Cantidad de filas y columnas: (1599, 14)\n",
      "Nombre columnas: Index(['Season', 'Date', 'HomeTeam', 'AwayTeam', 'PartidoSeason', 'ELOHomeT',\n",
      "       'ELOHomeM', 'ELOAwayT', 'ELOAwayM', 'AtaqueMedioH', 'AtaqueMedioA',\n",
      "       'TarjetasRMedioH', 'TarjetasRMedioA', 'Resultado'],\n",
      "      dtype='object')\n",
      "tipos de dato: Season                     object\n",
      "Date               datetime64[ns]\n",
      "HomeTeam                   object\n",
      "AwayTeam                   object\n",
      "PartidoSeason               int64\n",
      "ELOHomeT                    int64\n",
      "ELOHomeM                    int64\n",
      "ELOAwayT                    int64\n",
      "ELOAwayM                    int64\n",
      "AtaqueMedioH              float64\n",
      "AtaqueMedioA              float64\n",
      "TarjetasRMedioH           float64\n",
      "TarjetasRMedioA           float64\n",
      "Resultado                  object\n",
      "dtype: object\n",
      "                                Date  PartidoSeason     ELOHomeT     ELOHomeM  \\\n",
      "count                           1599    1599.000000  1599.000000  1599.000000   \n",
      "mean   2021-08-27 12:29:16.097560832       9.629769     1.340838     0.891182   \n",
      "min              2019-08-16 00:00:00       1.000000    -9.000000    -8.000000   \n",
      "25%              2020-09-27 00:00:00       5.000000    -1.000000    -1.000000   \n",
      "50%              2021-09-18 00:00:00      10.000000     1.000000     0.000000   \n",
      "75%              2022-09-18 00:00:00      14.500000     3.000000     2.000000   \n",
      "max              2023-10-02 00:00:00      19.000000    16.000000    11.000000   \n",
      "std                              NaN       5.589348     3.425338     2.632124   \n",
      "\n",
      "          ELOAwayT     ELOAwayM  AtaqueMedioH  AtaqueMedioA  TarjetasRMedioH  \\\n",
      "count  1599.000000  1599.000000   1599.000000   1599.000000      1599.000000   \n",
      "mean     -1.313946    -0.889931      1.306493      1.023785         0.121641   \n",
      "min     -14.000000   -10.000000      0.000000      0.000000         0.000000   \n",
      "25%      -3.000000    -2.000000      0.882353      0.705882         0.000000   \n",
      "50%      -1.000000    -1.000000      1.285714      1.000000         0.071429   \n",
      "75%       1.000000     0.000000      1.710084      1.300000         0.187500   \n",
      "max      11.000000     7.000000      6.000000      4.000000         1.000000   \n",
      "std       3.695581     2.482810      0.769509      0.601944         0.166398   \n",
      "\n",
      "       TarjetasRMedioA  \n",
      "count      1599.000000  \n",
      "mean          0.111562  \n",
      "min           0.000000  \n",
      "25%           0.000000  \n",
      "50%           0.058824  \n",
      "75%           0.166667  \n",
      "max           1.000000  \n",
      "std           0.163837  \n"
     ]
    }
   ],
   "source": [
    "print(f'Cantidad de filas y columnas: {data.shape}')\n",
    "print('Nombre columnas:',data.columns)\n",
    "\n",
    "print('tipos de dato:',data.dtypes)\n",
    "print(data.describe())"
   ]
  },
  {
   "cell_type": "code",
   "execution_count": 31,
   "id": "14ef018a",
   "metadata": {
    "colab": {
     "base_uri": "https://localhost:8080/",
     "height": 488
    },
    "id": "14ef018a",
    "outputId": "5b52c4f4-6264-44bc-d8a9-3d1682dfbcc9"
   },
   "outputs": [
    {
     "data": {
      "text/html": [
       "<div>\n",
       "<style scoped>\n",
       "    .dataframe tbody tr th:only-of-type {\n",
       "        vertical-align: middle;\n",
       "    }\n",
       "\n",
       "    .dataframe tbody tr th {\n",
       "        vertical-align: top;\n",
       "    }\n",
       "\n",
       "    .dataframe thead th {\n",
       "        text-align: right;\n",
       "    }\n",
       "</style>\n",
       "<table border=\"1\" class=\"dataframe\">\n",
       "  <thead>\n",
       "    <tr style=\"text-align: right;\">\n",
       "      <th></th>\n",
       "      <th>count</th>\n",
       "      <th>percent</th>\n",
       "    </tr>\n",
       "  </thead>\n",
       "  <tbody>\n",
       "    <tr>\n",
       "      <th>Season</th>\n",
       "      <td>0</td>\n",
       "      <td>0.0</td>\n",
       "    </tr>\n",
       "    <tr>\n",
       "      <th>Date</th>\n",
       "      <td>0</td>\n",
       "      <td>0.0</td>\n",
       "    </tr>\n",
       "    <tr>\n",
       "      <th>HomeTeam</th>\n",
       "      <td>0</td>\n",
       "      <td>0.0</td>\n",
       "    </tr>\n",
       "    <tr>\n",
       "      <th>AwayTeam</th>\n",
       "      <td>0</td>\n",
       "      <td>0.0</td>\n",
       "    </tr>\n",
       "    <tr>\n",
       "      <th>PartidoSeason</th>\n",
       "      <td>0</td>\n",
       "      <td>0.0</td>\n",
       "    </tr>\n",
       "    <tr>\n",
       "      <th>ELOHomeT</th>\n",
       "      <td>0</td>\n",
       "      <td>0.0</td>\n",
       "    </tr>\n",
       "    <tr>\n",
       "      <th>ELOHomeM</th>\n",
       "      <td>0</td>\n",
       "      <td>0.0</td>\n",
       "    </tr>\n",
       "    <tr>\n",
       "      <th>ELOAwayT</th>\n",
       "      <td>0</td>\n",
       "      <td>0.0</td>\n",
       "    </tr>\n",
       "    <tr>\n",
       "      <th>ELOAwayM</th>\n",
       "      <td>0</td>\n",
       "      <td>0.0</td>\n",
       "    </tr>\n",
       "    <tr>\n",
       "      <th>AtaqueMedioH</th>\n",
       "      <td>0</td>\n",
       "      <td>0.0</td>\n",
       "    </tr>\n",
       "    <tr>\n",
       "      <th>AtaqueMedioA</th>\n",
       "      <td>0</td>\n",
       "      <td>0.0</td>\n",
       "    </tr>\n",
       "    <tr>\n",
       "      <th>TarjetasRMedioH</th>\n",
       "      <td>0</td>\n",
       "      <td>0.0</td>\n",
       "    </tr>\n",
       "    <tr>\n",
       "      <th>TarjetasRMedioA</th>\n",
       "      <td>0</td>\n",
       "      <td>0.0</td>\n",
       "    </tr>\n",
       "    <tr>\n",
       "      <th>Resultado</th>\n",
       "      <td>0</td>\n",
       "      <td>0.0</td>\n",
       "    </tr>\n",
       "  </tbody>\n",
       "</table>\n",
       "</div>"
      ],
      "text/plain": [
       "                 count  percent\n",
       "Season               0      0.0\n",
       "Date                 0      0.0\n",
       "HomeTeam             0      0.0\n",
       "AwayTeam             0      0.0\n",
       "PartidoSeason        0      0.0\n",
       "ELOHomeT             0      0.0\n",
       "ELOHomeM             0      0.0\n",
       "ELOAwayT             0      0.0\n",
       "ELOAwayM             0      0.0\n",
       "AtaqueMedioH         0      0.0\n",
       "AtaqueMedioA         0      0.0\n",
       "TarjetasRMedioH      0      0.0\n",
       "TarjetasRMedioA      0      0.0\n",
       "Resultado            0      0.0"
      ]
     },
     "execution_count": 31,
     "metadata": {},
     "output_type": "execute_result"
    }
   ],
   "source": [
    "valores_faltantes = data.isnull().sum()\n",
    "valores_faltantes_porcentaje = 100*valores_faltantes/len(data)\n",
    "\n",
    "valores_faltantes_df = pd.DataFrame({'count': valores_faltantes, 'percent': valores_faltantes_porcentaje})\n",
    "valores_faltantes_df.sort_values('percent', ascending=False)"
   ]
  },
  {
   "cell_type": "code",
   "execution_count": 32,
   "id": "ff7e612e",
   "metadata": {
    "id": "ff7e612e"
   },
   "outputs": [],
   "source": [
    "# Codificar la variable respuesta\n",
    "from sklearn.preprocessing import LabelEncoder\n",
    "\n",
    "label_encoder = LabelEncoder()\n",
    "data['Resultado'] = label_encoder.fit_transform(data['Resultado'])"
   ]
  },
  {
   "cell_type": "code",
   "execution_count": 33,
   "id": "ece9ce70",
   "metadata": {
    "id": "ece9ce70"
   },
   "outputs": [],
   "source": [
    "X = data.drop(['PartidoSeason','Resultado', 'Date', 'Season', 'HomeTeam', 'AwayTeam'], axis=1)\n",
    "y = data['Resultado']"
   ]
  },
  {
   "cell_type": "code",
   "execution_count": 34,
   "id": "82141ccb",
   "metadata": {
    "colab": {
     "base_uri": "https://localhost:8080/"
    },
    "id": "82141ccb",
    "outputId": "da76bdb2-c7f3-4b0d-d771-67e4c6e59f60"
   },
   "outputs": [
    {
     "name": "stdout",
     "output_type": "stream",
     "text": [
      "Defaulting to user installation because normal site-packages is not writeable\n",
      "Requirement already satisfied: timeseries-cv in c:\\programdata\\anaconda3\\lib\\site-packages (0.1.5)\n",
      "Requirement already satisfied: numpy<2.0,>=1.21 in c:\\programdata\\anaconda3\\lib\\site-packages (from timeseries-cv) (1.26.4)\n"
     ]
    }
   ],
   "source": [
    "!pip install timeseries-cv\n",
    "from sklearn.model_selection import TimeSeriesSplit"
   ]
  },
  {
   "cell_type": "code",
   "execution_count": 35,
   "id": "3417f43a",
   "metadata": {
    "id": "3417f43a"
   },
   "outputs": [],
   "source": [
    "from sklearn.model_selection import train_test_split\n",
    "\n",
    "X_train, X_test, y_train, y_test = train_test_split(X, y, test_size=0.25, shuffle=False) #importa no hacerlo de manera aleatoria"
   ]
  },
  {
   "cell_type": "markdown",
   "id": "3041edab",
   "metadata": {
    "id": "3041edab"
   },
   "source": [
    "## 2. Árboles de decisión"
   ]
  },
  {
   "cell_type": "code",
   "execution_count": 36,
   "id": "dd878d17",
   "metadata": {
    "id": "dd878d17"
   },
   "outputs": [],
   "source": [
    "from sklearn.tree import DecisionTreeClassifier\n",
    "from sklearn.model_selection import GridSearchCV, TimeSeriesSplit\n",
    "from sklearn.metrics import accuracy_score, confusion_matrix\n",
    "import numpy as np\n",
    "import seaborn as sns\n",
    "import matplotlib.pyplot as plt\n",
    "from sklearn.metrics import make_scorer, accuracy_score, precision_score, recall_score, f1_score"
   ]
  },
  {
   "cell_type": "code",
   "execution_count": 37,
   "id": "e44f2d9e-95de-460a-94fc-e56f585aed4a",
   "metadata": {},
   "outputs": [],
   "source": [
    "param_grid = {\n",
    "    'criterion': ['gini', 'entropy'],\n",
    "    'max_depth': [None, 3, 5, 10, 20, 30],\n",
    "    'min_samples_split': [2, 5, 10, 15],\n",
    "    'min_samples_leaf': [1, 2, 4, 6, 10],\n",
    "}"
   ]
  },
  {
   "cell_type": "code",
   "execution_count": 38,
   "id": "70674438",
   "metadata": {
    "id": "70674438"
   },
   "outputs": [],
   "source": [
    "dt_clf = DecisionTreeClassifier(random_state=3)"
   ]
  },
  {
   "cell_type": "code",
   "execution_count": 39,
   "id": "8b19e940",
   "metadata": {
    "id": "8b19e940"
   },
   "outputs": [],
   "source": [
    "# GridSearchCV\n",
    "grid_search = GridSearchCV(estimator=dt_clf, param_grid=param_grid, cv=TimeSeriesSplit(n_splits=10),\n",
    "                           scoring='accuracy', n_jobs=-1)"
   ]
  },
  {
   "cell_type": "code",
   "execution_count": 40,
   "id": "rUxVMzJg8gJA",
   "metadata": {
    "id": "rUxVMzJg8gJA"
   },
   "outputs": [],
   "source": [
    "import time\n",
    "# Guardar el tiempo antes de ejecutar la funcion de entrenamiento\n",
    "start_time = time.time()"
   ]
  },
  {
   "cell_type": "code",
   "execution_count": 41,
   "id": "a20d091f",
   "metadata": {
    "colab": {
     "base_uri": "https://localhost:8080/",
     "height": 117
    },
    "id": "a20d091f",
    "outputId": "192960a9-d4f0-47b4-a1df-477a57deb9ec"
   },
   "outputs": [
    {
     "data": {
      "text/html": [
       "<style>#sk-container-id-2 {color: black;background-color: white;}#sk-container-id-2 pre{padding: 0;}#sk-container-id-2 div.sk-toggleable {background-color: white;}#sk-container-id-2 label.sk-toggleable__label {cursor: pointer;display: block;width: 100%;margin-bottom: 0;padding: 0.3em;box-sizing: border-box;text-align: center;}#sk-container-id-2 label.sk-toggleable__label-arrow:before {content: \"▸\";float: left;margin-right: 0.25em;color: #696969;}#sk-container-id-2 label.sk-toggleable__label-arrow:hover:before {color: black;}#sk-container-id-2 div.sk-estimator:hover label.sk-toggleable__label-arrow:before {color: black;}#sk-container-id-2 div.sk-toggleable__content {max-height: 0;max-width: 0;overflow: hidden;text-align: left;background-color: #f0f8ff;}#sk-container-id-2 div.sk-toggleable__content pre {margin: 0.2em;color: black;border-radius: 0.25em;background-color: #f0f8ff;}#sk-container-id-2 input.sk-toggleable__control:checked~div.sk-toggleable__content {max-height: 200px;max-width: 100%;overflow: auto;}#sk-container-id-2 input.sk-toggleable__control:checked~label.sk-toggleable__label-arrow:before {content: \"▾\";}#sk-container-id-2 div.sk-estimator input.sk-toggleable__control:checked~label.sk-toggleable__label {background-color: #d4ebff;}#sk-container-id-2 div.sk-label input.sk-toggleable__control:checked~label.sk-toggleable__label {background-color: #d4ebff;}#sk-container-id-2 input.sk-hidden--visually {border: 0;clip: rect(1px 1px 1px 1px);clip: rect(1px, 1px, 1px, 1px);height: 1px;margin: -1px;overflow: hidden;padding: 0;position: absolute;width: 1px;}#sk-container-id-2 div.sk-estimator {font-family: monospace;background-color: #f0f8ff;border: 1px dotted black;border-radius: 0.25em;box-sizing: border-box;margin-bottom: 0.5em;}#sk-container-id-2 div.sk-estimator:hover {background-color: #d4ebff;}#sk-container-id-2 div.sk-parallel-item::after {content: \"\";width: 100%;border-bottom: 1px solid gray;flex-grow: 1;}#sk-container-id-2 div.sk-label:hover label.sk-toggleable__label {background-color: #d4ebff;}#sk-container-id-2 div.sk-serial::before {content: \"\";position: absolute;border-left: 1px solid gray;box-sizing: border-box;top: 0;bottom: 0;left: 50%;z-index: 0;}#sk-container-id-2 div.sk-serial {display: flex;flex-direction: column;align-items: center;background-color: white;padding-right: 0.2em;padding-left: 0.2em;position: relative;}#sk-container-id-2 div.sk-item {position: relative;z-index: 1;}#sk-container-id-2 div.sk-parallel {display: flex;align-items: stretch;justify-content: center;background-color: white;position: relative;}#sk-container-id-2 div.sk-item::before, #sk-container-id-2 div.sk-parallel-item::before {content: \"\";position: absolute;border-left: 1px solid gray;box-sizing: border-box;top: 0;bottom: 0;left: 50%;z-index: -1;}#sk-container-id-2 div.sk-parallel-item {display: flex;flex-direction: column;z-index: 1;position: relative;background-color: white;}#sk-container-id-2 div.sk-parallel-item:first-child::after {align-self: flex-end;width: 50%;}#sk-container-id-2 div.sk-parallel-item:last-child::after {align-self: flex-start;width: 50%;}#sk-container-id-2 div.sk-parallel-item:only-child::after {width: 0;}#sk-container-id-2 div.sk-dashed-wrapped {border: 1px dashed gray;margin: 0 0.4em 0.5em 0.4em;box-sizing: border-box;padding-bottom: 0.4em;background-color: white;}#sk-container-id-2 div.sk-label label {font-family: monospace;font-weight: bold;display: inline-block;line-height: 1.2em;}#sk-container-id-2 div.sk-label-container {text-align: center;}#sk-container-id-2 div.sk-container {/* jupyter's `normalize.less` sets `[hidden] { display: none; }` but bootstrap.min.css set `[hidden] { display: none !important; }` so we also need the `!important` here to be able to override the default hidden behavior on the sphinx rendered scikit-learn.org. See: https://github.com/scikit-learn/scikit-learn/issues/21755 */display: inline-block !important;position: relative;}#sk-container-id-2 div.sk-text-repr-fallback {display: none;}</style><div id=\"sk-container-id-2\" class=\"sk-top-container\"><div class=\"sk-text-repr-fallback\"><pre>GridSearchCV(cv=TimeSeriesSplit(gap=0, max_train_size=None, n_splits=10, test_size=None),\n",
       "             estimator=DecisionTreeClassifier(random_state=3), n_jobs=-1,\n",
       "             param_grid={&#x27;criterion&#x27;: [&#x27;gini&#x27;, &#x27;entropy&#x27;],\n",
       "                         &#x27;max_depth&#x27;: [None, 3, 5, 10, 20, 30],\n",
       "                         &#x27;min_samples_leaf&#x27;: [1, 2, 4, 6, 10],\n",
       "                         &#x27;min_samples_split&#x27;: [2, 5, 10, 15]},\n",
       "             scoring=&#x27;accuracy&#x27;)</pre><b>In a Jupyter environment, please rerun this cell to show the HTML representation or trust the notebook. <br />On GitHub, the HTML representation is unable to render, please try loading this page with nbviewer.org.</b></div><div class=\"sk-container\" hidden><div class=\"sk-item sk-dashed-wrapped\"><div class=\"sk-label-container\"><div class=\"sk-label sk-toggleable\"><input class=\"sk-toggleable__control sk-hidden--visually\" id=\"sk-estimator-id-4\" type=\"checkbox\" ><label for=\"sk-estimator-id-4\" class=\"sk-toggleable__label sk-toggleable__label-arrow\">GridSearchCV</label><div class=\"sk-toggleable__content\"><pre>GridSearchCV(cv=TimeSeriesSplit(gap=0, max_train_size=None, n_splits=10, test_size=None),\n",
       "             estimator=DecisionTreeClassifier(random_state=3), n_jobs=-1,\n",
       "             param_grid={&#x27;criterion&#x27;: [&#x27;gini&#x27;, &#x27;entropy&#x27;],\n",
       "                         &#x27;max_depth&#x27;: [None, 3, 5, 10, 20, 30],\n",
       "                         &#x27;min_samples_leaf&#x27;: [1, 2, 4, 6, 10],\n",
       "                         &#x27;min_samples_split&#x27;: [2, 5, 10, 15]},\n",
       "             scoring=&#x27;accuracy&#x27;)</pre></div></div></div><div class=\"sk-parallel\"><div class=\"sk-parallel-item\"><div class=\"sk-item\"><div class=\"sk-label-container\"><div class=\"sk-label sk-toggleable\"><input class=\"sk-toggleable__control sk-hidden--visually\" id=\"sk-estimator-id-5\" type=\"checkbox\" ><label for=\"sk-estimator-id-5\" class=\"sk-toggleable__label sk-toggleable__label-arrow\">estimator: DecisionTreeClassifier</label><div class=\"sk-toggleable__content\"><pre>DecisionTreeClassifier(random_state=3)</pre></div></div></div><div class=\"sk-serial\"><div class=\"sk-item\"><div class=\"sk-estimator sk-toggleable\"><input class=\"sk-toggleable__control sk-hidden--visually\" id=\"sk-estimator-id-6\" type=\"checkbox\" ><label for=\"sk-estimator-id-6\" class=\"sk-toggleable__label sk-toggleable__label-arrow\">DecisionTreeClassifier</label><div class=\"sk-toggleable__content\"><pre>DecisionTreeClassifier(random_state=3)</pre></div></div></div></div></div></div></div></div></div></div>"
      ],
      "text/plain": [
       "GridSearchCV(cv=TimeSeriesSplit(gap=0, max_train_size=None, n_splits=10, test_size=None),\n",
       "             estimator=DecisionTreeClassifier(random_state=3), n_jobs=-1,\n",
       "             param_grid={'criterion': ['gini', 'entropy'],\n",
       "                         'max_depth': [None, 3, 5, 10, 20, 30],\n",
       "                         'min_samples_leaf': [1, 2, 4, 6, 10],\n",
       "                         'min_samples_split': [2, 5, 10, 15]},\n",
       "             scoring='accuracy')"
      ]
     },
     "execution_count": 41,
     "metadata": {},
     "output_type": "execute_result"
    }
   ],
   "source": [
    "grid_search.fit(X_train, y_train)"
   ]
  },
  {
   "cell_type": "code",
   "execution_count": 42,
   "id": "1b3O3kRX8-np",
   "metadata": {
    "id": "1b3O3kRX8-np"
   },
   "outputs": [],
   "source": [
    "# Guardar el tiempo despues de ejecutar la funcion de entrenamiento\n",
    "end_time = time.time ()"
   ]
  },
  {
   "cell_type": "code",
   "execution_count": 43,
   "id": "XoplPIpy9UVy",
   "metadata": {
    "colab": {
     "base_uri": "https://localhost:8080/"
    },
    "id": "XoplPIpy9UVy",
    "outputId": "e14af29c-3e2f-46de-9885-50cfbcce8d69"
   },
   "outputs": [
    {
     "name": "stdout",
     "output_type": "stream",
     "text": [
      "El tiempo de CPU total es 5.73 segundos\n"
     ]
    }
   ],
   "source": [
    "# Calcular el tiempo de CPU total\n",
    "cpu_time = end_time - start_time\n",
    "# Mostrar el tiempo de CPU total\n",
    "print(f\"El tiempo de CPU total es {cpu_time:.2f} segundos\")"
   ]
  },
  {
   "cell_type": "code",
   "execution_count": 44,
   "id": "fd1cc987",
   "metadata": {
    "id": "fd1cc987"
   },
   "outputs": [],
   "source": [
    "best_dt = grid_search.best_estimator_"
   ]
  },
  {
   "cell_type": "code",
   "execution_count": 45,
   "id": "f7c93ece",
   "metadata": {
    "colab": {
     "base_uri": "https://localhost:8080/"
    },
    "id": "f7c93ece",
    "outputId": "6780aad1-1816-4c41-e8fd-e43b7cfaf388"
   },
   "outputs": [
    {
     "name": "stdout",
     "output_type": "stream",
     "text": [
      "Mejores parámetros encontrados:\n",
      "{'criterion': 'entropy', 'max_depth': 3, 'min_samples_leaf': 1, 'min_samples_split': 15}\n",
      "Precisión del modelo en el conjunto de entrenamiento: 0.4929\n"
     ]
    }
   ],
   "source": [
    "print(\"Mejores parámetros encontrados:\")\n",
    "print(grid_search.best_params_)\n",
    "\n",
    "accuracy_train = best_dt.score(X_train, y_train)\n",
    "print(f\"Precisión del modelo en el conjunto de entrenamiento: {accuracy_train:.4f}\")\n"
   ]
  },
  {
   "cell_type": "code",
   "execution_count": 46,
   "id": "ecdc1aa6",
   "metadata": {
    "id": "ecdc1aa6"
   },
   "outputs": [],
   "source": [
    "y_pred = best_dt.predict(X_test)\n",
    "y_pred_prob = best_dt.predict_proba(X_test)  # Probabilidades para AUC"
   ]
  },
  {
   "cell_type": "code",
   "execution_count": 47,
   "id": "2b2abf76-e48f-4f08-bf70-b2916ce43650",
   "metadata": {},
   "outputs": [
    {
     "name": "stdout",
     "output_type": "stream",
     "text": [
      "Precisión del modelo en el conjunto de prueba: 46.75%\n",
      "Precisión (Precision) en el conjunto de prueba: 33.52%\n",
      "Recuperación (Recall) en el conjunto de prueba: 46.75%\n",
      "F1-score en el conjunto de prueba: 38.36%\n",
      "AUC en el conjunto de prueba: 57.58%\n"
     ]
    }
   ],
   "source": [
    "from sklearn.metrics import roc_auc_score\n",
    "\n",
    "accuracy = accuracy_score(y_test, y_pred)\n",
    "precision = precision_score(y_test, y_pred, average='weighted')\n",
    "recall = recall_score(y_test, y_pred, average='weighted')\n",
    "f1 = f1_score(y_test, y_pred, average='weighted')\n",
    "\n",
    "# AUC para cada clase y promedio ponderado\n",
    "auc = roc_auc_score(y_test, y_pred_prob, multi_class='ovr', average='weighted')\n",
    "\n",
    "print(\"Precisión del modelo en el conjunto de prueba: {:.2f}%\".format(accuracy * 100))\n",
    "print(\"Precisión (Precision) en el conjunto de prueba: {:.2f}%\".format(precision * 100))\n",
    "print(\"Recuperación (Recall) en el conjunto de prueba: {:.2f}%\".format(recall * 100))\n",
    "print(\"F1-score en el conjunto de prueba: {:.2f}%\".format(f1*100))\n",
    "print(\"AUC en el conjunto de prueba: {:.2f}%\".format(auc*100))"
   ]
  },
  {
   "cell_type": "code",
   "execution_count": 48,
   "id": "332e780c",
   "metadata": {
    "colab": {
     "base_uri": "https://localhost:8080/"
    },
    "id": "332e780c",
    "outputId": "117509e4-8fa2-4572-e640-18604483e2e5"
   },
   "outputs": [
    {
     "name": "stdout",
     "output_type": "stream",
     "text": [
      "Matriz de confusión:\n",
      "[[ 32   0  78]\n",
      " [ 27   0  73]\n",
      " [ 34   1 155]]\n"
     ]
    }
   ],
   "source": [
    "conf_matrix = confusion_matrix(y_test, y_pred)\n",
    "print(\"Matriz de confusión:\")\n",
    "print(conf_matrix)"
   ]
  },
  {
   "cell_type": "code",
   "execution_count": 49,
   "id": "d6eb8582",
   "metadata": {
    "colab": {
     "base_uri": "https://localhost:8080/",
     "height": 653
    },
    "id": "d6eb8582",
    "outputId": "30f46eb0-0534-4913-f29c-09dea1a00180"
   },
   "outputs": [
    {
     "data": {
      "image/png": "[encoded data removed]",
      "text/plain": [
       "<Figure size 1200x800 with 1 Axes>"
      ]
     },
     "metadata": {},
     "output_type": "display_data"
    }
   ],
   "source": [
    "from sklearn.tree import DecisionTreeClassifier, plot_tree\n",
    "import matplotlib.pyplot as plt\n",
    "\n",
    "best_dt.fit(X_train, y_train)\n",
    "\n",
    "plt.figure(figsize=(12, 8))\n",
    "plot_tree(best_dt, feature_names=X_train.columns, class_names=['Ganar Local', 'Ganar Visitante', 'Empate'], filled=True)\n",
    "plt.show()\n"
   ]
  },
  {
   "cell_type": "markdown",
   "id": "75a3418d-dcc9-4217-a051-add06507faa1",
   "metadata": {},
   "source": [
    "## Random Forest"
   ]
  },
  {
   "cell_type": "code",
   "execution_count": 50,
   "id": "d02db0e5",
   "metadata": {
    "id": "d02db0e5"
   },
   "outputs": [],
   "source": [
    "param_grid = {\n",
    "    'criterion': ['gini', 'entropy'],\n",
    "    'n_estimators': [50, 100, 200],\n",
    "    'max_depth': [None, 3, 5, 10, 20, 30],\n",
    "    'min_samples_split': [2, 5, 10, 15],\n",
    "    'min_samples_leaf': [1, 2, 4, 6, 10],\n",
    "}"
   ]
  },
  {
   "cell_type": "code",
   "execution_count": 51,
   "id": "d5a1cb31",
   "metadata": {
    "id": "d5a1cb31"
   },
   "outputs": [],
   "source": [
    "from sklearn.ensemble import RandomForestClassifier\n",
    "rf_clf = RandomForestClassifier(random_state=3)"
   ]
  },
  {
   "cell_type": "code",
   "execution_count": 52,
   "id": "4c237448",
   "metadata": {
    "id": "4c237448"
   },
   "outputs": [],
   "source": [
    "grid_search = GridSearchCV(estimator=rf_clf, param_grid=param_grid, cv=TimeSeriesSplit(n_splits=10),\n",
    "                           scoring='accuracy', n_jobs=-1)"
   ]
  },
  {
   "cell_type": "code",
   "execution_count": 53,
   "id": "RnNSRucVNBig",
   "metadata": {
    "id": "RnNSRucVNBig"
   },
   "outputs": [],
   "source": [
    "import time\n",
    "# Guardar el tiempo antes de ejecutar la funcion de entrenamiento\n",
    "start_time = time.time()"
   ]
  },
  {
   "cell_type": "code",
   "execution_count": 54,
   "id": "946a3ba8",
   "metadata": {
    "colab": {
     "base_uri": "https://localhost:8080/",
     "height": 316
    },
    "id": "946a3ba8",
    "outputId": "7f52ee67-f4a3-4384-be3d-4a4699b17876"
   },
   "outputs": [
    {
     "data": {
      "text/html": [
       "<style>#sk-container-id-3 {color: black;background-color: white;}#sk-container-id-3 pre{padding: 0;}#sk-container-id-3 div.sk-toggleable {background-color: white;}#sk-container-id-3 label.sk-toggleable__label {cursor: pointer;display: block;width: 100%;margin-bottom: 0;padding: 0.3em;box-sizing: border-box;text-align: center;}#sk-container-id-3 label.sk-toggleable__label-arrow:before {content: \"▸\";float: left;margin-right: 0.25em;color: #696969;}#sk-container-id-3 label.sk-toggleable__label-arrow:hover:before {color: black;}#sk-container-id-3 div.sk-estimator:hover label.sk-toggleable__label-arrow:before {color: black;}#sk-container-id-3 div.sk-toggleable__content {max-height: 0;max-width: 0;overflow: hidden;text-align: left;background-color: #f0f8ff;}#sk-container-id-3 div.sk-toggleable__content pre {margin: 0.2em;color: black;border-radius: 0.25em;background-color: #f0f8ff;}#sk-container-id-3 input.sk-toggleable__control:checked~div.sk-toggleable__content {max-height: 200px;max-width: 100%;overflow: auto;}#sk-container-id-3 input.sk-toggleable__control:checked~label.sk-toggleable__label-arrow:before {content: \"▾\";}#sk-container-id-3 div.sk-estimator input.sk-toggleable__control:checked~label.sk-toggleable__label {background-color: #d4ebff;}#sk-container-id-3 div.sk-label input.sk-toggleable__control:checked~label.sk-toggleable__label {background-color: #d4ebff;}#sk-container-id-3 input.sk-hidden--visually {border: 0;clip: rect(1px 1px 1px 1px);clip: rect(1px, 1px, 1px, 1px);height: 1px;margin: -1px;overflow: hidden;padding: 0;position: absolute;width: 1px;}#sk-container-id-3 div.sk-estimator {font-family: monospace;background-color: #f0f8ff;border: 1px dotted black;border-radius: 0.25em;box-sizing: border-box;margin-bottom: 0.5em;}#sk-container-id-3 div.sk-estimator:hover {background-color: #d4ebff;}#sk-container-id-3 div.sk-parallel-item::after {content: \"\";width: 100%;border-bottom: 1px solid gray;flex-grow: 1;}#sk-container-id-3 div.sk-label:hover label.sk-toggleable__label {background-color: #d4ebff;}#sk-container-id-3 div.sk-serial::before {content: \"\";position: absolute;border-left: 1px solid gray;box-sizing: border-box;top: 0;bottom: 0;left: 50%;z-index: 0;}#sk-container-id-3 div.sk-serial {display: flex;flex-direction: column;align-items: center;background-color: white;padding-right: 0.2em;padding-left: 0.2em;position: relative;}#sk-container-id-3 div.sk-item {position: relative;z-index: 1;}#sk-container-id-3 div.sk-parallel {display: flex;align-items: stretch;justify-content: center;background-color: white;position: relative;}#sk-container-id-3 div.sk-item::before, #sk-container-id-3 div.sk-parallel-item::before {content: \"\";position: absolute;border-left: 1px solid gray;box-sizing: border-box;top: 0;bottom: 0;left: 50%;z-index: -1;}#sk-container-id-3 div.sk-parallel-item {display: flex;flex-direction: column;z-index: 1;position: relative;background-color: white;}#sk-container-id-3 div.sk-parallel-item:first-child::after {align-self: flex-end;width: 50%;}#sk-container-id-3 div.sk-parallel-item:last-child::after {align-self: flex-start;width: 50%;}#sk-container-id-3 div.sk-parallel-item:only-child::after {width: 0;}#sk-container-id-3 div.sk-dashed-wrapped {border: 1px dashed gray;margin: 0 0.4em 0.5em 0.4em;box-sizing: border-box;padding-bottom: 0.4em;background-color: white;}#sk-container-id-3 div.sk-label label {font-family: monospace;font-weight: bold;display: inline-block;line-height: 1.2em;}#sk-container-id-3 div.sk-label-container {text-align: center;}#sk-container-id-3 div.sk-container {/* jupyter's `normalize.less` sets `[hidden] { display: none; }` but bootstrap.min.css set `[hidden] { display: none !important; }` so we also need the `!important` here to be able to override the default hidden behavior on the sphinx rendered scikit-learn.org. See: https://github.com/scikit-learn/scikit-learn/issues/21755 */display: inline-block !important;position: relative;}#sk-container-id-3 div.sk-text-repr-fallback {display: none;}</style><div id=\"sk-container-id-3\" class=\"sk-top-container\"><div class=\"sk-text-repr-fallback\"><pre>GridSearchCV(cv=TimeSeriesSplit(gap=0, max_train_size=None, n_splits=10, test_size=None),\n",
       "             estimator=RandomForestClassifier(random_state=3), n_jobs=-1,\n",
       "             param_grid={&#x27;criterion&#x27;: [&#x27;gini&#x27;, &#x27;entropy&#x27;],\n",
       "                         &#x27;max_depth&#x27;: [None, 3, 5, 10, 20, 30],\n",
       "                         &#x27;min_samples_leaf&#x27;: [1, 2, 4, 6, 10],\n",
       "                         &#x27;min_samples_split&#x27;: [2, 5, 10, 15],\n",
       "                         &#x27;n_estimators&#x27;: [50, 100, 200]},\n",
       "             scoring=&#x27;accuracy&#x27;)</pre><b>In a Jupyter environment, please rerun this cell to show the HTML representation or trust the notebook. <br />On GitHub, the HTML representation is unable to render, please try loading this page with nbviewer.org.</b></div><div class=\"sk-container\" hidden><div class=\"sk-item sk-dashed-wrapped\"><div class=\"sk-label-container\"><div class=\"sk-label sk-toggleable\"><input class=\"sk-toggleable__control sk-hidden--visually\" id=\"sk-estimator-id-7\" type=\"checkbox\" ><label for=\"sk-estimator-id-7\" class=\"sk-toggleable__label sk-toggleable__label-arrow\">GridSearchCV</label><div class=\"sk-toggleable__content\"><pre>GridSearchCV(cv=TimeSeriesSplit(gap=0, max_train_size=None, n_splits=10, test_size=None),\n",
       "             estimator=RandomForestClassifier(random_state=3), n_jobs=-1,\n",
       "             param_grid={&#x27;criterion&#x27;: [&#x27;gini&#x27;, &#x27;entropy&#x27;],\n",
       "                         &#x27;max_depth&#x27;: [None, 3, 5, 10, 20, 30],\n",
       "                         &#x27;min_samples_leaf&#x27;: [1, 2, 4, 6, 10],\n",
       "                         &#x27;min_samples_split&#x27;: [2, 5, 10, 15],\n",
       "                         &#x27;n_estimators&#x27;: [50, 100, 200]},\n",
       "             scoring=&#x27;accuracy&#x27;)</pre></div></div></div><div class=\"sk-parallel\"><div class=\"sk-parallel-item\"><div class=\"sk-item\"><div class=\"sk-label-container\"><div class=\"sk-label sk-toggleable\"><input class=\"sk-toggleable__control sk-hidden--visually\" id=\"sk-estimator-id-8\" type=\"checkbox\" ><label for=\"sk-estimator-id-8\" class=\"sk-toggleable__label sk-toggleable__label-arrow\">estimator: RandomForestClassifier</label><div class=\"sk-toggleable__content\"><pre>RandomForestClassifier(random_state=3)</pre></div></div></div><div class=\"sk-serial\"><div class=\"sk-item\"><div class=\"sk-estimator sk-toggleable\"><input class=\"sk-toggleable__control sk-hidden--visually\" id=\"sk-estimator-id-9\" type=\"checkbox\" ><label for=\"sk-estimator-id-9\" class=\"sk-toggleable__label sk-toggleable__label-arrow\">RandomForestClassifier</label><div class=\"sk-toggleable__content\"><pre>RandomForestClassifier(random_state=3)</pre></div></div></div></div></div></div></div></div></div></div>"
      ],
      "text/plain": [
       "GridSearchCV(cv=TimeSeriesSplit(gap=0, max_train_size=None, n_splits=10, test_size=None),\n",
       "             estimator=RandomForestClassifier(random_state=3), n_jobs=-1,\n",
       "             param_grid={'criterion': ['gini', 'entropy'],\n",
       "                         'max_depth': [None, 3, 5, 10, 20, 30],\n",
       "                         'min_samples_leaf': [1, 2, 4, 6, 10],\n",
       "                         'min_samples_split': [2, 5, 10, 15],\n",
       "                         'n_estimators': [50, 100, 200]},\n",
       "             scoring='accuracy')"
      ]
     },
     "execution_count": 54,
     "metadata": {},
     "output_type": "execute_result"
    }
   ],
   "source": [
    "# GridSearchCV\n",
    "grid_search.fit(X_train, y_train)"
   ]
  },
  {
   "cell_type": "code",
   "execution_count": 55,
   "id": "-4R-TIKBNEvR",
   "metadata": {
    "id": "-4R-TIKBNEvR"
   },
   "outputs": [],
   "source": [
    "# Guardar el tiempo despues de ejecutar la funcion de entrenamiento\n",
    "end_time = time.time ()"
   ]
  },
  {
   "cell_type": "code",
   "execution_count": 56,
   "id": "CP0pwtPeNIMT",
   "metadata": {
    "id": "CP0pwtPeNIMT"
   },
   "outputs": [
    {
     "name": "stdout",
     "output_type": "stream",
     "text": [
      "El tiempo de CPU total es 360.85 segundos\n"
     ]
    }
   ],
   "source": [
    "# Calcular el tiempo de CPU total\n",
    "cpu_time = end_time - start_time\n",
    "# Mostrar e l tiempo de CPU total\n",
    "print(f\"El tiempo de CPU total es {cpu_time:.2f} segundos\")"
   ]
  },
  {
   "cell_type": "code",
   "execution_count": 57,
   "id": "350b0866",
   "metadata": {
    "id": "350b0866"
   },
   "outputs": [],
   "source": [
    "# mejor modelo\n",
    "best_rf = grid_search.best_estimator_"
   ]
  },
  {
   "cell_type": "code",
   "execution_count": 58,
   "id": "3f3df963",
   "metadata": {
    "id": "3f3df963",
    "outputId": "10e18ca2-5621-495c-9659-604199273782"
   },
   "outputs": [
    {
     "name": "stdout",
     "output_type": "stream",
     "text": [
      "Mejores parámetros encontrados:\n",
      "{'criterion': 'entropy', 'max_depth': 5, 'min_samples_leaf': 1, 'min_samples_split': 10, 'n_estimators': 50}\n",
      "Precisión del modelo en el conjunto de entrenamiento: 0.5254\n"
     ]
    }
   ],
   "source": [
    "print(\"Mejores parámetros encontrados:\")\n",
    "print(grid_search.best_params_)\n",
    "accuracy_train = best_rf.score(X_train, y_train)\n",
    "print(f\"Precisión del modelo en el conjunto de entrenamiento: {accuracy_train:.4f}\")"
   ]
  },
  {
   "cell_type": "code",
   "execution_count": 59,
   "id": "6f1b99cf-ad38-4e5a-a2ee-db6c9127e5bb",
   "metadata": {},
   "outputs": [],
   "source": [
    "# Realiza predicciones\n",
    "y_pred = best_rf.predict(X_test)\n",
    "y_pred_prob = best_rf.predict_proba(X_test)  # Probabilidades para AUC"
   ]
  },
  {
   "cell_type": "code",
   "execution_count": 60,
   "id": "d2353a0f-68e0-4eb9-89de-d4af3fea55d9",
   "metadata": {},
   "outputs": [
    {
     "name": "stdout",
     "output_type": "stream",
     "text": [
      "Precisión del modelo en el conjunto de prueba: 49.00%\n",
      "Precisión (Precision) en el conjunto de prueba: 39.35%\n",
      "Recuperación (Recall) en el conjunto de prueba: 49.00%\n",
      "F1-score en el conjunto de prueba: 42.03%\n",
      "AUC en el conjunto de prueba: 60.92%\n"
     ]
    }
   ],
   "source": [
    "accuracy = accuracy_score(y_test, y_pred)\n",
    "precision = precision_score(y_test, y_pred, average='weighted')\n",
    "recall = recall_score(y_test, y_pred, average='weighted')\n",
    "f1 = f1_score(y_test, y_pred, average='weighted')\n",
    "\n",
    "# AUC para cada clase y promedio ponderado\n",
    "auc = roc_auc_score(y_test, y_pred_prob, multi_class='ovr', average='weighted')\n",
    "\n",
    "print(\"Precisión del modelo en el conjunto de prueba: {:.2f}%\".format(accuracy * 100))\n",
    "print(\"Precisión (Precision) en el conjunto de prueba: {:.2f}%\".format(precision * 100))\n",
    "print(\"Recuperación (Recall) en el conjunto de prueba: {:.2f}%\".format(recall * 100))\n",
    "print(\"F1-score en el conjunto de prueba: {:.2f}%\".format(f1*100))\n",
    "print(\"AUC en el conjunto de prueba: {:.2f}%\".format(auc*100))"
   ]
  },
  {
   "cell_type": "code",
   "execution_count": 61,
   "id": "a2da0dc1",
   "metadata": {
    "id": "a2da0dc1",
    "outputId": "78b9483b-5fa5-453a-ec1f-c7348750e43a"
   },
   "outputs": [
    {
     "name": "stdout",
     "output_type": "stream",
     "text": [
      "Matriz de confusión:\n",
      "[[ 46   3  61]\n",
      " [ 25   1  74]\n",
      " [ 35   6 149]]\n"
     ]
    }
   ],
   "source": [
    "from sklearn.metrics import confusion_matrix\n",
    "\n",
    "conf_matrix = confusion_matrix(y_test, y_pred)\n",
    "print(\"Matriz de confusión:\")\n",
    "print(conf_matrix)"
   ]
  },
  {
   "cell_type": "markdown",
   "id": "e6bcda38-b14b-4012-9bcc-7b4b07a71f95",
   "metadata": {},
   "source": [
    "## Regresion logistica"
   ]
  },
  {
   "cell_type": "code",
   "execution_count": 62,
   "id": "00031694",
   "metadata": {
    "id": "00031694"
   },
   "outputs": [],
   "source": [
    "import pandas as pd\n",
    "from sklearn.model_selection import train_test_split\n",
    "from sklearn.linear_model import LogisticRegression\n",
    "from sklearn.model_selection import GridSearchCV, StratifiedKFold\n",
    "from sklearn.metrics import accuracy_score, confusion_matrix"
   ]
  },
  {
   "cell_type": "code",
   "execution_count": 63,
   "id": "a00a1048",
   "metadata": {
    "id": "a00a1048"
   },
   "outputs": [],
   "source": [
    "param_grid = {'penalty': [None],\n",
    "              'C': [1]}"
   ]
  },
  {
   "cell_type": "code",
   "execution_count": 64,
   "id": "8caf0601",
   "metadata": {
    "id": "8caf0601"
   },
   "outputs": [],
   "source": [
    "lr_clf = LogisticRegression(max_iter=1000, random_state=3)\n",
    "grid_search = GridSearchCV(estimator=lr_clf, param_grid=param_grid, cv=TimeSeriesSplit(n_splits=10),\n",
    "                           scoring='accuracy', n_jobs=-1)"
   ]
  },
  {
   "cell_type": "code",
   "execution_count": 65,
   "id": "1zOBHt47HdKf",
   "metadata": {
    "id": "1zOBHt47HdKf"
   },
   "outputs": [],
   "source": [
    "import time\n",
    "# Guardar e l tiempo antes de ejecutar la funcion de entrenamiento\n",
    "start_time = time.time()"
   ]
  },
  {
   "cell_type": "code",
   "execution_count": 66,
   "id": "29f2a941",
   "metadata": {
    "colab": {
     "base_uri": "https://localhost:8080/",
     "height": 117
    },
    "id": "29f2a941",
    "outputId": "dc274fae-9b9d-4214-a42d-4c49f1fb1e6f"
   },
   "outputs": [
    {
     "data": {
      "text/html": [
       "<style>#sk-container-id-4 {color: black;background-color: white;}#sk-container-id-4 pre{padding: 0;}#sk-container-id-4 div.sk-toggleable {background-color: white;}#sk-container-id-4 label.sk-toggleable__label {cursor: pointer;display: block;width: 100%;margin-bottom: 0;padding: 0.3em;box-sizing: border-box;text-align: center;}#sk-container-id-4 label.sk-toggleable__label-arrow:before {content: \"▸\";float: left;margin-right: 0.25em;color: #696969;}#sk-container-id-4 label.sk-toggleable__label-arrow:hover:before {color: black;}#sk-container-id-4 div.sk-estimator:hover label.sk-toggleable__label-arrow:before {color: black;}#sk-container-id-4 div.sk-toggleable__content {max-height: 0;max-width: 0;overflow: hidden;text-align: left;background-color: #f0f8ff;}#sk-container-id-4 div.sk-toggleable__content pre {margin: 0.2em;color: black;border-radius: 0.25em;background-color: #f0f8ff;}#sk-container-id-4 input.sk-toggleable__control:checked~div.sk-toggleable__content {max-height: 200px;max-width: 100%;overflow: auto;}#sk-container-id-4 input.sk-toggleable__control:checked~label.sk-toggleable__label-arrow:before {content: \"▾\";}#sk-container-id-4 div.sk-estimator input.sk-toggleable__control:checked~label.sk-toggleable__label {background-color: #d4ebff;}#sk-container-id-4 div.sk-label input.sk-toggleable__control:checked~label.sk-toggleable__label {background-color: #d4ebff;}#sk-container-id-4 input.sk-hidden--visually {border: 0;clip: rect(1px 1px 1px 1px);clip: rect(1px, 1px, 1px, 1px);height: 1px;margin: -1px;overflow: hidden;padding: 0;position: absolute;width: 1px;}#sk-container-id-4 div.sk-estimator {font-family: monospace;background-color: #f0f8ff;border: 1px dotted black;border-radius: 0.25em;box-sizing: border-box;margin-bottom: 0.5em;}#sk-container-id-4 div.sk-estimator:hover {background-color: #d4ebff;}#sk-container-id-4 div.sk-parallel-item::after {content: \"\";width: 100%;border-bottom: 1px solid gray;flex-grow: 1;}#sk-container-id-4 div.sk-label:hover label.sk-toggleable__label {background-color: #d4ebff;}#sk-container-id-4 div.sk-serial::before {content: \"\";position: absolute;border-left: 1px solid gray;box-sizing: border-box;top: 0;bottom: 0;left: 50%;z-index: 0;}#sk-container-id-4 div.sk-serial {display: flex;flex-direction: column;align-items: center;background-color: white;padding-right: 0.2em;padding-left: 0.2em;position: relative;}#sk-container-id-4 div.sk-item {position: relative;z-index: 1;}#sk-container-id-4 div.sk-parallel {display: flex;align-items: stretch;justify-content: center;background-color: white;position: relative;}#sk-container-id-4 div.sk-item::before, #sk-container-id-4 div.sk-parallel-item::before {content: \"\";position: absolute;border-left: 1px solid gray;box-sizing: border-box;top: 0;bottom: 0;left: 50%;z-index: -1;}#sk-container-id-4 div.sk-parallel-item {display: flex;flex-direction: column;z-index: 1;position: relative;background-color: white;}#sk-container-id-4 div.sk-parallel-item:first-child::after {align-self: flex-end;width: 50%;}#sk-container-id-4 div.sk-parallel-item:last-child::after {align-self: flex-start;width: 50%;}#sk-container-id-4 div.sk-parallel-item:only-child::after {width: 0;}#sk-container-id-4 div.sk-dashed-wrapped {border: 1px dashed gray;margin: 0 0.4em 0.5em 0.4em;box-sizing: border-box;padding-bottom: 0.4em;background-color: white;}#sk-container-id-4 div.sk-label label {font-family: monospace;font-weight: bold;display: inline-block;line-height: 1.2em;}#sk-container-id-4 div.sk-label-container {text-align: center;}#sk-container-id-4 div.sk-container {/* jupyter's `normalize.less` sets `[hidden] { display: none; }` but bootstrap.min.css set `[hidden] { display: none !important; }` so we also need the `!important` here to be able to override the default hidden behavior on the sphinx rendered scikit-learn.org. See: https://github.com/scikit-learn/scikit-learn/issues/21755 */display: inline-block !important;position: relative;}#sk-container-id-4 div.sk-text-repr-fallback {display: none;}</style><div id=\"sk-container-id-4\" class=\"sk-top-container\"><div class=\"sk-text-repr-fallback\"><pre>GridSearchCV(cv=TimeSeriesSplit(gap=0, max_train_size=None, n_splits=10, test_size=None),\n",
       "             estimator=LogisticRegression(max_iter=1000, random_state=3),\n",
       "             n_jobs=-1, param_grid={&#x27;C&#x27;: [1], &#x27;penalty&#x27;: [None]},\n",
       "             scoring=&#x27;accuracy&#x27;)</pre><b>In a Jupyter environment, please rerun this cell to show the HTML representation or trust the notebook. <br />On GitHub, the HTML representation is unable to render, please try loading this page with nbviewer.org.</b></div><div class=\"sk-container\" hidden><div class=\"sk-item sk-dashed-wrapped\"><div class=\"sk-label-container\"><div class=\"sk-label sk-toggleable\"><input class=\"sk-toggleable__control sk-hidden--visually\" id=\"sk-estimator-id-10\" type=\"checkbox\" ><label for=\"sk-estimator-id-10\" class=\"sk-toggleable__label sk-toggleable__label-arrow\">GridSearchCV</label><div class=\"sk-toggleable__content\"><pre>GridSearchCV(cv=TimeSeriesSplit(gap=0, max_train_size=None, n_splits=10, test_size=None),\n",
       "             estimator=LogisticRegression(max_iter=1000, random_state=3),\n",
       "             n_jobs=-1, param_grid={&#x27;C&#x27;: [1], &#x27;penalty&#x27;: [None]},\n",
       "             scoring=&#x27;accuracy&#x27;)</pre></div></div></div><div class=\"sk-parallel\"><div class=\"sk-parallel-item\"><div class=\"sk-item\"><div class=\"sk-label-container\"><div class=\"sk-label sk-toggleable\"><input class=\"sk-toggleable__control sk-hidden--visually\" id=\"sk-estimator-id-11\" type=\"checkbox\" ><label for=\"sk-estimator-id-11\" class=\"sk-toggleable__label sk-toggleable__label-arrow\">estimator: LogisticRegression</label><div class=\"sk-toggleable__content\"><pre>LogisticRegression(max_iter=1000, random_state=3)</pre></div></div></div><div class=\"sk-serial\"><div class=\"sk-item\"><div class=\"sk-estimator sk-toggleable\"><input class=\"sk-toggleable__control sk-hidden--visually\" id=\"sk-estimator-id-12\" type=\"checkbox\" ><label for=\"sk-estimator-id-12\" class=\"sk-toggleable__label sk-toggleable__label-arrow\">LogisticRegression</label><div class=\"sk-toggleable__content\"><pre>LogisticRegression(max_iter=1000, random_state=3)</pre></div></div></div></div></div></div></div></div></div></div>"
      ],
      "text/plain": [
       "GridSearchCV(cv=TimeSeriesSplit(gap=0, max_train_size=None, n_splits=10, test_size=None),\n",
       "             estimator=LogisticRegression(max_iter=1000, random_state=3),\n",
       "             n_jobs=-1, param_grid={'C': [1], 'penalty': [None]},\n",
       "             scoring='accuracy')"
      ]
     },
     "execution_count": 66,
     "metadata": {},
     "output_type": "execute_result"
    }
   ],
   "source": [
    "grid_search.fit(X_train, y_train)"
   ]
  },
  {
   "cell_type": "code",
   "execution_count": 67,
   "id": "fu1ZkoD6HiHf",
   "metadata": {
    "id": "fu1ZkoD6HiHf"
   },
   "outputs": [],
   "source": [
    "# Guardar el tiempo despues de ejecutar la funcion de entrenamiento\n",
    "end_time = time.time ()"
   ]
  },
  {
   "cell_type": "code",
   "execution_count": 68,
   "id": "7WsCXF4AHnNN",
   "metadata": {
    "colab": {
     "base_uri": "https://localhost:8080/"
    },
    "id": "7WsCXF4AHnNN",
    "outputId": "68a7d5a9-8ee0-46e4-e3f2-b8f4886d314d"
   },
   "outputs": [
    {
     "name": "stdout",
     "output_type": "stream",
     "text": [
      "El tiempo de CPU total es 0.14 segundos\n"
     ]
    }
   ],
   "source": [
    "# Calcular el tiempo de CPU total\n",
    "cpu_time = end_time - start_time\n",
    "# Mostrar e l tiempo de CPU total\n",
    "print(f\"El tiempo de CPU total es {cpu_time:.2f} segundos\")"
   ]
  },
  {
   "cell_type": "code",
   "execution_count": 69,
   "id": "8d7555c6",
   "metadata": {
    "colab": {
     "base_uri": "https://localhost:8080/"
    },
    "id": "8d7555c6",
    "outputId": "385b6786-4bc4-4bf0-c73f-2ac7b9cf1629"
   },
   "outputs": [
    {
     "name": "stdout",
     "output_type": "stream",
     "text": [
      "Mejor parámetro C encontrado: {'C': 1, 'penalty': None}\n",
      "Precisión del modelo en el conjunto de entrenamiento: 0.4846\n"
     ]
    }
   ],
   "source": [
    "best_lr = grid_search.best_estimator_\n",
    "print(\"Mejor parámetro C encontrado:\", grid_search.best_params_)\n",
    "accuracy_train = best_lr.score(X_train, y_train)\n",
    "print(f\"Precisión del modelo en el conjunto de entrenamiento: {accuracy_train:.4f}\")"
   ]
  },
  {
   "cell_type": "code",
   "execution_count": 70,
   "id": "14c8fc64",
   "metadata": {
    "colab": {
     "base_uri": "https://localhost:8080/"
    },
    "id": "14c8fc64",
    "outputId": "0997f92e-4c4b-4bc0-a8b4-92dd46ef74af"
   },
   "outputs": [
    {
     "name": "stdout",
     "output_type": "stream",
     "text": [
      "Precisión del modelo en el conjunto de prueba: 49.75%\n",
      "Precisión (Precision) en el conjunto de prueba: 45.07%\n",
      "Recuperación (Recall) en el conjunto de prueba: 49.75%\n",
      "F1-score en el conjunto de prueba: 42.14%\n",
      "AUC en el conjunto de prueba: 60.73%\n",
      "Matriz de confusión:\n",
      "[[ 45   1  64]\n",
      " [ 22   1  77]\n",
      " [ 36   1 153]]\n"
     ]
    }
   ],
   "source": [
    "y_pred = best_lr.predict(X_test)\n",
    "y_pred_prob = best_lr.predict_proba(X_test)  # Probabilidades para AUC\n",
    "\n",
    "accuracy = accuracy_score(y_test, y_pred)\n",
    "precision = precision_score(y_test, y_pred, average='weighted')\n",
    "recall = recall_score(y_test, y_pred, average='weighted')\n",
    "f1 = f1_score(y_test, y_pred, average='weighted')\n",
    "\n",
    "# AUC para cada clase y promedio ponderado\n",
    "from sklearn.metrics import roc_auc_score\n",
    "auc = roc_auc_score(y_test, y_pred_prob, multi_class='ovr', average='weighted')\n",
    "\n",
    "print(\"Precisión del modelo en el conjunto de prueba: {:.2f}%\".format(accuracy * 100))\n",
    "print(\"Precisión (Precision) en el conjunto de prueba: {:.2f}%\".format(precision * 100))\n",
    "print(\"Recuperación (Recall) en el conjunto de prueba: {:.2f}%\".format(recall * 100))\n",
    "print(\"F1-score en el conjunto de prueba: {:.2f}%\".format(f1*100))\n",
    "print(\"AUC en el conjunto de prueba: {:.2f}%\".format(auc*100))\n",
    "\n",
    "conf_matrix = confusion_matrix(y_test, y_pred)\n",
    "print(\"Matriz de confusión:\")\n",
    "print(conf_matrix)"
   ]
  },
  {
   "cell_type": "markdown",
   "id": "88b2039b",
   "metadata": {
    "id": "88b2039b"
   },
   "source": [
    "## 5. SVM\n",
    "1º kernel lineal"
   ]
  },
  {
   "cell_type": "code",
   "execution_count": 71,
   "id": "b7c00ed4-08bc-4b24-8c57-f06298b7772d",
   "metadata": {},
   "outputs": [],
   "source": [
    "import pandas as pd\n",
    "from sklearn.model_selection import train_test_split, GridSearchCV, TimeSeriesSplit\n",
    "from sklearn.svm import SVC\n",
    "from sklearn.metrics import make_scorer, accuracy_score, precision_score, recall_score, f1_score, mean_squared_error"
   ]
  },
  {
   "cell_type": "code",
   "execution_count": 72,
   "id": "fcd2a926-1dd2-4686-8aa9-4fe9cf3ee2b2",
   "metadata": {},
   "outputs": [],
   "source": [
    "param_grid = {\n",
    "    'C': [2**-5, 2**-4, 2**-3, 2**-2, 2**-1, 2**0, 2**1, 2**2, 2**3, 2**4, 2**5],\n",
    "    'kernel': ['linear']\n",
    "}"
   ]
  },
  {
   "cell_type": "code",
   "execution_count": 73,
   "id": "04b21aac",
   "metadata": {
    "id": "04b21aac"
   },
   "outputs": [],
   "source": [
    "svm_model = SVC(random_state=3, probability=True)"
   ]
  },
  {
   "cell_type": "code",
   "execution_count": 74,
   "id": "dfbd76e2",
   "metadata": {
    "id": "dfbd76e2"
   },
   "outputs": [],
   "source": [
    "grid_search_accur = GridSearchCV(estimator=svm_model, param_grid=param_grid, cv=TimeSeriesSplit(n_splits=4), scoring='accuracy')\n",
    "grid_search = GridSearchCV(estimator=svm_model, param_grid=param_grid, cv=TimeSeriesSplit(n_splits=4), scoring='accuracy')"
   ]
  },
  {
   "cell_type": "code",
   "execution_count": 75,
   "id": "ZZtM_5P1IYAZ",
   "metadata": {
    "id": "ZZtM_5P1IYAZ"
   },
   "outputs": [],
   "source": [
    "import time\n",
    "# Guardar e l tiempo antes de ejecutar la funcion de entrenamiento\n",
    "start_time = time.time()"
   ]
  },
  {
   "cell_type": "code",
   "execution_count": 76,
   "id": "iM99RzPxR98b",
   "metadata": {
    "colab": {
     "base_uri": "https://localhost:8080/",
     "height": 298
    },
    "id": "iM99RzPxR98b",
    "outputId": "735dcbe3-1d4a-44fe-e1a5-8fb5efbeda17"
   },
   "outputs": [
    {
     "data": {
      "text/html": [
       "<style>#sk-container-id-5 {color: black;background-color: white;}#sk-container-id-5 pre{padding: 0;}#sk-container-id-5 div.sk-toggleable {background-color: white;}#sk-container-id-5 label.sk-toggleable__label {cursor: pointer;display: block;width: 100%;margin-bottom: 0;padding: 0.3em;box-sizing: border-box;text-align: center;}#sk-container-id-5 label.sk-toggleable__label-arrow:before {content: \"▸\";float: left;margin-right: 0.25em;color: #696969;}#sk-container-id-5 label.sk-toggleable__label-arrow:hover:before {color: black;}#sk-container-id-5 div.sk-estimator:hover label.sk-toggleable__label-arrow:before {color: black;}#sk-container-id-5 div.sk-toggleable__content {max-height: 0;max-width: 0;overflow: hidden;text-align: left;background-color: #f0f8ff;}#sk-container-id-5 div.sk-toggleable__content pre {margin: 0.2em;color: black;border-radius: 0.25em;background-color: #f0f8ff;}#sk-container-id-5 input.sk-toggleable__control:checked~div.sk-toggleable__content {max-height: 200px;max-width: 100%;overflow: auto;}#sk-container-id-5 input.sk-toggleable__control:checked~label.sk-toggleable__label-arrow:before {content: \"▾\";}#sk-container-id-5 div.sk-estimator input.sk-toggleable__control:checked~label.sk-toggleable__label {background-color: #d4ebff;}#sk-container-id-5 div.sk-label input.sk-toggleable__control:checked~label.sk-toggleable__label {background-color: #d4ebff;}#sk-container-id-5 input.sk-hidden--visually {border: 0;clip: rect(1px 1px 1px 1px);clip: rect(1px, 1px, 1px, 1px);height: 1px;margin: -1px;overflow: hidden;padding: 0;position: absolute;width: 1px;}#sk-container-id-5 div.sk-estimator {font-family: monospace;background-color: #f0f8ff;border: 1px dotted black;border-radius: 0.25em;box-sizing: border-box;margin-bottom: 0.5em;}#sk-container-id-5 div.sk-estimator:hover {background-color: #d4ebff;}#sk-container-id-5 div.sk-parallel-item::after {content: \"\";width: 100%;border-bottom: 1px solid gray;flex-grow: 1;}#sk-container-id-5 div.sk-label:hover label.sk-toggleable__label {background-color: #d4ebff;}#sk-container-id-5 div.sk-serial::before {content: \"\";position: absolute;border-left: 1px solid gray;box-sizing: border-box;top: 0;bottom: 0;left: 50%;z-index: 0;}#sk-container-id-5 div.sk-serial {display: flex;flex-direction: column;align-items: center;background-color: white;padding-right: 0.2em;padding-left: 0.2em;position: relative;}#sk-container-id-5 div.sk-item {position: relative;z-index: 1;}#sk-container-id-5 div.sk-parallel {display: flex;align-items: stretch;justify-content: center;background-color: white;position: relative;}#sk-container-id-5 div.sk-item::before, #sk-container-id-5 div.sk-parallel-item::before {content: \"\";position: absolute;border-left: 1px solid gray;box-sizing: border-box;top: 0;bottom: 0;left: 50%;z-index: -1;}#sk-container-id-5 div.sk-parallel-item {display: flex;flex-direction: column;z-index: 1;position: relative;background-color: white;}#sk-container-id-5 div.sk-parallel-item:first-child::after {align-self: flex-end;width: 50%;}#sk-container-id-5 div.sk-parallel-item:last-child::after {align-self: flex-start;width: 50%;}#sk-container-id-5 div.sk-parallel-item:only-child::after {width: 0;}#sk-container-id-5 div.sk-dashed-wrapped {border: 1px dashed gray;margin: 0 0.4em 0.5em 0.4em;box-sizing: border-box;padding-bottom: 0.4em;background-color: white;}#sk-container-id-5 div.sk-label label {font-family: monospace;font-weight: bold;display: inline-block;line-height: 1.2em;}#sk-container-id-5 div.sk-label-container {text-align: center;}#sk-container-id-5 div.sk-container {/* jupyter's `normalize.less` sets `[hidden] { display: none; }` but bootstrap.min.css set `[hidden] { display: none !important; }` so we also need the `!important` here to be able to override the default hidden behavior on the sphinx rendered scikit-learn.org. See: https://github.com/scikit-learn/scikit-learn/issues/21755 */display: inline-block !important;position: relative;}#sk-container-id-5 div.sk-text-repr-fallback {display: none;}</style><div id=\"sk-container-id-5\" class=\"sk-top-container\"><div class=\"sk-text-repr-fallback\"><pre>GridSearchCV(cv=TimeSeriesSplit(gap=0, max_train_size=None, n_splits=4, test_size=None),\n",
       "             estimator=SVC(probability=True, random_state=3),\n",
       "             param_grid={&#x27;C&#x27;: [0.03125, 0.0625, 0.125, 0.25, 0.5, 1, 2, 4, 8,\n",
       "                               16, 32],\n",
       "                         &#x27;kernel&#x27;: [&#x27;linear&#x27;]},\n",
       "             scoring=&#x27;accuracy&#x27;)</pre><b>In a Jupyter environment, please rerun this cell to show the HTML representation or trust the notebook. <br />On GitHub, the HTML representation is unable to render, please try loading this page with nbviewer.org.</b></div><div class=\"sk-container\" hidden><div class=\"sk-item sk-dashed-wrapped\"><div class=\"sk-label-container\"><div class=\"sk-label sk-toggleable\"><input class=\"sk-toggleable__control sk-hidden--visually\" id=\"sk-estimator-id-13\" type=\"checkbox\" ><label for=\"sk-estimator-id-13\" class=\"sk-toggleable__label sk-toggleable__label-arrow\">GridSearchCV</label><div class=\"sk-toggleable__content\"><pre>GridSearchCV(cv=TimeSeriesSplit(gap=0, max_train_size=None, n_splits=4, test_size=None),\n",
       "             estimator=SVC(probability=True, random_state=3),\n",
       "             param_grid={&#x27;C&#x27;: [0.03125, 0.0625, 0.125, 0.25, 0.5, 1, 2, 4, 8,\n",
       "                               16, 32],\n",
       "                         &#x27;kernel&#x27;: [&#x27;linear&#x27;]},\n",
       "             scoring=&#x27;accuracy&#x27;)</pre></div></div></div><div class=\"sk-parallel\"><div class=\"sk-parallel-item\"><div class=\"sk-item\"><div class=\"sk-label-container\"><div class=\"sk-label sk-toggleable\"><input class=\"sk-toggleable__control sk-hidden--visually\" id=\"sk-estimator-id-14\" type=\"checkbox\" ><label for=\"sk-estimator-id-14\" class=\"sk-toggleable__label sk-toggleable__label-arrow\">estimator: SVC</label><div class=\"sk-toggleable__content\"><pre>SVC(probability=True, random_state=3)</pre></div></div></div><div class=\"sk-serial\"><div class=\"sk-item\"><div class=\"sk-estimator sk-toggleable\"><input class=\"sk-toggleable__control sk-hidden--visually\" id=\"sk-estimator-id-15\" type=\"checkbox\" ><label for=\"sk-estimator-id-15\" class=\"sk-toggleable__label sk-toggleable__label-arrow\">SVC</label><div class=\"sk-toggleable__content\"><pre>SVC(probability=True, random_state=3)</pre></div></div></div></div></div></div></div></div></div></div>"
      ],
      "text/plain": [
       "GridSearchCV(cv=TimeSeriesSplit(gap=0, max_train_size=None, n_splits=4, test_size=None),\n",
       "             estimator=SVC(probability=True, random_state=3),\n",
       "             param_grid={'C': [0.03125, 0.0625, 0.125, 0.25, 0.5, 1, 2, 4, 8,\n",
       "                               16, 32],\n",
       "                         'kernel': ['linear']},\n",
       "             scoring='accuracy')"
      ]
     },
     "execution_count": 76,
     "metadata": {},
     "output_type": "execute_result"
    }
   ],
   "source": [
    "grid_search.fit(X_train, y_train)"
   ]
  },
  {
   "cell_type": "code",
   "execution_count": 77,
   "id": "570760c8-4103-4fa2-9ae4-d3a8d71a9521",
   "metadata": {},
   "outputs": [],
   "source": [
    "# Guardar el tiempo despues de ejecutar la funcion de entrenamiento\n",
    "end_time = time.time ()"
   ]
  },
  {
   "cell_type": "code",
   "execution_count": 78,
   "id": "d0b91d76-5518-4c14-9174-5481e2c52ea6",
   "metadata": {},
   "outputs": [
    {
     "name": "stdout",
     "output_type": "stream",
     "text": [
      "El tiempo de CPU total es 230.79 segundos\n"
     ]
    }
   ],
   "source": [
    "# Calcular el tiempo de CPU total\n",
    "cpu_time = end_time - start_time\n",
    "# Mostrar e l tiempo de CPU total\n",
    "print(f\"El tiempo de CPU total es {cpu_time:.2f} segundos\")"
   ]
  },
  {
   "cell_type": "code",
   "execution_count": 79,
   "id": "2FspE5gnSiFH",
   "metadata": {
    "colab": {
     "base_uri": "https://localhost:8080/"
    },
    "id": "2FspE5gnSiFH",
    "outputId": "440d6113-8b01-4274-9d81-ef90f4b39f85"
   },
   "outputs": [
    {
     "name": "stdout",
     "output_type": "stream",
     "text": [
      "Mejores parámetros encontrados:\n",
      "{'C': 4, 'kernel': 'linear'}\n",
      "Precisión del modelo en el conjunto de entrenamiento: 0.4812\n"
     ]
    }
   ],
   "source": [
    "print(\"Mejores parámetros encontrados:\")\n",
    "best_svm_model_lineal = grid_search.best_estimator_\n",
    "print(grid_search.best_params_)\n",
    "accuracy_train = best_svm_model_lineal.score(X_train, y_train)\n",
    "print(f\"Precisión del modelo en el conjunto de entrenamiento: {accuracy_train:.4f}\")"
   ]
  },
  {
   "cell_type": "code",
   "execution_count": 80,
   "id": "sf4mdxPGihyu",
   "metadata": {
    "id": "sf4mdxPGihyu"
   },
   "outputs": [],
   "source": [
    "best_svm_model_lineal = grid_search.best_estimator_\n",
    "y_pred = best_svm_model_lineal.predict(X_test)\n",
    "y_pred_prob = best_svm_model_lineal.predict_proba(X_test)  # Probabilidades para AUC"
   ]
  },
  {
   "cell_type": "code",
   "execution_count": 81,
   "id": "NL_ToO77imZP",
   "metadata": {
    "colab": {
     "base_uri": "https://localhost:8080/"
    },
    "id": "NL_ToO77imZP",
    "outputId": "9f6085e4-f602-428e-e760-404cb297cba5"
   },
   "outputs": [
    {
     "name": "stdout",
     "output_type": "stream",
     "text": [
      "Accuracy: 49.75%\n",
      "Precisión del modelo en el conjunto de prueba: 49.75%\n",
      "Precisión (Precision) en el conjunto de prueba: 36.80%\n",
      "Recuperación (Recall) en el conjunto de prueba: 49.75%\n",
      "F1-score en el conjunto de prueba: 41.64%\n",
      "AUC en el conjunto de prueba: 58.55%\n"
     ]
    },
    {
     "name": "stderr",
     "output_type": "stream",
     "text": [
      "C:\\ProgramData\\anaconda3\\Lib\\site-packages\\sklearn\\metrics\\_classification.py:1344: UndefinedMetricWarning: Precision is ill-defined and being set to 0.0 in labels with no predicted samples. Use `zero_division` parameter to control this behavior.\n",
      "  _warn_prf(average, modifier, msg_start, len(result))\n"
     ]
    }
   ],
   "source": [
    "accuracy = accuracy_score(y_test, y_pred)\n",
    "print(f'Accuracy: {accuracy * 100:.2f}%')\n",
    "\n",
    "\n",
    "accuracy = accuracy_score(y_test, y_pred)\n",
    "precision = precision_score(y_test, y_pred, average='weighted')\n",
    "recall = recall_score(y_test, y_pred, average='weighted')\n",
    "f1 = f1_score(y_test, y_pred, average='weighted')\n",
    "\n",
    "# AUC para cada clase y promedio ponderado\n",
    "auc = roc_auc_score(y_test, y_pred_prob, multi_class='ovr', average='weighted')\n",
    "\n",
    "print(\"Precisión del modelo en el conjunto de prueba: {:.2f}%\".format(accuracy * 100))\n",
    "print(\"Precisión (Precision) en el conjunto de prueba: {:.2f}%\".format(precision * 100))\n",
    "print(\"Recuperación (Recall) en el conjunto de prueba: {:.2f}%\".format(recall * 100))\n",
    "print(\"F1-score en el conjunto de prueba: {:.2f}%\".format(f1*100))\n",
    "print(\"AUC en el conjunto de prueba: {:.2f}%\".format(auc*100))\n"
   ]
  },
  {
   "cell_type": "code",
   "execution_count": 82,
   "id": "CnbWybwsivMZ",
   "metadata": {
    "colab": {
     "base_uri": "https://localhost:8080/"
    },
    "id": "CnbWybwsivMZ",
    "outputId": "8278befc-4241-4cc2-c68e-d3a7aa0984e2"
   },
   "outputs": [
    {
     "name": "stdout",
     "output_type": "stream",
     "text": [
      "Confusion Matrix:\n",
      "[[ 45   0  65]\n",
      " [ 18   0  82]\n",
      " [ 36   0 154]]\n"
     ]
    }
   ],
   "source": [
    "conf_matrix = confusion_matrix(y_test, y_pred)\n",
    "print('Confusion Matrix:')\n",
    "print(conf_matrix)"
   ]
  },
  {
   "cell_type": "markdown",
   "id": "f_KdAwlP5Uid",
   "metadata": {
    "id": "f_KdAwlP5Uid"
   },
   "source": [
    "2º kernel rbf: Gausiano"
   ]
  },
  {
   "cell_type": "code",
   "execution_count": 83,
   "id": "29f6aa9c-24e0-4366-ab4d-9e964627ae9e",
   "metadata": {},
   "outputs": [],
   "source": [
    "import pandas as pd\n",
    "from sklearn.model_selection import train_test_split, GridSearchCV, TimeSeriesSplit\n",
    "from sklearn.svm import SVC\n",
    "import numpy as np\n",
    "from sklearn.metrics import make_scorer, accuracy_score, precision_score, recall_score, f1_score"
   ]
  },
  {
   "cell_type": "markdown",
   "id": "f8008c30-8b34-4f9a-8cd9-94d82dbd3785",
   "metadata": {},
   "source": [
    "Solo con accuracy"
   ]
  },
  {
   "cell_type": "code",
   "execution_count": 84,
   "id": "51gX8bHyjKnx",
   "metadata": {
    "id": "51gX8bHyjKnx"
   },
   "outputs": [],
   "source": [
    "param_grid = {\n",
    "    'C': [2**-5, 2**-4, 2**-3, 2**-2, 2**-1, 2**0, 2**1, 2**2, 2**3, 2**4, 2**5],\n",
    "    'gamma': [2**-5, 2**-4, 2**-3, 2**-2, 2**-1, 2**0, 2**1, 2**2, 2**3, 2**4, 2**5],\n",
    "    'kernel': ['rbf']\n",
    "}"
   ]
  },
  {
   "cell_type": "code",
   "execution_count": 85,
   "id": "jT1JOEQtjfgv",
   "metadata": {
    "id": "jT1JOEQtjfgv"
   },
   "outputs": [],
   "source": [
    "svm_model = SVC(probability=True)\n",
    "\n",
    "grid_search = GridSearchCV(estimator=svm_model, param_grid=param_grid, cv=TimeSeriesSplit(n_splits=4), scoring='accuracy')"
   ]
  },
  {
   "cell_type": "code",
   "execution_count": 86,
   "id": "EUJLDornOyK6",
   "metadata": {
    "id": "EUJLDornOyK6"
   },
   "outputs": [],
   "source": [
    "import time\n",
    "# Guardar e l tiempo antes de ejecutar la funcion de entrenamiento\n",
    "start_time = time.time()"
   ]
  },
  {
   "cell_type": "code",
   "execution_count": 87,
   "id": "CZH8vU4iOxRQ",
   "metadata": {
    "colab": {
     "base_uri": "https://localhost:8080/",
     "height": 117
    },
    "id": "CZH8vU4iOxRQ",
    "outputId": "95390f21-27c3-4c7b-e68e-5a97b6585423"
   },
   "outputs": [
    {
     "data": {
      "text/html": [
       "<style>#sk-container-id-6 {color: black;background-color: white;}#sk-container-id-6 pre{padding: 0;}#sk-container-id-6 div.sk-toggleable {background-color: white;}#sk-container-id-6 label.sk-toggleable__label {cursor: pointer;display: block;width: 100%;margin-bottom: 0;padding: 0.3em;box-sizing: border-box;text-align: center;}#sk-container-id-6 label.sk-toggleable__label-arrow:before {content: \"▸\";float: left;margin-right: 0.25em;color: #696969;}#sk-container-id-6 label.sk-toggleable__label-arrow:hover:before {color: black;}#sk-container-id-6 div.sk-estimator:hover label.sk-toggleable__label-arrow:before {color: black;}#sk-container-id-6 div.sk-toggleable__content {max-height: 0;max-width: 0;overflow: hidden;text-align: left;background-color: #f0f8ff;}#sk-container-id-6 div.sk-toggleable__content pre {margin: 0.2em;color: black;border-radius: 0.25em;background-color: #f0f8ff;}#sk-container-id-6 input.sk-toggleable__control:checked~div.sk-toggleable__content {max-height: 200px;max-width: 100%;overflow: auto;}#sk-container-id-6 input.sk-toggleable__control:checked~label.sk-toggleable__label-arrow:before {content: \"▾\";}#sk-container-id-6 div.sk-estimator input.sk-toggleable__control:checked~label.sk-toggleable__label {background-color: #d4ebff;}#sk-container-id-6 div.sk-label input.sk-toggleable__control:checked~label.sk-toggleable__label {background-color: #d4ebff;}#sk-container-id-6 input.sk-hidden--visually {border: 0;clip: rect(1px 1px 1px 1px);clip: rect(1px, 1px, 1px, 1px);height: 1px;margin: -1px;overflow: hidden;padding: 0;position: absolute;width: 1px;}#sk-container-id-6 div.sk-estimator {font-family: monospace;background-color: #f0f8ff;border: 1px dotted black;border-radius: 0.25em;box-sizing: border-box;margin-bottom: 0.5em;}#sk-container-id-6 div.sk-estimator:hover {background-color: #d4ebff;}#sk-container-id-6 div.sk-parallel-item::after {content: \"\";width: 100%;border-bottom: 1px solid gray;flex-grow: 1;}#sk-container-id-6 div.sk-label:hover label.sk-toggleable__label {background-color: #d4ebff;}#sk-container-id-6 div.sk-serial::before {content: \"\";position: absolute;border-left: 1px solid gray;box-sizing: border-box;top: 0;bottom: 0;left: 50%;z-index: 0;}#sk-container-id-6 div.sk-serial {display: flex;flex-direction: column;align-items: center;background-color: white;padding-right: 0.2em;padding-left: 0.2em;position: relative;}#sk-container-id-6 div.sk-item {position: relative;z-index: 1;}#sk-container-id-6 div.sk-parallel {display: flex;align-items: stretch;justify-content: center;background-color: white;position: relative;}#sk-container-id-6 div.sk-item::before, #sk-container-id-6 div.sk-parallel-item::before {content: \"\";position: absolute;border-left: 1px solid gray;box-sizing: border-box;top: 0;bottom: 0;left: 50%;z-index: -1;}#sk-container-id-6 div.sk-parallel-item {display: flex;flex-direction: column;z-index: 1;position: relative;background-color: white;}#sk-container-id-6 div.sk-parallel-item:first-child::after {align-self: flex-end;width: 50%;}#sk-container-id-6 div.sk-parallel-item:last-child::after {align-self: flex-start;width: 50%;}#sk-container-id-6 div.sk-parallel-item:only-child::after {width: 0;}#sk-container-id-6 div.sk-dashed-wrapped {border: 1px dashed gray;margin: 0 0.4em 0.5em 0.4em;box-sizing: border-box;padding-bottom: 0.4em;background-color: white;}#sk-container-id-6 div.sk-label label {font-family: monospace;font-weight: bold;display: inline-block;line-height: 1.2em;}#sk-container-id-6 div.sk-label-container {text-align: center;}#sk-container-id-6 div.sk-container {/* jupyter's `normalize.less` sets `[hidden] { display: none; }` but bootstrap.min.css set `[hidden] { display: none !important; }` so we also need the `!important` here to be able to override the default hidden behavior on the sphinx rendered scikit-learn.org. See: https://github.com/scikit-learn/scikit-learn/issues/21755 */display: inline-block !important;position: relative;}#sk-container-id-6 div.sk-text-repr-fallback {display: none;}</style><div id=\"sk-container-id-6\" class=\"sk-top-container\"><div class=\"sk-text-repr-fallback\"><pre>GridSearchCV(cv=TimeSeriesSplit(gap=0, max_train_size=None, n_splits=4, test_size=None),\n",
       "             estimator=SVC(probability=True),\n",
       "             param_grid={&#x27;C&#x27;: [0.03125, 0.0625, 0.125, 0.25, 0.5, 1, 2, 4, 8,\n",
       "                               16, 32],\n",
       "                         &#x27;gamma&#x27;: [0.03125, 0.0625, 0.125, 0.25, 0.5, 1, 2, 4,\n",
       "                                   8, 16, 32],\n",
       "                         &#x27;kernel&#x27;: [&#x27;rbf&#x27;]},\n",
       "             scoring=&#x27;accuracy&#x27;)</pre><b>In a Jupyter environment, please rerun this cell to show the HTML representation or trust the notebook. <br />On GitHub, the HTML representation is unable to render, please try loading this page with nbviewer.org.</b></div><div class=\"sk-container\" hidden><div class=\"sk-item sk-dashed-wrapped\"><div class=\"sk-label-container\"><div class=\"sk-label sk-toggleable\"><input class=\"sk-toggleable__control sk-hidden--visually\" id=\"sk-estimator-id-16\" type=\"checkbox\" ><label for=\"sk-estimator-id-16\" class=\"sk-toggleable__label sk-toggleable__label-arrow\">GridSearchCV</label><div class=\"sk-toggleable__content\"><pre>GridSearchCV(cv=TimeSeriesSplit(gap=0, max_train_size=None, n_splits=4, test_size=None),\n",
       "             estimator=SVC(probability=True),\n",
       "             param_grid={&#x27;C&#x27;: [0.03125, 0.0625, 0.125, 0.25, 0.5, 1, 2, 4, 8,\n",
       "                               16, 32],\n",
       "                         &#x27;gamma&#x27;: [0.03125, 0.0625, 0.125, 0.25, 0.5, 1, 2, 4,\n",
       "                                   8, 16, 32],\n",
       "                         &#x27;kernel&#x27;: [&#x27;rbf&#x27;]},\n",
       "             scoring=&#x27;accuracy&#x27;)</pre></div></div></div><div class=\"sk-parallel\"><div class=\"sk-parallel-item\"><div class=\"sk-item\"><div class=\"sk-label-container\"><div class=\"sk-label sk-toggleable\"><input class=\"sk-toggleable__control sk-hidden--visually\" id=\"sk-estimator-id-17\" type=\"checkbox\" ><label for=\"sk-estimator-id-17\" class=\"sk-toggleable__label sk-toggleable__label-arrow\">estimator: SVC</label><div class=\"sk-toggleable__content\"><pre>SVC(probability=True)</pre></div></div></div><div class=\"sk-serial\"><div class=\"sk-item\"><div class=\"sk-estimator sk-toggleable\"><input class=\"sk-toggleable__control sk-hidden--visually\" id=\"sk-estimator-id-18\" type=\"checkbox\" ><label for=\"sk-estimator-id-18\" class=\"sk-toggleable__label sk-toggleable__label-arrow\">SVC</label><div class=\"sk-toggleable__content\"><pre>SVC(probability=True)</pre></div></div></div></div></div></div></div></div></div></div>"
      ],
      "text/plain": [
       "GridSearchCV(cv=TimeSeriesSplit(gap=0, max_train_size=None, n_splits=4, test_size=None),\n",
       "             estimator=SVC(probability=True),\n",
       "             param_grid={'C': [0.03125, 0.0625, 0.125, 0.25, 0.5, 1, 2, 4, 8,\n",
       "                               16, 32],\n",
       "                         'gamma': [0.03125, 0.0625, 0.125, 0.25, 0.5, 1, 2, 4,\n",
       "                                   8, 16, 32],\n",
       "                         'kernel': ['rbf']},\n",
       "             scoring='accuracy')"
      ]
     },
     "execution_count": 87,
     "metadata": {},
     "output_type": "execute_result"
    }
   ],
   "source": [
    "grid_search.fit(X_train, y_train)"
   ]
  },
  {
   "cell_type": "code",
   "execution_count": 88,
   "id": "Sts2y3TNO1bo",
   "metadata": {
    "id": "Sts2y3TNO1bo"
   },
   "outputs": [],
   "source": [
    "# Guardar el tiempo despues de ejecutar la funcion de entrenamiento\n",
    "end_time = time.time ()"
   ]
  },
  {
   "cell_type": "code",
   "execution_count": 89,
   "id": "4c446l3dO5Yf",
   "metadata": {
    "colab": {
     "base_uri": "https://localhost:8080/"
    },
    "id": "4c446l3dO5Yf",
    "outputId": "24025289-a25d-4541-e2e6-fdb87f8c9bbc"
   },
   "outputs": [
    {
     "name": "stdout",
     "output_type": "stream",
     "text": [
      "El tiempo de CPU total es 87.63 segundos\n"
     ]
    }
   ],
   "source": [
    "# Calcular el tiempo de CPU total\n",
    "cpu_time = end_time - start_time\n",
    "# Mostrar e l tiempo de CPU total\n",
    "print(f\"El tiempo de CPU total es {cpu_time:.2f} segundos\")"
   ]
  },
  {
   "cell_type": "code",
   "execution_count": 90,
   "id": "uRPNsMmejzy0",
   "metadata": {
    "colab": {
     "base_uri": "https://localhost:8080/"
    },
    "id": "uRPNsMmejzy0",
    "outputId": "fbe6d4c5-6481-4275-b3d5-575780b1e7f0"
   },
   "outputs": [
    {
     "name": "stdout",
     "output_type": "stream",
     "text": [
      "Mejores parámetros encontrados:\n",
      "{'C': 2, 'gamma': 0.03125, 'kernel': 'rbf'}\n",
      "Precisión del modelo en el conjunto de entrenamiento: 0.4929\n"
     ]
    }
   ],
   "source": [
    "print(\"Mejores parámetros encontrados:\")\n",
    "print(grid_search.best_params_)\n",
    "accuracy_train = best_dt.score(X_train, y_train)\n",
    "print(f\"Precisión del modelo en el conjunto de entrenamiento: {accuracy_train:.4f}\")"
   ]
  },
  {
   "cell_type": "code",
   "execution_count": 91,
   "id": "MZjgOVerlBnO",
   "metadata": {
    "id": "MZjgOVerlBnO"
   },
   "outputs": [],
   "source": [
    "best_svm_model_gau = grid_search.best_estimator_\n",
    "y_pred = best_svm_model_gau.predict(X_test)\n",
    "y_pred_prob = best_svm_model_gau.predict_proba(X_test)  # Probabilidades para AUC"
   ]
  },
  {
   "cell_type": "code",
   "execution_count": 92,
   "id": "1OgAfA9RlESr",
   "metadata": {
    "colab": {
     "base_uri": "https://localhost:8080/"
    },
    "id": "1OgAfA9RlESr",
    "outputId": "391fccd2-386f-420c-dc56-eb04c3dc0d95"
   },
   "outputs": [
    {
     "name": "stdout",
     "output_type": "stream",
     "text": [
      "Accuracy: 50.75%\n",
      "Precisión del modelo en el conjunto de prueba: 50.75%\n",
      "Precisión (Precision) en el conjunto de prueba: 46.64%\n",
      "Recuperación (Recall) en el conjunto de prueba: 50.75%\n",
      "F1-score en el conjunto de prueba: 45.12%\n",
      "AUC en el conjunto de prueba: 58.58%\n"
     ]
    }
   ],
   "source": [
    "accuracy = accuracy_score(y_test, y_pred)\n",
    "print(f'Accuracy: {accuracy * 100:.2f}%')\n",
    "\n",
    "accuracy = accuracy_score(y_test, y_pred)\n",
    "precision = precision_score(y_test, y_pred, average='weighted')\n",
    "recall = recall_score(y_test, y_pred, average='weighted')\n",
    "f1 = f1_score(y_test, y_pred, average='weighted')\n",
    "\n",
    "# AUC para cada clase y promedio ponderado\n",
    "auc = roc_auc_score(y_test, y_pred_prob, multi_class='ovr', average='weighted')\n",
    "\n",
    "print(\"Precisión del modelo en el conjunto de prueba: {:.2f}%\".format(accuracy * 100))\n",
    "print(\"Precisión (Precision) en el conjunto de prueba: {:.2f}%\".format(precision * 100))\n",
    "print(\"Recuperación (Recall) en el conjunto de prueba: {:.2f}%\".format(recall * 100))\n",
    "print(\"F1-score en el conjunto de prueba: {:.2f}%\".format(f1*100))\n",
    "print(\"AUC en el conjunto de prueba: {:.2f}%\".format(auc*100))"
   ]
  },
  {
   "cell_type": "code",
   "execution_count": 93,
   "id": "2Jf6MLdvlG3g",
   "metadata": {
    "colab": {
     "base_uri": "https://localhost:8080/"
    },
    "id": "2Jf6MLdvlG3g",
    "outputId": "66fe0343-e216-43b6-cda7-07a96fc3d817"
   },
   "outputs": [
    {
     "name": "stdout",
     "output_type": "stream",
     "text": [
      "Confusion Matrix:\n",
      "[[ 40   7  63]\n",
      " [ 18   8  74]\n",
      " [ 26   9 155]]\n"
     ]
    }
   ],
   "source": [
    "conf_matrix = confusion_matrix(y_test, y_pred)\n",
    "print('Confusion Matrix:')\n",
    "print(conf_matrix)"
   ]
  },
  {
   "cell_type": "markdown",
   "id": "99d94b0f",
   "metadata": {
    "id": "99d94b0f"
   },
   "source": [
    "## 6. Redes Neuronales"
   ]
  },
  {
   "cell_type": "code",
   "execution_count": 94,
   "id": "340175d7",
   "metadata": {
    "id": "340175d7"
   },
   "outputs": [],
   "source": [
    "import pandas as pd\n",
    "from sklearn.model_selection import train_test_split\n",
    "from sklearn.preprocessing import LabelEncoder\n",
    "from sklearn.metrics import accuracy_score, confusion_matrix\n",
    "from sklearn.preprocessing import StandardScaler\n",
    "from sklearn.neural_network import MLPClassifier\n",
    "import seaborn as sns\n",
    "import matplotlib.pyplot as plt\n",
    "from sklearn.model_selection import GridSearchCV\n",
    "from scipy.stats import uniform\n",
    "from sklearn.metrics import accuracy_score, precision_score, recall_score, f1_score, roc_auc_score"
   ]
  },
  {
   "cell_type": "code",
   "execution_count": 95,
   "id": "rVht7KGYeaIX",
   "metadata": {
    "id": "rVht7KGYeaIX"
   },
   "outputs": [],
   "source": [
    "param_grid = {\n",
    "    'hidden_layer_sizes': [(100,), (100, 50), (50,)],\n",
    "    'activation': ['logistic'],\n",
    "    'solver': ['adam'],\n",
    "    'max_iter': [200, 500, 1000],\n",
    "}"
   ]
  },
  {
   "cell_type": "code",
   "execution_count": 96,
   "id": "fDhZ8u4Qehuo",
   "metadata": {
    "id": "fDhZ8u4Qehuo"
   },
   "outputs": [],
   "source": [
    "# clasificador MLP\n",
    "mlp_classifier = MLPClassifier()"
   ]
  },
  {
   "cell_type": "code",
   "execution_count": 97,
   "id": "e1297be3",
   "metadata": {
    "id": "e1297be3"
   },
   "outputs": [],
   "source": [
    "scaler = StandardScaler()\n",
    "X_train_scaled = scaler.fit_transform(X_train)\n",
    "X_test_scaled = scaler.transform(X_test)"
   ]
  },
  {
   "cell_type": "code",
   "execution_count": 98,
   "id": "n_GyXfI3eqWt",
   "metadata": {
    "colab": {
     "base_uri": "https://localhost:8080/",
     "height": 1000
    },
    "id": "n_GyXfI3eqWt",
    "outputId": "1beb1ce3-0c1f-4c93-d4b2-f17f03835d76"
   },
   "outputs": [
    {
     "name": "stderr",
     "output_type": "stream",
     "text": [
      "C:\\ProgramData\\anaconda3\\Lib\\site-packages\\sklearn\\neural_network\\_multilayer_perceptron.py:686: ConvergenceWarning: Stochastic Optimizer: Maximum iterations (200) reached and the optimization hasn't converged yet.\n",
      "  warnings.warn(\n",
      "C:\\ProgramData\\anaconda3\\Lib\\site-packages\\sklearn\\neural_network\\_multilayer_perceptron.py:686: ConvergenceWarning: Stochastic Optimizer: Maximum iterations (500) reached and the optimization hasn't converged yet.\n",
      "  warnings.warn(\n",
      "C:\\ProgramData\\anaconda3\\Lib\\site-packages\\sklearn\\neural_network\\_multilayer_perceptron.py:686: ConvergenceWarning: Stochastic Optimizer: Maximum iterations (1000) reached and the optimization hasn't converged yet.\n",
      "  warnings.warn(\n",
      "C:\\ProgramData\\anaconda3\\Lib\\site-packages\\sklearn\\neural_network\\_multilayer_perceptron.py:686: ConvergenceWarning: Stochastic Optimizer: Maximum iterations (200) reached and the optimization hasn't converged yet.\n",
      "  warnings.warn(\n",
      "C:\\ProgramData\\anaconda3\\Lib\\site-packages\\sklearn\\neural_network\\_multilayer_perceptron.py:686: ConvergenceWarning: Stochastic Optimizer: Maximum iterations (200) reached and the optimization hasn't converged yet.\n",
      "  warnings.warn(\n",
      "C:\\ProgramData\\anaconda3\\Lib\\site-packages\\sklearn\\neural_network\\_multilayer_perceptron.py:686: ConvergenceWarning: Stochastic Optimizer: Maximum iterations (500) reached and the optimization hasn't converged yet.\n",
      "  warnings.warn(\n"
     ]
    },
    {
     "data": {
      "text/html": [
       "<style>#sk-container-id-7 {color: black;background-color: white;}#sk-container-id-7 pre{padding: 0;}#sk-container-id-7 div.sk-toggleable {background-color: white;}#sk-container-id-7 label.sk-toggleable__label {cursor: pointer;display: block;width: 100%;margin-bottom: 0;padding: 0.3em;box-sizing: border-box;text-align: center;}#sk-container-id-7 label.sk-toggleable__label-arrow:before {content: \"▸\";float: left;margin-right: 0.25em;color: #696969;}#sk-container-id-7 label.sk-toggleable__label-arrow:hover:before {color: black;}#sk-container-id-7 div.sk-estimator:hover label.sk-toggleable__label-arrow:before {color: black;}#sk-container-id-7 div.sk-toggleable__content {max-height: 0;max-width: 0;overflow: hidden;text-align: left;background-color: #f0f8ff;}#sk-container-id-7 div.sk-toggleable__content pre {margin: 0.2em;color: black;border-radius: 0.25em;background-color: #f0f8ff;}#sk-container-id-7 input.sk-toggleable__control:checked~div.sk-toggleable__content {max-height: 200px;max-width: 100%;overflow: auto;}#sk-container-id-7 input.sk-toggleable__control:checked~label.sk-toggleable__label-arrow:before {content: \"▾\";}#sk-container-id-7 div.sk-estimator input.sk-toggleable__control:checked~label.sk-toggleable__label {background-color: #d4ebff;}#sk-container-id-7 div.sk-label input.sk-toggleable__control:checked~label.sk-toggleable__label {background-color: #d4ebff;}#sk-container-id-7 input.sk-hidden--visually {border: 0;clip: rect(1px 1px 1px 1px);clip: rect(1px, 1px, 1px, 1px);height: 1px;margin: -1px;overflow: hidden;padding: 0;position: absolute;width: 1px;}#sk-container-id-7 div.sk-estimator {font-family: monospace;background-color: #f0f8ff;border: 1px dotted black;border-radius: 0.25em;box-sizing: border-box;margin-bottom: 0.5em;}#sk-container-id-7 div.sk-estimator:hover {background-color: #d4ebff;}#sk-container-id-7 div.sk-parallel-item::after {content: \"\";width: 100%;border-bottom: 1px solid gray;flex-grow: 1;}#sk-container-id-7 div.sk-label:hover label.sk-toggleable__label {background-color: #d4ebff;}#sk-container-id-7 div.sk-serial::before {content: \"\";position: absolute;border-left: 1px solid gray;box-sizing: border-box;top: 0;bottom: 0;left: 50%;z-index: 0;}#sk-container-id-7 div.sk-serial {display: flex;flex-direction: column;align-items: center;background-color: white;padding-right: 0.2em;padding-left: 0.2em;position: relative;}#sk-container-id-7 div.sk-item {position: relative;z-index: 1;}#sk-container-id-7 div.sk-parallel {display: flex;align-items: stretch;justify-content: center;background-color: white;position: relative;}#sk-container-id-7 div.sk-item::before, #sk-container-id-7 div.sk-parallel-item::before {content: \"\";position: absolute;border-left: 1px solid gray;box-sizing: border-box;top: 0;bottom: 0;left: 50%;z-index: -1;}#sk-container-id-7 div.sk-parallel-item {display: flex;flex-direction: column;z-index: 1;position: relative;background-color: white;}#sk-container-id-7 div.sk-parallel-item:first-child::after {align-self: flex-end;width: 50%;}#sk-container-id-7 div.sk-parallel-item:last-child::after {align-self: flex-start;width: 50%;}#sk-container-id-7 div.sk-parallel-item:only-child::after {width: 0;}#sk-container-id-7 div.sk-dashed-wrapped {border: 1px dashed gray;margin: 0 0.4em 0.5em 0.4em;box-sizing: border-box;padding-bottom: 0.4em;background-color: white;}#sk-container-id-7 div.sk-label label {font-family: monospace;font-weight: bold;display: inline-block;line-height: 1.2em;}#sk-container-id-7 div.sk-label-container {text-align: center;}#sk-container-id-7 div.sk-container {/* jupyter's `normalize.less` sets `[hidden] { display: none; }` but bootstrap.min.css set `[hidden] { display: none !important; }` so we also need the `!important` here to be able to override the default hidden behavior on the sphinx rendered scikit-learn.org. See: https://github.com/scikit-learn/scikit-learn/issues/21755 */display: inline-block !important;position: relative;}#sk-container-id-7 div.sk-text-repr-fallback {display: none;}</style><div id=\"sk-container-id-7\" class=\"sk-top-container\"><div class=\"sk-text-repr-fallback\"><pre>GridSearchCV(cv=TimeSeriesSplit(gap=0, max_train_size=None, n_splits=10, test_size=None),\n",
       "             estimator=MLPClassifier(),\n",
       "             param_grid={&#x27;activation&#x27;: [&#x27;logistic&#x27;],\n",
       "                         &#x27;hidden_layer_sizes&#x27;: [(100,), (100, 50), (50,)],\n",
       "                         &#x27;max_iter&#x27;: [200, 500, 1000], &#x27;solver&#x27;: [&#x27;adam&#x27;]},\n",
       "             scoring=&#x27;accuracy&#x27;)</pre><b>In a Jupyter environment, please rerun this cell to show the HTML representation or trust the notebook. <br />On GitHub, the HTML representation is unable to render, please try loading this page with nbviewer.org.</b></div><div class=\"sk-container\" hidden><div class=\"sk-item sk-dashed-wrapped\"><div class=\"sk-label-container\"><div class=\"sk-label sk-toggleable\"><input class=\"sk-toggleable__control sk-hidden--visually\" id=\"sk-estimator-id-19\" type=\"checkbox\" ><label for=\"sk-estimator-id-19\" class=\"sk-toggleable__label sk-toggleable__label-arrow\">GridSearchCV</label><div class=\"sk-toggleable__content\"><pre>GridSearchCV(cv=TimeSeriesSplit(gap=0, max_train_size=None, n_splits=10, test_size=None),\n",
       "             estimator=MLPClassifier(),\n",
       "             param_grid={&#x27;activation&#x27;: [&#x27;logistic&#x27;],\n",
       "                         &#x27;hidden_layer_sizes&#x27;: [(100,), (100, 50), (50,)],\n",
       "                         &#x27;max_iter&#x27;: [200, 500, 1000], &#x27;solver&#x27;: [&#x27;adam&#x27;]},\n",
       "             scoring=&#x27;accuracy&#x27;)</pre></div></div></div><div class=\"sk-parallel\"><div class=\"sk-parallel-item\"><div class=\"sk-item\"><div class=\"sk-label-container\"><div class=\"sk-label sk-toggleable\"><input class=\"sk-toggleable__control sk-hidden--visually\" id=\"sk-estimator-id-20\" type=\"checkbox\" ><label for=\"sk-estimator-id-20\" class=\"sk-toggleable__label sk-toggleable__label-arrow\">estimator: MLPClassifier</label><div class=\"sk-toggleable__content\"><pre>MLPClassifier()</pre></div></div></div><div class=\"sk-serial\"><div class=\"sk-item\"><div class=\"sk-estimator sk-toggleable\"><input class=\"sk-toggleable__control sk-hidden--visually\" id=\"sk-estimator-id-21\" type=\"checkbox\" ><label for=\"sk-estimator-id-21\" class=\"sk-toggleable__label sk-toggleable__label-arrow\">MLPClassifier</label><div class=\"sk-toggleable__content\"><pre>MLPClassifier()</pre></div></div></div></div></div></div></div></div></div></div>"
      ],
      "text/plain": [
       "GridSearchCV(cv=TimeSeriesSplit(gap=0, max_train_size=None, n_splits=10, test_size=None),\n",
       "             estimator=MLPClassifier(),\n",
       "             param_grid={'activation': ['logistic'],\n",
       "                         'hidden_layer_sizes': [(100,), (100, 50), (50,)],\n",
       "                         'max_iter': [200, 500, 1000], 'solver': ['adam']},\n",
       "             scoring='accuracy')"
      ]
     },
     "execution_count": 98,
     "metadata": {},
     "output_type": "execute_result"
    }
   ],
   "source": [
    "# búsqueda de hiperparámetros\n",
    "grid_search = GridSearchCV(mlp_classifier, param_grid, cv=TimeSeriesSplit(n_splits=10), scoring='accuracy')\n",
    "\n",
    "import time\n",
    "# Guardar el tiempo antes de ejecutar la funcion de entrenamiento\n",
    "start_time = time.time()\n",
    "\n",
    "grid_search.fit(X_train_scaled, y_train)"
   ]
  },
  {
   "cell_type": "code",
   "execution_count": 99,
   "id": "56906377-f963-47c6-8641-33fdaf68ad5a",
   "metadata": {},
   "outputs": [],
   "source": [
    "# Guardar el tiempo despues de ejecutar la funcion de entrenamiento\n",
    "end_time = time.time ()"
   ]
  },
  {
   "cell_type": "code",
   "execution_count": 100,
   "id": "7b85b929-0093-491d-9fae-ccfeb6e8febb",
   "metadata": {},
   "outputs": [
    {
     "name": "stdout",
     "output_type": "stream",
     "text": [
      "El tiempo de CPU total es 19.53 segundos\n"
     ]
    }
   ],
   "source": [
    "# Calcular el tiempo de CPU total\n",
    "cpu_time = end_time - start_time\n",
    "# Mostrar e l tiempo de CPU total\n",
    "print(f\"El tiempo de CPU total es {cpu_time:.2f} segundos\")"
   ]
  },
  {
   "cell_type": "code",
   "execution_count": 101,
   "id": "QZ-ydDsdf_Gz",
   "metadata": {
    "colab": {
     "base_uri": "https://localhost:8080/"
    },
    "id": "QZ-ydDsdf_Gz",
    "outputId": "86dc6d48-fa5f-40e3-ff36-a0b3f2084827"
   },
   "outputs": [
    {
     "name": "stdout",
     "output_type": "stream",
     "text": [
      "Mejores parámetros: {'activation': 'logistic', 'hidden_layer_sizes': (50,), 'max_iter': 200, 'solver': 'adam'}\n"
     ]
    }
   ],
   "source": [
    "print(\"Mejores parámetros:\", grid_search.best_params_)"
   ]
  },
  {
   "cell_type": "code",
   "execution_count": 102,
   "id": "63rA2iYtgDxp",
   "metadata": {
    "colab": {
     "base_uri": "https://localhost:8080/",
     "height": 74
    },
    "id": "63rA2iYtgDxp",
    "outputId": "9081a7fd-568c-4522-c4c3-1df0021a5225"
   },
   "outputs": [
    {
     "data": {
      "text/html": [
       "<style>#sk-container-id-8 {color: black;background-color: white;}#sk-container-id-8 pre{padding: 0;}#sk-container-id-8 div.sk-toggleable {background-color: white;}#sk-container-id-8 label.sk-toggleable__label {cursor: pointer;display: block;width: 100%;margin-bottom: 0;padding: 0.3em;box-sizing: border-box;text-align: center;}#sk-container-id-8 label.sk-toggleable__label-arrow:before {content: \"▸\";float: left;margin-right: 0.25em;color: #696969;}#sk-container-id-8 label.sk-toggleable__label-arrow:hover:before {color: black;}#sk-container-id-8 div.sk-estimator:hover label.sk-toggleable__label-arrow:before {color: black;}#sk-container-id-8 div.sk-toggleable__content {max-height: 0;max-width: 0;overflow: hidden;text-align: left;background-color: #f0f8ff;}#sk-container-id-8 div.sk-toggleable__content pre {margin: 0.2em;color: black;border-radius: 0.25em;background-color: #f0f8ff;}#sk-container-id-8 input.sk-toggleable__control:checked~div.sk-toggleable__content {max-height: 200px;max-width: 100%;overflow: auto;}#sk-container-id-8 input.sk-toggleable__control:checked~label.sk-toggleable__label-arrow:before {content: \"▾\";}#sk-container-id-8 div.sk-estimator input.sk-toggleable__control:checked~label.sk-toggleable__label {background-color: #d4ebff;}#sk-container-id-8 div.sk-label input.sk-toggleable__control:checked~label.sk-toggleable__label {background-color: #d4ebff;}#sk-container-id-8 input.sk-hidden--visually {border: 0;clip: rect(1px 1px 1px 1px);clip: rect(1px, 1px, 1px, 1px);height: 1px;margin: -1px;overflow: hidden;padding: 0;position: absolute;width: 1px;}#sk-container-id-8 div.sk-estimator {font-family: monospace;background-color: #f0f8ff;border: 1px dotted black;border-radius: 0.25em;box-sizing: border-box;margin-bottom: 0.5em;}#sk-container-id-8 div.sk-estimator:hover {background-color: #d4ebff;}#sk-container-id-8 div.sk-parallel-item::after {content: \"\";width: 100%;border-bottom: 1px solid gray;flex-grow: 1;}#sk-container-id-8 div.sk-label:hover label.sk-toggleable__label {background-color: #d4ebff;}#sk-container-id-8 div.sk-serial::before {content: \"\";position: absolute;border-left: 1px solid gray;box-sizing: border-box;top: 0;bottom: 0;left: 50%;z-index: 0;}#sk-container-id-8 div.sk-serial {display: flex;flex-direction: column;align-items: center;background-color: white;padding-right: 0.2em;padding-left: 0.2em;position: relative;}#sk-container-id-8 div.sk-item {position: relative;z-index: 1;}#sk-container-id-8 div.sk-parallel {display: flex;align-items: stretch;justify-content: center;background-color: white;position: relative;}#sk-container-id-8 div.sk-item::before, #sk-container-id-8 div.sk-parallel-item::before {content: \"\";position: absolute;border-left: 1px solid gray;box-sizing: border-box;top: 0;bottom: 0;left: 50%;z-index: -1;}#sk-container-id-8 div.sk-parallel-item {display: flex;flex-direction: column;z-index: 1;position: relative;background-color: white;}#sk-container-id-8 div.sk-parallel-item:first-child::after {align-self: flex-end;width: 50%;}#sk-container-id-8 div.sk-parallel-item:last-child::after {align-self: flex-start;width: 50%;}#sk-container-id-8 div.sk-parallel-item:only-child::after {width: 0;}#sk-container-id-8 div.sk-dashed-wrapped {border: 1px dashed gray;margin: 0 0.4em 0.5em 0.4em;box-sizing: border-box;padding-bottom: 0.4em;background-color: white;}#sk-container-id-8 div.sk-label label {font-family: monospace;font-weight: bold;display: inline-block;line-height: 1.2em;}#sk-container-id-8 div.sk-label-container {text-align: center;}#sk-container-id-8 div.sk-container {/* jupyter's `normalize.less` sets `[hidden] { display: none; }` but bootstrap.min.css set `[hidden] { display: none !important; }` so we also need the `!important` here to be able to override the default hidden behavior on the sphinx rendered scikit-learn.org. See: https://github.com/scikit-learn/scikit-learn/issues/21755 */display: inline-block !important;position: relative;}#sk-container-id-8 div.sk-text-repr-fallback {display: none;}</style><div id=\"sk-container-id-8\" class=\"sk-top-container\"><div class=\"sk-text-repr-fallback\"><pre>MLPClassifier(activation=&#x27;logistic&#x27;, hidden_layer_sizes=(50,))</pre><b>In a Jupyter environment, please rerun this cell to show the HTML representation or trust the notebook. <br />On GitHub, the HTML representation is unable to render, please try loading this page with nbviewer.org.</b></div><div class=\"sk-container\" hidden><div class=\"sk-item\"><div class=\"sk-estimator sk-toggleable\"><input class=\"sk-toggleable__control sk-hidden--visually\" id=\"sk-estimator-id-22\" type=\"checkbox\" checked><label for=\"sk-estimator-id-22\" class=\"sk-toggleable__label sk-toggleable__label-arrow\">MLPClassifier</label><div class=\"sk-toggleable__content\"><pre>MLPClassifier(activation=&#x27;logistic&#x27;, hidden_layer_sizes=(50,))</pre></div></div></div></div></div>"
      ],
      "text/plain": [
       "MLPClassifier(activation='logistic', hidden_layer_sizes=(50,))"
      ]
     },
     "execution_count": 102,
     "metadata": {},
     "output_type": "execute_result"
    }
   ],
   "source": [
    "# Entrena el modelo con los mejores parámetros encontrados\n",
    "best_mlp_classifier = grid_search.best_estimator_\n",
    "best_mlp_classifier.fit(X_train_scaled, y_train)"
   ]
  },
  {
   "cell_type": "code",
   "execution_count": 103,
   "id": "22cb8b4d-c7a3-4889-b4d5-52f87b0d914c",
   "metadata": {},
   "outputs": [],
   "source": [
    "# Realiza predicciones\n",
    "y_pred = best_mlp_classifier.predict(X_test_scaled)\n",
    "y_pred_prob = best_mlp_classifier.predict_proba(X_test_scaled)[:, 1]  # Probabilidades para AUC"
   ]
  },
  {
   "cell_type": "code",
   "execution_count": 104,
   "id": "8fe3d884-ad73-474d-adb6-213ba641dac7",
   "metadata": {},
   "outputs": [
    {
     "name": "stdout",
     "output_type": "stream",
     "text": [
      "Precisión del modelo: 49.50%\n",
      "Precisión (Precision): 49.01%\n",
      "Recuperación (Recall): 49.50%\n",
      "F1-score: 42.04%\n",
      "AUC: 61.27%\n"
     ]
    }
   ],
   "source": [
    "from sklearn.metrics import accuracy_score, precision_score, recall_score, f1_score, roc_auc_score\n",
    "\n",
    "# Realiza predicciones\n",
    "y_pred = best_mlp_classifier.predict(X_test_scaled)\n",
    "y_pred_prob = best_mlp_classifier.predict_proba(X_test_scaled)  # Probabilidades para AUC\n",
    "\n",
    "# Calcula varias métricas para problemas multiclase\n",
    "accuracy = accuracy_score(y_test, y_pred)\n",
    "precision = precision_score(y_test, y_pred, average='weighted')\n",
    "recall = recall_score(y_test, y_pred, average='weighted')\n",
    "f1 = f1_score(y_test, y_pred, average='weighted')\n",
    "\n",
    "# AUC para cada clase y promedio ponderado\n",
    "auc = roc_auc_score(y_test, y_pred_prob, multi_class='ovr', average='weighted')\n",
    "\n",
    "print(\"Precisión del modelo: {:.2f}%\".format(accuracy * 100))\n",
    "print(\"Precisión (Precision): {:.2f}%\".format(precision * 100))\n",
    "print(\"Recuperación (Recall): {:.2f}%\".format(recall * 100))\n",
    "print(\"F1-score: {:.2f}%\".format(f1 * 100))\n",
    "print(\"AUC: {:.2f}%\".format(auc * 100))"
   ]
  },
  {
   "cell_type": "markdown",
   "id": "deccf747",
   "metadata": {
    "id": "deccf747"
   },
   "source": [
    "## TSVM\n"
   ]
  },
  {
   "cell_type": "code",
   "execution_count": 105,
   "id": "e1fdaf15-f554-435d-872b-9f8a044b5073",
   "metadata": {},
   "outputs": [
    {
     "name": "stdout",
     "output_type": "stream",
     "text": [
      "    Season       Date    HomeTeam     AwayTeam  PartidoSeason  ELOHomeT  \\\n",
      "0  2019-20 2019-08-16  Ath Bilbao    Barcelona              1         0   \n",
      "1  2019-20 2019-08-17       Celta  Real Madrid              1         0   \n",
      "2  2019-20 2019-08-17    Valencia     Sociedad              1         0   \n",
      "3  2019-20 2019-08-17    Mallorca        Eibar              1         0   \n",
      "4  2019-20 2019-08-17     Leganes      Osasuna              1         0   \n",
      "\n",
      "   ELOHomeM  ELOAwayT  ELOAwayM  AtaqueMedioH  AtaqueMedioA  TarjetasRMedioH  \\\n",
      "0         0         0         0           0.0           0.0              0.0   \n",
      "1         0         0         0           0.0           0.0              0.0   \n",
      "2         0         0         0           0.0           0.0              0.0   \n",
      "3         0         0         0           0.0           0.0              0.0   \n",
      "4         0         0         0           0.0           0.0              0.0   \n",
      "\n",
      "   TarjetasRMedioA Resultado  \n",
      "0              0.0         H  \n",
      "1              0.0         A  \n",
      "2              0.0         A  \n",
      "3              0.0         H  \n",
      "4              0.0         A  \n"
     ]
    }
   ],
   "source": [
    "import pandas as pd\n",
    "\n",
    "# Cargar el archivo Excel en un DataFrame de pandas\n",
    "datos = pd.read_excel('datos_tsvm.xlsx')\n",
    "\n",
    "print(datos.head())"
   ]
  },
  {
   "cell_type": "code",
   "execution_count": 106,
   "id": "ee06267a-28ea-425b-99b2-4e3c16dedcb6",
   "metadata": {},
   "outputs": [
    {
     "data": {
      "text/html": [
       "<div>\n",
       "<style scoped>\n",
       "    .dataframe tbody tr th:only-of-type {\n",
       "        vertical-align: middle;\n",
       "    }\n",
       "\n",
       "    .dataframe tbody tr th {\n",
       "        vertical-align: top;\n",
       "    }\n",
       "\n",
       "    .dataframe thead th {\n",
       "        text-align: right;\n",
       "    }\n",
       "</style>\n",
       "<table border=\"1\" class=\"dataframe\">\n",
       "  <thead>\n",
       "    <tr style=\"text-align: right;\">\n",
       "      <th></th>\n",
       "      <th>count</th>\n",
       "      <th>percent</th>\n",
       "    </tr>\n",
       "  </thead>\n",
       "  <tbody>\n",
       "    <tr>\n",
       "      <th>Season</th>\n",
       "      <td>0</td>\n",
       "      <td>0.0</td>\n",
       "    </tr>\n",
       "    <tr>\n",
       "      <th>Date</th>\n",
       "      <td>0</td>\n",
       "      <td>0.0</td>\n",
       "    </tr>\n",
       "    <tr>\n",
       "      <th>HomeTeam</th>\n",
       "      <td>0</td>\n",
       "      <td>0.0</td>\n",
       "    </tr>\n",
       "    <tr>\n",
       "      <th>AwayTeam</th>\n",
       "      <td>0</td>\n",
       "      <td>0.0</td>\n",
       "    </tr>\n",
       "    <tr>\n",
       "      <th>PartidoSeason</th>\n",
       "      <td>0</td>\n",
       "      <td>0.0</td>\n",
       "    </tr>\n",
       "    <tr>\n",
       "      <th>ELOHomeT</th>\n",
       "      <td>0</td>\n",
       "      <td>0.0</td>\n",
       "    </tr>\n",
       "    <tr>\n",
       "      <th>ELOHomeM</th>\n",
       "      <td>0</td>\n",
       "      <td>0.0</td>\n",
       "    </tr>\n",
       "    <tr>\n",
       "      <th>ELOAwayT</th>\n",
       "      <td>0</td>\n",
       "      <td>0.0</td>\n",
       "    </tr>\n",
       "    <tr>\n",
       "      <th>ELOAwayM</th>\n",
       "      <td>0</td>\n",
       "      <td>0.0</td>\n",
       "    </tr>\n",
       "    <tr>\n",
       "      <th>AtaqueMedioH</th>\n",
       "      <td>0</td>\n",
       "      <td>0.0</td>\n",
       "    </tr>\n",
       "    <tr>\n",
       "      <th>AtaqueMedioA</th>\n",
       "      <td>0</td>\n",
       "      <td>0.0</td>\n",
       "    </tr>\n",
       "    <tr>\n",
       "      <th>TarjetasRMedioH</th>\n",
       "      <td>0</td>\n",
       "      <td>0.0</td>\n",
       "    </tr>\n",
       "    <tr>\n",
       "      <th>TarjetasRMedioA</th>\n",
       "      <td>0</td>\n",
       "      <td>0.0</td>\n",
       "    </tr>\n",
       "    <tr>\n",
       "      <th>Resultado</th>\n",
       "      <td>0</td>\n",
       "      <td>0.0</td>\n",
       "    </tr>\n",
       "  </tbody>\n",
       "</table>\n",
       "</div>"
      ],
      "text/plain": [
       "                 count  percent\n",
       "Season               0      0.0\n",
       "Date                 0      0.0\n",
       "HomeTeam             0      0.0\n",
       "AwayTeam             0      0.0\n",
       "PartidoSeason        0      0.0\n",
       "ELOHomeT             0      0.0\n",
       "ELOHomeM             0      0.0\n",
       "ELOAwayT             0      0.0\n",
       "ELOAwayM             0      0.0\n",
       "AtaqueMedioH         0      0.0\n",
       "AtaqueMedioA         0      0.0\n",
       "TarjetasRMedioH      0      0.0\n",
       "TarjetasRMedioA      0      0.0\n",
       "Resultado            0      0.0"
      ]
     },
     "execution_count": 106,
     "metadata": {},
     "output_type": "execute_result"
    }
   ],
   "source": [
    "valores_faltantes = data.isnull().sum()\n",
    "valores_faltantes_porcentaje = 100*valores_faltantes/len(data)\n",
    "\n",
    "valores_faltantes_df = pd.DataFrame({'count': valores_faltantes, 'percent': valores_faltantes_porcentaje})\n",
    "valores_faltantes_df.sort_values('percent', ascending=False)"
   ]
  },
  {
   "cell_type": "code",
   "execution_count": 107,
   "id": "0beffa35-e3ed-4440-9e38-77ee71640981",
   "metadata": {},
   "outputs": [],
   "source": [
    "# Codificar la variable respuesta\n",
    "from sklearn.preprocessing import LabelEncoder\n",
    "\n",
    "label_encoder = LabelEncoder()\n",
    "data['Resultado'] = label_encoder.fit_transform(datos['Resultado'])"
   ]
  },
  {
   "cell_type": "code",
   "execution_count": 108,
   "id": "d54391b4-2db3-4bc8-bd60-3b2427bfc0f1",
   "metadata": {},
   "outputs": [],
   "source": [
    "X = datos.drop(['PartidoSeason','Resultado', 'Date', 'Season', 'HomeTeam', 'AwayTeam'], axis=1)\n",
    "y = datos['Resultado']"
   ]
  },
  {
   "cell_type": "code",
   "execution_count": 109,
   "id": "a61ff471-4554-477f-a4e1-ff805611fbbc",
   "metadata": {},
   "outputs": [],
   "source": [
    "from sklearn.model_selection import train_test_split\n",
    "\n",
    "X_train_1, X_test_1, y_train_1, y_test_1 = train_test_split(X, y, test_size=0.25, shuffle=False) #importa no hacerlo de manera aleatoria"
   ]
  },
  {
   "cell_type": "code",
   "execution_count": 110,
   "id": "0c6f85c0-d7be-4afe-b54a-aeeca6d454ea",
   "metadata": {},
   "outputs": [
    {
     "ename": "NameError",
     "evalue": "name 'TwinSVMClassifier' is not defined",
     "output_type": "error",
     "traceback": [
      "\u001b[1;31m---------------------------------------------------------------------------\u001b[0m",
      "\u001b[1;31mNameError\u001b[0m                                 Traceback (most recent call last)",
      "Cell \u001b[1;32mIn[110], line 2\u001b[0m\n\u001b[0;32m      1\u001b[0m \u001b[38;5;66;03m# Modelo\u001b[39;00m\n\u001b[1;32m----> 2\u001b[0m model_tsvm \u001b[38;5;241m=\u001b[39m TwinSVMClassifier()\n\u001b[0;32m      4\u001b[0m param_grid_tsvm_radial \u001b[38;5;241m=\u001b[39m {\n\u001b[0;32m      5\u001b[0m     \u001b[38;5;124m'\u001b[39m\u001b[38;5;124mEpsilon1\u001b[39m\u001b[38;5;124m'\u001b[39m: [\u001b[38;5;241m0.1\u001b[39m],\n\u001b[0;32m      6\u001b[0m     \u001b[38;5;124m'\u001b[39m\u001b[38;5;124mEpsilon2\u001b[39m\u001b[38;5;124m'\u001b[39m: [\u001b[38;5;241m0.1\u001b[39m],\n\u001b[1;32m   (...)\u001b[0m\n\u001b[0;32m     10\u001b[0m     \u001b[38;5;124m'\u001b[39m\u001b[38;5;124mkernel_param\u001b[39m\u001b[38;5;124m'\u001b[39m: [\u001b[38;5;241m2\u001b[39m\u001b[38;5;241m*\u001b[39m\u001b[38;5;241m*\u001b[39m(\u001b[38;5;241m-\u001b[39m\u001b[38;5;241m5\u001b[39m),\u001b[38;5;241m2\u001b[39m\u001b[38;5;241m*\u001b[39m\u001b[38;5;241m*\u001b[39m(\u001b[38;5;241m-\u001b[39m\u001b[38;5;241m3\u001b[39m),\u001b[38;5;241m2\u001b[39m\u001b[38;5;241m*\u001b[39m\u001b[38;5;241m*\u001b[39m(\u001b[38;5;241m-\u001b[39m\u001b[38;5;241m1\u001b[39m),\u001b[38;5;241m2\u001b[39m\u001b[38;5;241m*\u001b[39m\u001b[38;5;241m*\u001b[39m(\u001b[38;5;241m1\u001b[39m),\u001b[38;5;241m2\u001b[39m\u001b[38;5;241m*\u001b[39m\u001b[38;5;241m*\u001b[39m(\u001b[38;5;241m3\u001b[39m),\u001b[38;5;241m2\u001b[39m\u001b[38;5;241m*\u001b[39m\u001b[38;5;241m*\u001b[39m(\u001b[38;5;241m5\u001b[39m)],\n\u001b[0;32m     11\u001b[0m }\n",
      "\u001b[1;31mNameError\u001b[0m: name 'TwinSVMClassifier' is not defined"
     ]
    }
   ],
   "source": [
    "# Modelo\n",
    "model_tsvm = TwinSVMClassifier()\n",
    "\n",
    "param_grid_tsvm_radial = {\n",
    "    'Epsilon1': [0.1],\n",
    "    'Epsilon2': [0.1],\n",
    "    'C1':[2**(-5),2**(-3),2**(-1),2**(1),2**(3),2**(5)],\n",
    "    'C2':[2**(-5),2**(-3),2**(-1),2**(1),2**(3),2**(5)],\n",
    "    'kernel_type': [3], # 1 lineal, 2 polinomial, 3 radial\n",
    "    'kernel_param': [2**(-5),2**(-3),2**(-1),2**(1),2**(3),2**(5)],\n",
    "}"
   ]
  },
  {
   "cell_type": "code",
   "execution_count": null,
   "id": "9c5edcb3-101b-4433-8351-dd09cdc182ee",
   "metadata": {},
   "outputs": [],
   "source": [
    "keys, values = zip(*param_grid_tsvm_radial.items())"
   ]
  },
  {
   "cell_type": "code",
   "execution_count": null,
   "id": "eee11500-bd2d-4c57-a681-f392b7cd0bf6",
   "metadata": {},
   "outputs": [],
   "source": [
    "# Generar todas las combinaciones de valores de parámetros\n",
    "combinations = [dict(zip(keys, combination)) for combination in itertools.product(*values)]"
   ]
  },
  {
   "cell_type": "code",
   "execution_count": null,
   "id": "c682ce11-827d-4394-ae35-b896743eefc6",
   "metadata": {},
   "outputs": [],
   "source": [
    "# Búsqueda de hiperparámetros con validación cruzada estratificada\n",
    "stratified_cv = TimeSeriesSplit(n_splits=5)\n",
    "best_auc = 0"
   ]
  },
  {
   "cell_type": "code",
   "execution_count": null,
   "id": "f184afcf-bee2-4660-af45-6df54f9da626",
   "metadata": {},
   "outputs": [],
   "source": [
    "for params_sel in combinations:\n",
    "    print(params_sel)\n",
    "    auc_folds = []\n",
    "    for train_index, test_index in stratified_cv.split(X_train_1, y_train_1):\n",
    "        X_train_inner = X_train_1.iloc[train_index]\n",
    "        X_test_inner = X_train_1.iloc[test_index]\n",
    "        y_train_inner = y_train_1.iloc[train_index]\n",
    "        y_test_inner = y_train_1.iloc[test_index]\n",
    "\n",
    "        # Asegúrate de que los datos están en el formato correcto\n",
    "        X_train_inner = X_train_inner.to_numpy()\n",
    "        X_test_inner = X_test_inner.to_numpy()\n",
    "        y_train_inner = y_train_inner.to_numpy()\n",
    "        y_test_inner = y_test_inner.to_numpy()\n",
    "\n",
    "        # Inicializar el modelo con los parámetros seleccionados\n",
    "        twin_svm = TwinSVMClassifier(**params_sel)\n",
    "\n",
    "        # Entrenar el modelo\n",
    "        twin_svm.fit(X_train_inner, y_train_inner)\n",
    "\n",
    "        # Hacer predicciones\n",
    "        y_pred_prob = twin_svm.decision_function(X_test_inner)\n",
    "\n",
    "        # Calcular métricas de evaluación\n",
    "        auc = roc_auc_score(y_test_inner, y_pred_prob)\n",
    "        auc_folds.append(auc)\n",
    "\n",
    "    mean_auc = sum(auc_folds) / len(auc_folds)\n",
    "    if mean_auc > best_auc:\n",
    "        best_auc = mean_auc\n",
    "        best_params = params_sel"
   ]
  },
  {
   "cell_type": "code",
   "execution_count": null,
   "id": "5856269c-7b17-44c1-b1da-9d0e8d3abfec",
   "metadata": {},
   "outputs": [],
   "source": []
  },
  {
   "cell_type": "markdown",
   "id": "6781641e-2ac4-49ad-97c6-04ef8189c241",
   "metadata": {},
   "source": [
    "# Estrategia de apuestas"
   ]
  },
  {
   "cell_type": "code",
   "execution_count": null,
   "id": "373611f3-b9df-4985-9be0-49e3dbfc8469",
   "metadata": {},
   "outputs": [],
   "source": [
    "import pandas as pd\n",
    "import matplotlib.pyplot as plt\n",
    "from sklearn.preprocessing import LabelEncoder\n",
    "\n",
    "nuevos_datos = pd.read_excel('datos_parte2.xlsx')\n",
    "cuotas = pd.read_excel('cuotas.xlsx')\n",
    "\n",
    "label_encoder = LabelEncoder()\n",
    "nuevos_datos['Resultado'] = label_encoder.fit_transform(nuevos_datos['Resultado'])\n",
    "\n",
    "train_df_nuevo = nuevos_datos[(nuevos_datos['Season'] >= '2019-20') & (nuevos_datos['Season'] <= '2022-23')]\n",
    "test_df_nuevo = nuevos_datos[nuevos_datos['Season'] == '2023-24']\n",
    "\n",
    "X_train_2 = train_df_nuevo.drop(columns=['Semana', 'Resultado', 'Date', 'Season', 'HomeTeam', 'AwayTeam'])\n",
    "y_train_2 = train_df_nuevo['Resultado']\n",
    "X_test_2 = test_df_nuevo.drop(columns=['Semana', 'Resultado', 'Date', 'Season', 'HomeTeam', 'AwayTeam'])\n",
    "y_test_2 = test_df_nuevo['Resultado']\n"
   ]
  },
  {
   "cell_type": "code",
   "execution_count": null,
   "id": "d168425d-2f0a-4660-a9b4-6bd5c76f4830",
   "metadata": {},
   "outputs": [],
   "source": [
    "best_lr.fit(X_train_2, y_train_2)\n",
    "\n",
    "y_pred_prob_2 = best_lr.predict_proba(X_test_2)\n",
    "y_pred_class_2 = best_lr.predict(X_test_2)"
   ]
  },
  {
   "cell_type": "code",
   "execution_count": null,
   "id": "5939ad05-8063-4efd-975e-bb39a801da46",
   "metadata": {},
   "outputs": [],
   "source": [
    "equipo = \"Sociedad\"\n",
    "\n",
    "test_df_equipo = test_df_nuevo[(test_df_nuevo['HomeTeam'] == equipo) | (test_df_nuevo['AwayTeam'] == equipo)]\n",
    "\n",
    "X_test_equipo = test_df_equipo.drop(columns=['Semana', 'Resultado', 'Date', 'Season', 'HomeTeam', 'AwayTeam'])\n",
    "y_test_equipo = test_df_equipo['Resultado']"
   ]
  },
  {
   "cell_type": "code",
   "execution_count": null,
   "id": "1eeea0d4-5f1c-4dc4-95e9-8159be4f4d91",
   "metadata": {},
   "outputs": [],
   "source": [
    "# Predecir probabilidades y clases para el equipo\n",
    "y_pred_prob_equipo = best_lr.predict_proba(X_test_equipo)\n",
    "y_pred_class_equipo = best_lr.predict(X_test_equipo)\n",
    "\n",
    "resultados_equipo = test_df_equipo[['Date', 'HomeTeam', 'AwayTeam', 'Resultado']].copy()\n",
    "resultados_equipo['Probabilidades'] = y_pred_prob_equipo.tolist()\n",
    "resultados_equipo['Prediccion'] = y_pred_class_equipo"
   ]
  },
  {
   "cell_type": "code",
   "execution_count": null,
   "id": "b0d3fbaa-5f08-47d0-8af5-9eca07243edc",
   "metadata": {},
   "outputs": [],
   "source": [
    "resultados_equipo = resultados_equipo.merge(cuotas, on=['Date', 'HomeTeam', 'AwayTeam'], how='left')"
   ]
  },
  {
   "cell_type": "code",
   "execution_count": null,
   "id": "c444411f-6f9d-46bc-a049-60c4dc3dc15b",
   "metadata": {},
   "outputs": [],
   "source": [
    "# Fracción de Kelly \n",
    "def calcular_fraccion_kelly(probabilidades, cuota):\n",
    "    p = probabilidades\n",
    "    b = cuota - 1\n",
    "    return max(0, (b * p - (1 - p)) / b)\n",
    "\n",
    "resultados_equipo['Fraccion_Kelly_Local'] = resultados_equipo.apply(\n",
    "    lambda row: calcular_fraccion_kelly(row['Probabilidades'][0], row['cuota local']), axis=1)\n",
    "resultados_equipo['Fraccion_Kelly_Visitante'] = resultados_equipo.apply(\n",
    "    lambda row: calcular_fraccion_kelly(row['Probabilidades'][2], row['cuota visitante']), axis=1)\n",
    "resultados_equipo['Fraccion_Kelly_Empate'] = resultados_equipo.apply(\n",
    "    lambda row: calcular_fraccion_kelly(row['Probabilidades'][1], row['cuota empate']), axis=1)"
   ]
  },
  {
   "cell_type": "code",
   "execution_count": null,
   "id": "6f80b616-0d9e-4c69-977a-c3d3954bad91",
   "metadata": {},
   "outputs": [],
   "source": [
    "# fracción de Kelly mitad del valor original\n",
    "resultados_equipo['Fraccion_Kelly_Local'] /= 2\n",
    "resultados_equipo['Fraccion_Kelly_Visitante'] /= 2\n",
    "resultados_equipo['Fraccion_Kelly_Empate'] /= 2\n",
    "\n",
    "resultados_equipo = resultados_equipo.sort_values(by='Date')"
   ]
  },
  {
   "cell_type": "code",
   "execution_count": null,
   "id": "e5627475-7758-4cc8-b35a-c29f370e255b",
   "metadata": {},
   "outputs": [],
   "source": [
    "bankroll = 1000\n",
    "resultados_equipo['Bankroll'] = bankroll\n",
    "\n",
    "resultados_equipo['Bankroll'] = resultados_equipo['Bankroll'].astype(float)\n",
    "\n",
    "ROI = [bankroll]\n",
    "\n",
    "for index, row in resultados_equipo.iterrows():\n",
    "    fraccion_local = row['Fraccion_Kelly_Local']\n",
    "    fraccion_visitante = row['Fraccion_Kelly_Visitante']\n",
    "    fraccion_empate = row['Fraccion_Kelly_Empate']\n",
    "\n",
    "    if row['Resultado'] == 0:  # Gana equipo local\n",
    "        if row['Prediccion'] == 0:\n",
    "            bankroll += fraccion_local * (row['cuota local'] - 1) * bankroll\n",
    "        else:\n",
    "            bankroll -= fraccion_local * bankroll\n",
    "    elif row['Resultado'] == 2:  # Gana equipo visitante\n",
    "        if row['Prediccion'] == 2:\n",
    "            bankroll += fraccion_visitante * (row['cuota visitante'] - 1) * bankroll\n",
    "        else:\n",
    "            bankroll -= fraccion_visitante * bankroll\n",
    "    elif row['Resultado'] == 1:  # Empate\n",
    "        if row['Prediccion'] == 1:\n",
    "            bankroll += fraccion_empate * (row['cuota empate'] - 1) * bankroll\n",
    "        else:\n",
    "            bankroll -= fraccion_empate * bankroll\n",
    "    \n",
    "    ROI.append(bankroll)\n",
    "    resultados_equipo.at[index, 'Bankroll'] = bankroll"
   ]
  },
  {
   "cell_type": "code",
   "execution_count": null,
   "id": "598774d9-eb96-4a4d-a22f-cf3d6562a961",
   "metadata": {},
   "outputs": [],
   "source": [
    "plt.figure(figsize=(12, 6))\n",
    "plt.plot(resultados_equipo['Date'], resultados_equipo['Bankroll'], marker='o')\n",
    "plt.title('Evolución del Bankroll a lo largo de la temporada')\n",
    "plt.xlabel('Fecha')\n",
    "plt.ylabel('Bankroll (€)')\n",
    "plt.xticks(rotation=45)\n",
    "plt.grid(True)\n",
    "plt.show()\n",
    "\n",
    "\n",
    "tabla_resumida = resultados_equipo[['Date', 'HomeTeam', 'AwayTeam', 'Fraccion_Kelly_Local', 'Fraccion_Kelly_Visitante', 'Fraccion_Kelly_Empate', 'Bankroll']]\n",
    "print(tabla_resumida)\n"
   ]
  }
 ],
 "metadata": {
  "colab": {
   "provenance": []
  },
  "kernelspec": {
   "display_name": "Python 3 (ipykernel)",
   "language": "python",
   "name": "python3"
  },
  "language_info": {
   "codemirror_mode": {
    "name": "ipython",
    "version": 3
   },
   "file_extension": ".py",
   "mimetype": "text/x-python",
   "name": "python",
   "nbconvert_exporter": "python",
   "pygments_lexer": "ipython3",
   "version": "3.11.7"
  }
 },
 "nbformat": 4,
 "nbformat_minor": 5
}
