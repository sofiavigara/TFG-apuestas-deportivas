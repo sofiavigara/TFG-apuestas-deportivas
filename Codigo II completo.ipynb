{
 "cells": [
  {
   "cell_type": "markdown",
   "id": "36d0c4a5",
   "metadata": {
    "id": "36d0c4a5"
   },
   "source": [
    "# Predicción de partidos de fútbol"
   ]
  },
  {
   "cell_type": "code",
   "execution_count": 2,
   "id": "46e5bd3a-98d8-4dd4-8ac3-af7c5bc458cc",
   "metadata": {},
   "outputs": [
    {
     "name": "stdout",
     "output_type": "stream",
     "text": [
      "    Season       Date    HomeTeam     AwayTeam  PartidoSeason  ELOHomeT  \\\n",
      "0  2019-20 2019-08-16  Ath Bilbao    Barcelona              1         0   \n",
      "1  2019-20 2019-08-17       Celta  Real Madrid              1         0   \n",
      "2  2019-20 2019-08-17    Valencia     Sociedad              1         0   \n",
      "3  2019-20 2019-08-17    Mallorca        Eibar              1         0   \n",
      "4  2019-20 2019-08-17     Leganes      Osasuna              1         0   \n",
      "\n",
      "   ELOHomeM  ELOAwayT  ELOAwayM  AtaqueMedioH  AtaqueMedioA  TarjetasRMedioH  \\\n",
      "0         0         0         0           0.0           0.0              0.0   \n",
      "1         0         0         0           0.0           0.0              0.0   \n",
      "2         0         0         0           0.0           0.0              0.0   \n",
      "3         0         0         0           0.0           0.0              0.0   \n",
      "4         0         0         0           0.0           0.0              0.0   \n",
      "\n",
      "   TarjetasRMedioA Resultado  \n",
      "0              0.0         H  \n",
      "1              0.0         A  \n",
      "2              0.0         D  \n",
      "3              0.0         H  \n",
      "4              0.0         A  \n"
     ]
    }
   ],
   "source": [
    "import pandas as pd\n",
    "\n",
    "import os\n",
    "\n",
    "os.chdir(\"C:/Users/Sandra/Downloads\")\n",
    "# Cargar el archivo Excel en un DataFrame de pandas\n",
    "\n",
    "# Cargar el archivo Excel en un DataFrame de pandas\n",
    "data = pd.read_excel('datos_definitivos.xlsx')\n",
    "\n",
    "print(data.head())"
   ]
  },
  {
   "cell_type": "markdown",
   "id": "d7cfd9a6",
   "metadata": {
    "id": "d7cfd9a6"
   },
   "source": [
    "## 1. EDA"
   ]
  },
  {
   "cell_type": "code",
   "execution_count": 96,
   "id": "9f2da05f",
   "metadata": {
    "colab": {
     "base_uri": "https://localhost:8080/"
    },
    "id": "9f2da05f",
    "outputId": "2b934d3d-ba08-4358-d914-5ff5b89fd64b"
   },
   "outputs": [
    {
     "name": "stdout",
     "output_type": "stream",
     "text": [
      "Cantidad de filas y columnas: (1599, 14)\n",
      "Nombre columnas: Index(['Season', 'Date', 'HomeTeam', 'AwayTeam', 'PartidoSeason', 'ELOHomeT',\n",
      "       'ELOHomeM', 'ELOAwayT', 'ELOAwayM', 'AtaqueMedioH', 'AtaqueMedioA',\n",
      "       'TarjetasRMedioH', 'TarjetasRMedioA', 'Resultado'],\n",
      "      dtype='object')\n",
      "tipos de dato: Season                     object\n",
      "Date               datetime64[ns]\n",
      "HomeTeam                   object\n",
      "AwayTeam                   object\n",
      "PartidoSeason               int64\n",
      "ELOHomeT                    int64\n",
      "ELOHomeM                    int64\n",
      "ELOAwayT                    int64\n",
      "ELOAwayM                    int64\n",
      "AtaqueMedioH              float64\n",
      "AtaqueMedioA              float64\n",
      "TarjetasRMedioH           float64\n",
      "TarjetasRMedioA           float64\n",
      "Resultado                  object\n",
      "dtype: object\n",
      "                                Date  PartidoSeason     ELOHomeT     ELOHomeM  \\\n",
      "count                           1599    1599.000000  1599.000000  1599.000000   \n",
      "mean   2021-08-27 12:29:16.097560832       9.629769     1.340838     0.891182   \n",
      "min              2019-08-16 00:00:00       1.000000    -9.000000    -8.000000   \n",
      "25%              2020-09-27 00:00:00       5.000000    -1.000000    -1.000000   \n",
      "50%              2021-09-18 00:00:00      10.000000     1.000000     0.000000   \n",
      "75%              2022-09-18 00:00:00      14.500000     3.000000     2.000000   \n",
      "max              2023-10-02 00:00:00      19.000000    16.000000    11.000000   \n",
      "std                              NaN       5.589348     3.425338     2.632124   \n",
      "\n",
      "          ELOAwayT     ELOAwayM  AtaqueMedioH  AtaqueMedioA  TarjetasRMedioH  \\\n",
      "count  1599.000000  1599.000000   1599.000000   1599.000000      1599.000000   \n",
      "mean     -1.313946    -0.889931      1.306493      1.023785         0.121641   \n",
      "min     -14.000000   -10.000000      0.000000      0.000000         0.000000   \n",
      "25%      -3.000000    -2.000000      0.882353      0.705882         0.000000   \n",
      "50%      -1.000000    -1.000000      1.285714      1.000000         0.071429   \n",
      "75%       1.000000     0.000000      1.710084      1.300000         0.187500   \n",
      "max      11.000000     7.000000      6.000000      4.000000         1.000000   \n",
      "std       3.695581     2.482810      0.769509      0.601944         0.166398   \n",
      "\n",
      "       TarjetasRMedioA  \n",
      "count      1599.000000  \n",
      "mean          0.111562  \n",
      "min           0.000000  \n",
      "25%           0.000000  \n",
      "50%           0.058824  \n",
      "75%           0.166667  \n",
      "max           1.000000  \n",
      "std           0.163837  \n"
     ]
    }
   ],
   "source": [
    "print(f'Cantidad de filas y columnas: {data.shape}')\n",
    "print('Nombre columnas:',data.columns)\n",
    "\n",
    "print('tipos de dato:',data.dtypes)\n",
    "print(data.describe())"
   ]
  },
  {
   "cell_type": "code",
   "execution_count": 4,
   "id": "14ef018a",
   "metadata": {
    "colab": {
     "base_uri": "https://localhost:8080/",
     "height": 488
    },
    "id": "14ef018a",
    "outputId": "5b52c4f4-6264-44bc-d8a9-3d1682dfbcc9"
   },
   "outputs": [
    {
     "data": {
      "text/html": [
       "<div>\n",
       "<style scoped>\n",
       "    .dataframe tbody tr th:only-of-type {\n",
       "        vertical-align: middle;\n",
       "    }\n",
       "\n",
       "    .dataframe tbody tr th {\n",
       "        vertical-align: top;\n",
       "    }\n",
       "\n",
       "    .dataframe thead th {\n",
       "        text-align: right;\n",
       "    }\n",
       "</style>\n",
       "<table border=\"1\" class=\"dataframe\">\n",
       "  <thead>\n",
       "    <tr style=\"text-align: right;\">\n",
       "      <th></th>\n",
       "      <th>count</th>\n",
       "      <th>percent</th>\n",
       "    </tr>\n",
       "  </thead>\n",
       "  <tbody>\n",
       "    <tr>\n",
       "      <th>Season</th>\n",
       "      <td>0</td>\n",
       "      <td>0.0</td>\n",
       "    </tr>\n",
       "    <tr>\n",
       "      <th>Date</th>\n",
       "      <td>0</td>\n",
       "      <td>0.0</td>\n",
       "    </tr>\n",
       "    <tr>\n",
       "      <th>HomeTeam</th>\n",
       "      <td>0</td>\n",
       "      <td>0.0</td>\n",
       "    </tr>\n",
       "    <tr>\n",
       "      <th>AwayTeam</th>\n",
       "      <td>0</td>\n",
       "      <td>0.0</td>\n",
       "    </tr>\n",
       "    <tr>\n",
       "      <th>PartidoSeason</th>\n",
       "      <td>0</td>\n",
       "      <td>0.0</td>\n",
       "    </tr>\n",
       "    <tr>\n",
       "      <th>ELOHomeT</th>\n",
       "      <td>0</td>\n",
       "      <td>0.0</td>\n",
       "    </tr>\n",
       "    <tr>\n",
       "      <th>ELOHomeM</th>\n",
       "      <td>0</td>\n",
       "      <td>0.0</td>\n",
       "    </tr>\n",
       "    <tr>\n",
       "      <th>ELOAwayT</th>\n",
       "      <td>0</td>\n",
       "      <td>0.0</td>\n",
       "    </tr>\n",
       "    <tr>\n",
       "      <th>ELOAwayM</th>\n",
       "      <td>0</td>\n",
       "      <td>0.0</td>\n",
       "    </tr>\n",
       "    <tr>\n",
       "      <th>AtaqueMedioH</th>\n",
       "      <td>0</td>\n",
       "      <td>0.0</td>\n",
       "    </tr>\n",
       "    <tr>\n",
       "      <th>AtaqueMedioA</th>\n",
       "      <td>0</td>\n",
       "      <td>0.0</td>\n",
       "    </tr>\n",
       "    <tr>\n",
       "      <th>TarjetasRMedioH</th>\n",
       "      <td>0</td>\n",
       "      <td>0.0</td>\n",
       "    </tr>\n",
       "    <tr>\n",
       "      <th>TarjetasRMedioA</th>\n",
       "      <td>0</td>\n",
       "      <td>0.0</td>\n",
       "    </tr>\n",
       "    <tr>\n",
       "      <th>Resultado</th>\n",
       "      <td>0</td>\n",
       "      <td>0.0</td>\n",
       "    </tr>\n",
       "  </tbody>\n",
       "</table>\n",
       "</div>"
      ],
      "text/plain": [
       "                 count  percent\n",
       "Season               0      0.0\n",
       "Date                 0      0.0\n",
       "HomeTeam             0      0.0\n",
       "AwayTeam             0      0.0\n",
       "PartidoSeason        0      0.0\n",
       "ELOHomeT             0      0.0\n",
       "ELOHomeM             0      0.0\n",
       "ELOAwayT             0      0.0\n",
       "ELOAwayM             0      0.0\n",
       "AtaqueMedioH         0      0.0\n",
       "AtaqueMedioA         0      0.0\n",
       "TarjetasRMedioH      0      0.0\n",
       "TarjetasRMedioA      0      0.0\n",
       "Resultado            0      0.0"
      ]
     },
     "execution_count": 4,
     "metadata": {},
     "output_type": "execute_result"
    }
   ],
   "source": [
    "valores_faltantes = data.isnull().sum()\n",
    "valores_faltantes_porcentaje = 100*valores_faltantes/len(data)\n",
    "\n",
    "valores_faltantes_df = pd.DataFrame({'count': valores_faltantes, 'percent': valores_faltantes_porcentaje})\n",
    "valores_faltantes_df.sort_values('percent', ascending=False)"
   ]
  },
  {
   "cell_type": "code",
   "execution_count": 5,
   "id": "ff7e612e",
   "metadata": {
    "id": "ff7e612e"
   },
   "outputs": [],
   "source": [
    "# Codificar la variable respuesta\n",
    "from sklearn.preprocessing import LabelEncoder\n",
    "\n",
    "label_encoder = LabelEncoder()\n",
    "data['Resultado'] = label_encoder.fit_transform(data['Resultado'])"
   ]
  },
  {
   "cell_type": "code",
   "execution_count": 6,
   "id": "ece9ce70",
   "metadata": {
    "id": "ece9ce70"
   },
   "outputs": [],
   "source": [
    "X = data.drop(['PartidoSeason','Resultado', 'Date', 'Season', 'HomeTeam', 'AwayTeam'], axis=1)\n",
    "y = data['Resultado']"
   ]
  },
  {
   "cell_type": "code",
   "execution_count": 7,
   "id": "82141ccb",
   "metadata": {
    "colab": {
     "base_uri": "https://localhost:8080/"
    },
    "id": "82141ccb",
    "outputId": "da76bdb2-c7f3-4b0d-d771-67e4c6e59f60"
   },
   "outputs": [
    {
     "name": "stdout",
     "output_type": "stream",
     "text": [
      "Defaulting to user installation because normal site-packages is not writeable\n",
      "Requirement already satisfied: timeseries-cv in c:\\programdata\\anaconda3\\lib\\site-packages (0.1.5)\n",
      "Requirement already satisfied: numpy<2.0,>=1.21 in c:\\programdata\\anaconda3\\lib\\site-packages (from timeseries-cv) (1.26.4)\n"
     ]
    }
   ],
   "source": [
    "!pip install timeseries-cv\n",
    "from sklearn.model_selection import TimeSeriesSplit"
   ]
  },
  {
   "cell_type": "code",
   "execution_count": 8,
   "id": "3417f43a",
   "metadata": {
    "id": "3417f43a"
   },
   "outputs": [],
   "source": [
    "from sklearn.model_selection import train_test_split\n",
    "\n",
    "X_train, X_test, y_train, y_test = train_test_split(X, y, test_size=0.25, shuffle=False) #importa no hacerlo de manera aleatoria"
   ]
  },
  {
   "cell_type": "markdown",
   "id": "3041edab",
   "metadata": {
    "id": "3041edab"
   },
   "source": [
    "## 2. Árboles de decisión"
   ]
  },
  {
   "cell_type": "code",
   "execution_count": 18,
   "id": "dd878d17",
   "metadata": {
    "id": "dd878d17"
   },
   "outputs": [],
   "source": [
    "from sklearn.tree import DecisionTreeClassifier\n",
    "from sklearn.model_selection import GridSearchCV, TimeSeriesSplit\n",
    "from sklearn.metrics import accuracy_score, confusion_matrix\n",
    "import numpy as np\n",
    "import seaborn as sns\n",
    "import matplotlib.pyplot as plt\n",
    "from sklearn.metrics import make_scorer, accuracy_score, precision_score, recall_score, f1_score"
   ]
  },
  {
   "cell_type": "code",
   "execution_count": 103,
   "id": "e44f2d9e-95de-460a-94fc-e56f585aed4a",
   "metadata": {},
   "outputs": [],
   "source": [
    "param_grid = {\n",
    "    'criterion': ['gini', 'entropy'],\n",
    "    'max_depth': [None, 3, 5, 10, 20, 30],\n",
    "    'min_samples_split': [2, 5, 10, 15],\n",
    "    'min_samples_leaf': [1, 2, 4, 6, 10],\n",
    "}"
   ]
  },
  {
   "cell_type": "code",
   "execution_count": 104,
   "id": "70674438",
   "metadata": {
    "id": "70674438"
   },
   "outputs": [],
   "source": [
    "dt_clf = DecisionTreeClassifier(random_state=3)"
   ]
  },
  {
   "cell_type": "code",
   "execution_count": 105,
   "id": "8b19e940",
   "metadata": {
    "id": "8b19e940"
   },
   "outputs": [],
   "source": [
    "# GridSearchCV\n",
    "grid_search = GridSearchCV(estimator=dt_clf, param_grid=param_grid, cv=TimeSeriesSplit(n_splits=10),\n",
    "                           scoring='accuracy', n_jobs=-1)"
   ]
  },
  {
   "cell_type": "code",
   "execution_count": 106,
   "id": "rUxVMzJg8gJA",
   "metadata": {
    "id": "rUxVMzJg8gJA"
   },
   "outputs": [],
   "source": [
    "import time\n",
    "# Guardar el tiempo antes de ejecutar la funcion de entrenamiento\n",
    "start_time = time.time()"
   ]
  },
  {
   "cell_type": "code",
   "execution_count": 107,
   "id": "a20d091f",
   "metadata": {
    "colab": {
     "base_uri": "https://localhost:8080/",
     "height": 117
    },
    "id": "a20d091f",
    "outputId": "192960a9-d4f0-47b4-a1df-477a57deb9ec"
   },
   "outputs": [
    {
     "data": {
      "text/html": [
       "<style>#sk-container-id-5 {color: black;background-color: white;}#sk-container-id-5 pre{padding: 0;}#sk-container-id-5 div.sk-toggleable {background-color: white;}#sk-container-id-5 label.sk-toggleable__label {cursor: pointer;display: block;width: 100%;margin-bottom: 0;padding: 0.3em;box-sizing: border-box;text-align: center;}#sk-container-id-5 label.sk-toggleable__label-arrow:before {content: \"▸\";float: left;margin-right: 0.25em;color: #696969;}#sk-container-id-5 label.sk-toggleable__label-arrow:hover:before {color: black;}#sk-container-id-5 div.sk-estimator:hover label.sk-toggleable__label-arrow:before {color: black;}#sk-container-id-5 div.sk-toggleable__content {max-height: 0;max-width: 0;overflow: hidden;text-align: left;background-color: #f0f8ff;}#sk-container-id-5 div.sk-toggleable__content pre {margin: 0.2em;color: black;border-radius: 0.25em;background-color: #f0f8ff;}#sk-container-id-5 input.sk-toggleable__control:checked~div.sk-toggleable__content {max-height: 200px;max-width: 100%;overflow: auto;}#sk-container-id-5 input.sk-toggleable__control:checked~label.sk-toggleable__label-arrow:before {content: \"▾\";}#sk-container-id-5 div.sk-estimator input.sk-toggleable__control:checked~label.sk-toggleable__label {background-color: #d4ebff;}#sk-container-id-5 div.sk-label input.sk-toggleable__control:checked~label.sk-toggleable__label {background-color: #d4ebff;}#sk-container-id-5 input.sk-hidden--visually {border: 0;clip: rect(1px 1px 1px 1px);clip: rect(1px, 1px, 1px, 1px);height: 1px;margin: -1px;overflow: hidden;padding: 0;position: absolute;width: 1px;}#sk-container-id-5 div.sk-estimator {font-family: monospace;background-color: #f0f8ff;border: 1px dotted black;border-radius: 0.25em;box-sizing: border-box;margin-bottom: 0.5em;}#sk-container-id-5 div.sk-estimator:hover {background-color: #d4ebff;}#sk-container-id-5 div.sk-parallel-item::after {content: \"\";width: 100%;border-bottom: 1px solid gray;flex-grow: 1;}#sk-container-id-5 div.sk-label:hover label.sk-toggleable__label {background-color: #d4ebff;}#sk-container-id-5 div.sk-serial::before {content: \"\";position: absolute;border-left: 1px solid gray;box-sizing: border-box;top: 0;bottom: 0;left: 50%;z-index: 0;}#sk-container-id-5 div.sk-serial {display: flex;flex-direction: column;align-items: center;background-color: white;padding-right: 0.2em;padding-left: 0.2em;position: relative;}#sk-container-id-5 div.sk-item {position: relative;z-index: 1;}#sk-container-id-5 div.sk-parallel {display: flex;align-items: stretch;justify-content: center;background-color: white;position: relative;}#sk-container-id-5 div.sk-item::before, #sk-container-id-5 div.sk-parallel-item::before {content: \"\";position: absolute;border-left: 1px solid gray;box-sizing: border-box;top: 0;bottom: 0;left: 50%;z-index: -1;}#sk-container-id-5 div.sk-parallel-item {display: flex;flex-direction: column;z-index: 1;position: relative;background-color: white;}#sk-container-id-5 div.sk-parallel-item:first-child::after {align-self: flex-end;width: 50%;}#sk-container-id-5 div.sk-parallel-item:last-child::after {align-self: flex-start;width: 50%;}#sk-container-id-5 div.sk-parallel-item:only-child::after {width: 0;}#sk-container-id-5 div.sk-dashed-wrapped {border: 1px dashed gray;margin: 0 0.4em 0.5em 0.4em;box-sizing: border-box;padding-bottom: 0.4em;background-color: white;}#sk-container-id-5 div.sk-label label {font-family: monospace;font-weight: bold;display: inline-block;line-height: 1.2em;}#sk-container-id-5 div.sk-label-container {text-align: center;}#sk-container-id-5 div.sk-container {/* jupyter's `normalize.less` sets `[hidden] { display: none; }` but bootstrap.min.css set `[hidden] { display: none !important; }` so we also need the `!important` here to be able to override the default hidden behavior on the sphinx rendered scikit-learn.org. See: https://github.com/scikit-learn/scikit-learn/issues/21755 */display: inline-block !important;position: relative;}#sk-container-id-5 div.sk-text-repr-fallback {display: none;}</style><div id=\"sk-container-id-5\" class=\"sk-top-container\"><div class=\"sk-text-repr-fallback\"><pre>GridSearchCV(cv=TimeSeriesSplit(gap=0, max_train_size=None, n_splits=10, test_size=None),\n",
       "             estimator=DecisionTreeClassifier(random_state=3), n_jobs=-1,\n",
       "             param_grid={&#x27;criterion&#x27;: [&#x27;gini&#x27;, &#x27;entropy&#x27;],\n",
       "                         &#x27;max_depth&#x27;: [None, 3, 5, 10, 20, 30],\n",
       "                         &#x27;min_samples_leaf&#x27;: [1, 2, 4, 6, 10],\n",
       "                         &#x27;min_samples_split&#x27;: [2, 5, 10, 15]},\n",
       "             scoring=&#x27;accuracy&#x27;)</pre><b>In a Jupyter environment, please rerun this cell to show the HTML representation or trust the notebook. <br />On GitHub, the HTML representation is unable to render, please try loading this page with nbviewer.org.</b></div><div class=\"sk-container\" hidden><div class=\"sk-item sk-dashed-wrapped\"><div class=\"sk-label-container\"><div class=\"sk-label sk-toggleable\"><input class=\"sk-toggleable__control sk-hidden--visually\" id=\"sk-estimator-id-7\" type=\"checkbox\" ><label for=\"sk-estimator-id-7\" class=\"sk-toggleable__label sk-toggleable__label-arrow\">GridSearchCV</label><div class=\"sk-toggleable__content\"><pre>GridSearchCV(cv=TimeSeriesSplit(gap=0, max_train_size=None, n_splits=10, test_size=None),\n",
       "             estimator=DecisionTreeClassifier(random_state=3), n_jobs=-1,\n",
       "             param_grid={&#x27;criterion&#x27;: [&#x27;gini&#x27;, &#x27;entropy&#x27;],\n",
       "                         &#x27;max_depth&#x27;: [None, 3, 5, 10, 20, 30],\n",
       "                         &#x27;min_samples_leaf&#x27;: [1, 2, 4, 6, 10],\n",
       "                         &#x27;min_samples_split&#x27;: [2, 5, 10, 15]},\n",
       "             scoring=&#x27;accuracy&#x27;)</pre></div></div></div><div class=\"sk-parallel\"><div class=\"sk-parallel-item\"><div class=\"sk-item\"><div class=\"sk-label-container\"><div class=\"sk-label sk-toggleable\"><input class=\"sk-toggleable__control sk-hidden--visually\" id=\"sk-estimator-id-8\" type=\"checkbox\" ><label for=\"sk-estimator-id-8\" class=\"sk-toggleable__label sk-toggleable__label-arrow\">estimator: DecisionTreeClassifier</label><div class=\"sk-toggleable__content\"><pre>DecisionTreeClassifier(random_state=3)</pre></div></div></div><div class=\"sk-serial\"><div class=\"sk-item\"><div class=\"sk-estimator sk-toggleable\"><input class=\"sk-toggleable__control sk-hidden--visually\" id=\"sk-estimator-id-9\" type=\"checkbox\" ><label for=\"sk-estimator-id-9\" class=\"sk-toggleable__label sk-toggleable__label-arrow\">DecisionTreeClassifier</label><div class=\"sk-toggleable__content\"><pre>DecisionTreeClassifier(random_state=3)</pre></div></div></div></div></div></div></div></div></div></div>"
      ],
      "text/plain": [
       "GridSearchCV(cv=TimeSeriesSplit(gap=0, max_train_size=None, n_splits=10, test_size=None),\n",
       "             estimator=DecisionTreeClassifier(random_state=3), n_jobs=-1,\n",
       "             param_grid={'criterion': ['gini', 'entropy'],\n",
       "                         'max_depth': [None, 3, 5, 10, 20, 30],\n",
       "                         'min_samples_leaf': [1, 2, 4, 6, 10],\n",
       "                         'min_samples_split': [2, 5, 10, 15]},\n",
       "             scoring='accuracy')"
      ]
     },
     "execution_count": 107,
     "metadata": {},
     "output_type": "execute_result"
    }
   ],
   "source": [
    "grid_search.fit(X_train, y_train)"
   ]
  },
  {
   "cell_type": "code",
   "execution_count": 108,
   "id": "1b3O3kRX8-np",
   "metadata": {
    "id": "1b3O3kRX8-np"
   },
   "outputs": [],
   "source": [
    "# Guardar el tiempo despues de ejecutar la funcion de entrenamiento\n",
    "end_time = time.time ()"
   ]
  },
  {
   "cell_type": "code",
   "execution_count": 109,
   "id": "XoplPIpy9UVy",
   "metadata": {
    "colab": {
     "base_uri": "https://localhost:8080/"
    },
    "id": "XoplPIpy9UVy",
    "outputId": "e14af29c-3e2f-46de-9885-50cfbcce8d69"
   },
   "outputs": [
    {
     "name": "stdout",
     "output_type": "stream",
     "text": [
      "El tiempo de CPU total es 9.53 segundos\n"
     ]
    }
   ],
   "source": [
    "# Calcular el tiempo de CPU total\n",
    "cpu_time = end_time - start_time\n",
    "# Mostrar el tiempo de CPU total\n",
    "print(f\"El tiempo de CPU total es {cpu_time:.2f} segundos\")"
   ]
  },
  {
   "cell_type": "code",
   "execution_count": 110,
   "id": "fd1cc987",
   "metadata": {
    "id": "fd1cc987"
   },
   "outputs": [],
   "source": [
    "best_dt = grid_search.best_estimator_"
   ]
  },
  {
   "cell_type": "code",
   "execution_count": 111,
   "id": "f7c93ece",
   "metadata": {
    "colab": {
     "base_uri": "https://localhost:8080/"
    },
    "id": "f7c93ece",
    "outputId": "6780aad1-1816-4c41-e8fd-e43b7cfaf388"
   },
   "outputs": [
    {
     "name": "stdout",
     "output_type": "stream",
     "text": [
      "Mejores parámetros encontrados:\n",
      "{'criterion': 'entropy', 'max_depth': 3, 'min_samples_leaf': 1, 'min_samples_split': 15}\n",
      "Precisión del modelo en el conjunto de entrenamiento: 0.4929\n"
     ]
    }
   ],
   "source": [
    "print(\"Mejores parámetros encontrados:\")\n",
    "print(grid_search.best_params_)\n",
    "\n",
    "accuracy_train = best_dt.score(X_train, y_train)\n",
    "print(f\"Precisión del modelo en el conjunto de entrenamiento: {accuracy_train:.4f}\")\n"
   ]
  },
  {
   "cell_type": "code",
   "execution_count": 112,
   "id": "ecdc1aa6",
   "metadata": {
    "id": "ecdc1aa6"
   },
   "outputs": [],
   "source": [
    "y_pred = best_dt.predict(X_test)\n",
    "y_pred_prob = best_dt.predict_proba(X_test)  # Probabilidades para AUC"
   ]
  },
  {
   "cell_type": "code",
   "execution_count": 113,
   "id": "2b2abf76-e48f-4f08-bf70-b2916ce43650",
   "metadata": {},
   "outputs": [
    {
     "name": "stdout",
     "output_type": "stream",
     "text": [
      "Precisión del modelo en el conjunto de prueba: 46.75%\n",
      "Precisión (Precision) en el conjunto de prueba: 33.52%\n",
      "Recuperación (Recall) en el conjunto de prueba: 46.75%\n",
      "F1-score en el conjunto de prueba: 38.36%\n",
      "AUC en el conjunto de prueba: 57.58%\n"
     ]
    }
   ],
   "source": [
    "from sklearn.metrics import roc_auc_score\n",
    "\n",
    "accuracy = accuracy_score(y_test, y_pred)\n",
    "precision = precision_score(y_test, y_pred, average='weighted')\n",
    "recall = recall_score(y_test, y_pred, average='weighted')\n",
    "f1 = f1_score(y_test, y_pred, average='weighted')\n",
    "\n",
    "# AUC para cada clase y promedio ponderado\n",
    "auc = roc_auc_score(y_test, y_pred_prob, multi_class='ovr', average='weighted')\n",
    "\n",
    "print(\"Precisión del modelo en el conjunto de prueba: {:.2f}%\".format(accuracy * 100))\n",
    "print(\"Precisión (Precision) en el conjunto de prueba: {:.2f}%\".format(precision * 100))\n",
    "print(\"Recuperación (Recall) en el conjunto de prueba: {:.2f}%\".format(recall * 100))\n",
    "print(\"F1-score en el conjunto de prueba: {:.2f}%\".format(f1*100))\n",
    "print(\"AUC en el conjunto de prueba: {:.2f}%\".format(auc*100))"
   ]
  },
  {
   "cell_type": "code",
   "execution_count": 114,
   "id": "332e780c",
   "metadata": {
    "colab": {
     "base_uri": "https://localhost:8080/"
    },
    "id": "332e780c",
    "outputId": "117509e4-8fa2-4572-e640-18604483e2e5"
   },
   "outputs": [
    {
     "name": "stdout",
     "output_type": "stream",
     "text": [
      "Matriz de confusión:\n",
      "[[ 32   0  78]\n",
      " [ 27   0  73]\n",
      " [ 34   1 155]]\n"
     ]
    }
   ],
   "source": [
    "conf_matrix = confusion_matrix(y_test, y_pred)\n",
    "print(\"Matriz de confusión:\")\n",
    "print(conf_matrix)"
   ]
  },
  {
   "cell_type": "code",
   "execution_count": 115,
   "id": "d6eb8582",
   "metadata": {
    "colab": {
     "base_uri": "https://localhost:8080/",
     "height": 653
    },
    "id": "d6eb8582",
    "outputId": "30f46eb0-0534-4913-f29c-09dea1a00180"
   },
   "outputs": [
    {
     "data": {
      "image/png": "[encoded data removed]",
      "text/plain": [
       "<Figure size 1200x800 with 1 Axes>"
      ]
     },
     "metadata": {},
     "output_type": "display_data"
    }
   ],
   "source": [
    "from sklearn.tree import DecisionTreeClassifier, plot_tree\n",
    "import matplotlib.pyplot as plt\n",
    "\n",
    "best_dt.fit(X_train, y_train)\n",
    "\n",
    "plt.figure(figsize=(12, 8))\n",
    "plot_tree(best_dt, feature_names=X_train.columns, class_names=['Ganar Local', 'Ganar Visitante', 'Empate'], filled=True)\n",
    "plt.show()\n"
   ]
  },
  {
   "cell_type": "markdown",
   "id": "75a3418d-dcc9-4217-a051-add06507faa1",
   "metadata": {},
   "source": [
    "## Random Forest"
   ]
  },
  {
   "cell_type": "code",
   "execution_count": 116,
   "id": "d02db0e5",
   "metadata": {
    "id": "d02db0e5"
   },
   "outputs": [],
   "source": [
    "param_grid = {\n",
    "    'criterion': ['gini', 'entropy'],\n",
    "    'n_estimators': [50, 100, 200],\n",
    "    'max_depth': [None, 3, 5, 10, 20, 30],\n",
    "    'min_samples_split': [2, 5, 10, 15],\n",
    "    'min_samples_leaf': [1, 2, 4, 6, 10],\n",
    "}"
   ]
  },
  {
   "cell_type": "code",
   "execution_count": 117,
   "id": "d5a1cb31",
   "metadata": {
    "id": "d5a1cb31"
   },
   "outputs": [],
   "source": [
    "from sklearn.ensemble import RandomForestClassifier\n",
    "rf_clf = RandomForestClassifier(random_state=3)"
   ]
  },
  {
   "cell_type": "code",
   "execution_count": 118,
   "id": "4c237448",
   "metadata": {
    "id": "4c237448"
   },
   "outputs": [],
   "source": [
    "grid_search = GridSearchCV(estimator=rf_clf, param_grid=param_grid, cv=TimeSeriesSplit(n_splits=10),\n",
    "                           scoring='accuracy', n_jobs=-1)"
   ]
  },
  {
   "cell_type": "code",
   "execution_count": 119,
   "id": "RnNSRucVNBig",
   "metadata": {
    "id": "RnNSRucVNBig"
   },
   "outputs": [],
   "source": [
    "import time\n",
    "# Guardar el tiempo antes de ejecutar la funcion de entrenamiento\n",
    "start_time = time.time()"
   ]
  },
  {
   "cell_type": "code",
   "execution_count": 120,
   "id": "946a3ba8",
   "metadata": {
    "colab": {
     "base_uri": "https://localhost:8080/",
     "height": 316
    },
    "id": "946a3ba8",
    "outputId": "7f52ee67-f4a3-4384-be3d-4a4699b17876"
   },
   "outputs": [
    {
     "data": {
      "text/html": [
       "<style>#sk-container-id-6 {color: black;background-color: white;}#sk-container-id-6 pre{padding: 0;}#sk-container-id-6 div.sk-toggleable {background-color: white;}#sk-container-id-6 label.sk-toggleable__label {cursor: pointer;display: block;width: 100%;margin-bottom: 0;padding: 0.3em;box-sizing: border-box;text-align: center;}#sk-container-id-6 label.sk-toggleable__label-arrow:before {content: \"▸\";float: left;margin-right: 0.25em;color: #696969;}#sk-container-id-6 label.sk-toggleable__label-arrow:hover:before {color: black;}#sk-container-id-6 div.sk-estimator:hover label.sk-toggleable__label-arrow:before {color: black;}#sk-container-id-6 div.sk-toggleable__content {max-height: 0;max-width: 0;overflow: hidden;text-align: left;background-color: #f0f8ff;}#sk-container-id-6 div.sk-toggleable__content pre {margin: 0.2em;color: black;border-radius: 0.25em;background-color: #f0f8ff;}#sk-container-id-6 input.sk-toggleable__control:checked~div.sk-toggleable__content {max-height: 200px;max-width: 100%;overflow: auto;}#sk-container-id-6 input.sk-toggleable__control:checked~label.sk-toggleable__label-arrow:before {content: \"▾\";}#sk-container-id-6 div.sk-estimator input.sk-toggleable__control:checked~label.sk-toggleable__label {background-color: #d4ebff;}#sk-container-id-6 div.sk-label input.sk-toggleable__control:checked~label.sk-toggleable__label {background-color: #d4ebff;}#sk-container-id-6 input.sk-hidden--visually {border: 0;clip: rect(1px 1px 1px 1px);clip: rect(1px, 1px, 1px, 1px);height: 1px;margin: -1px;overflow: hidden;padding: 0;position: absolute;width: 1px;}#sk-container-id-6 div.sk-estimator {font-family: monospace;background-color: #f0f8ff;border: 1px dotted black;border-radius: 0.25em;box-sizing: border-box;margin-bottom: 0.5em;}#sk-container-id-6 div.sk-estimator:hover {background-color: #d4ebff;}#sk-container-id-6 div.sk-parallel-item::after {content: \"\";width: 100%;border-bottom: 1px solid gray;flex-grow: 1;}#sk-container-id-6 div.sk-label:hover label.sk-toggleable__label {background-color: #d4ebff;}#sk-container-id-6 div.sk-serial::before {content: \"\";position: absolute;border-left: 1px solid gray;box-sizing: border-box;top: 0;bottom: 0;left: 50%;z-index: 0;}#sk-container-id-6 div.sk-serial {display: flex;flex-direction: column;align-items: center;background-color: white;padding-right: 0.2em;padding-left: 0.2em;position: relative;}#sk-container-id-6 div.sk-item {position: relative;z-index: 1;}#sk-container-id-6 div.sk-parallel {display: flex;align-items: stretch;justify-content: center;background-color: white;position: relative;}#sk-container-id-6 div.sk-item::before, #sk-container-id-6 div.sk-parallel-item::before {content: \"\";position: absolute;border-left: 1px solid gray;box-sizing: border-box;top: 0;bottom: 0;left: 50%;z-index: -1;}#sk-container-id-6 div.sk-parallel-item {display: flex;flex-direction: column;z-index: 1;position: relative;background-color: white;}#sk-container-id-6 div.sk-parallel-item:first-child::after {align-self: flex-end;width: 50%;}#sk-container-id-6 div.sk-parallel-item:last-child::after {align-self: flex-start;width: 50%;}#sk-container-id-6 div.sk-parallel-item:only-child::after {width: 0;}#sk-container-id-6 div.sk-dashed-wrapped {border: 1px dashed gray;margin: 0 0.4em 0.5em 0.4em;box-sizing: border-box;padding-bottom: 0.4em;background-color: white;}#sk-container-id-6 div.sk-label label {font-family: monospace;font-weight: bold;display: inline-block;line-height: 1.2em;}#sk-container-id-6 div.sk-label-container {text-align: center;}#sk-container-id-6 div.sk-container {/* jupyter's `normalize.less` sets `[hidden] { display: none; }` but bootstrap.min.css set `[hidden] { display: none !important; }` so we also need the `!important` here to be able to override the default hidden behavior on the sphinx rendered scikit-learn.org. See: https://github.com/scikit-learn/scikit-learn/issues/21755 */display: inline-block !important;position: relative;}#sk-container-id-6 div.sk-text-repr-fallback {display: none;}</style><div id=\"sk-container-id-6\" class=\"sk-top-container\"><div class=\"sk-text-repr-fallback\"><pre>GridSearchCV(cv=TimeSeriesSplit(gap=0, max_train_size=None, n_splits=10, test_size=None),\n",
       "             estimator=RandomForestClassifier(random_state=3), n_jobs=-1,\n",
       "             param_grid={&#x27;criterion&#x27;: [&#x27;gini&#x27;, &#x27;entropy&#x27;],\n",
       "                         &#x27;max_depth&#x27;: [None, 3, 5, 10, 20, 30],\n",
       "                         &#x27;min_samples_leaf&#x27;: [1, 2, 4, 6, 10],\n",
       "                         &#x27;min_samples_split&#x27;: [2, 5, 10, 15],\n",
       "                         &#x27;n_estimators&#x27;: [50, 100, 200]},\n",
       "             scoring=&#x27;accuracy&#x27;)</pre><b>In a Jupyter environment, please rerun this cell to show the HTML representation or trust the notebook. <br />On GitHub, the HTML representation is unable to render, please try loading this page with nbviewer.org.</b></div><div class=\"sk-container\" hidden><div class=\"sk-item sk-dashed-wrapped\"><div class=\"sk-label-container\"><div class=\"sk-label sk-toggleable\"><input class=\"sk-toggleable__control sk-hidden--visually\" id=\"sk-estimator-id-10\" type=\"checkbox\" ><label for=\"sk-estimator-id-10\" class=\"sk-toggleable__label sk-toggleable__label-arrow\">GridSearchCV</label><div class=\"sk-toggleable__content\"><pre>GridSearchCV(cv=TimeSeriesSplit(gap=0, max_train_size=None, n_splits=10, test_size=None),\n",
       "             estimator=RandomForestClassifier(random_state=3), n_jobs=-1,\n",
       "             param_grid={&#x27;criterion&#x27;: [&#x27;gini&#x27;, &#x27;entropy&#x27;],\n",
       "                         &#x27;max_depth&#x27;: [None, 3, 5, 10, 20, 30],\n",
       "                         &#x27;min_samples_leaf&#x27;: [1, 2, 4, 6, 10],\n",
       "                         &#x27;min_samples_split&#x27;: [2, 5, 10, 15],\n",
       "                         &#x27;n_estimators&#x27;: [50, 100, 200]},\n",
       "             scoring=&#x27;accuracy&#x27;)</pre></div></div></div><div class=\"sk-parallel\"><div class=\"sk-parallel-item\"><div class=\"sk-item\"><div class=\"sk-label-container\"><div class=\"sk-label sk-toggleable\"><input class=\"sk-toggleable__control sk-hidden--visually\" id=\"sk-estimator-id-11\" type=\"checkbox\" ><label for=\"sk-estimator-id-11\" class=\"sk-toggleable__label sk-toggleable__label-arrow\">estimator: RandomForestClassifier</label><div class=\"sk-toggleable__content\"><pre>RandomForestClassifier(random_state=3)</pre></div></div></div><div class=\"sk-serial\"><div class=\"sk-item\"><div class=\"sk-estimator sk-toggleable\"><input class=\"sk-toggleable__control sk-hidden--visually\" id=\"sk-estimator-id-12\" type=\"checkbox\" ><label for=\"sk-estimator-id-12\" class=\"sk-toggleable__label sk-toggleable__label-arrow\">RandomForestClassifier</label><div class=\"sk-toggleable__content\"><pre>RandomForestClassifier(random_state=3)</pre></div></div></div></div></div></div></div></div></div></div>"
      ],
      "text/plain": [
       "GridSearchCV(cv=TimeSeriesSplit(gap=0, max_train_size=None, n_splits=10, test_size=None),\n",
       "             estimator=RandomForestClassifier(random_state=3), n_jobs=-1,\n",
       "             param_grid={'criterion': ['gini', 'entropy'],\n",
       "                         'max_depth': [None, 3, 5, 10, 20, 30],\n",
       "                         'min_samples_leaf': [1, 2, 4, 6, 10],\n",
       "                         'min_samples_split': [2, 5, 10, 15],\n",
       "                         'n_estimators': [50, 100, 200]},\n",
       "             scoring='accuracy')"
      ]
     },
     "execution_count": 120,
     "metadata": {},
     "output_type": "execute_result"
    }
   ],
   "source": [
    "# GridSearchCV\n",
    "grid_search.fit(X_train, y_train)"
   ]
  },
  {
   "cell_type": "code",
   "execution_count": 121,
   "id": "-4R-TIKBNEvR",
   "metadata": {
    "id": "-4R-TIKBNEvR"
   },
   "outputs": [],
   "source": [
    "# Guardar el tiempo despues de ejecutar la funcion de entrenamiento\n",
    "end_time = time.time ()"
   ]
  },
  {
   "cell_type": "code",
   "execution_count": 122,
   "id": "CP0pwtPeNIMT",
   "metadata": {
    "id": "CP0pwtPeNIMT"
   },
   "outputs": [
    {
     "name": "stdout",
     "output_type": "stream",
     "text": [
      "El tiempo de CPU total es 455.04 segundos\n"
     ]
    }
   ],
   "source": [
    "# Calcular el tiempo de CPU total\n",
    "cpu_time = end_time - start_time\n",
    "# Mostrar e l tiempo de CPU total\n",
    "print(f\"El tiempo de CPU total es {cpu_time:.2f} segundos\")"
   ]
  },
  {
   "cell_type": "code",
   "execution_count": 123,
   "id": "350b0866",
   "metadata": {
    "id": "350b0866"
   },
   "outputs": [],
   "source": [
    "# mejor modelo\n",
    "best_rf = grid_search.best_estimator_"
   ]
  },
  {
   "cell_type": "code",
   "execution_count": 124,
   "id": "3f3df963",
   "metadata": {
    "id": "3f3df963",
    "outputId": "10e18ca2-5621-495c-9659-604199273782"
   },
   "outputs": [
    {
     "name": "stdout",
     "output_type": "stream",
     "text": [
      "Mejores parámetros encontrados:\n",
      "{'criterion': 'entropy', 'max_depth': 5, 'min_samples_leaf': 1, 'min_samples_split': 10, 'n_estimators': 50}\n",
      "Precisión del modelo en el conjunto de entrenamiento: 0.5254\n"
     ]
    }
   ],
   "source": [
    "print(\"Mejores parámetros encontrados:\")\n",
    "print(grid_search.best_params_)\n",
    "accuracy_train = best_rf.score(X_train, y_train)\n",
    "print(f\"Precisión del modelo en el conjunto de entrenamiento: {accuracy_train:.4f}\")"
   ]
  },
  {
   "cell_type": "code",
   "execution_count": 125,
   "id": "6f1b99cf-ad38-4e5a-a2ee-db6c9127e5bb",
   "metadata": {},
   "outputs": [],
   "source": [
    "# Realiza predicciones\n",
    "y_pred = best_rf.predict(X_test)\n",
    "y_pred_prob = best_rf.predict_proba(X_test)  # Probabilidades para AUC"
   ]
  },
  {
   "cell_type": "code",
   "execution_count": 126,
   "id": "d2353a0f-68e0-4eb9-89de-d4af3fea55d9",
   "metadata": {},
   "outputs": [
    {
     "name": "stdout",
     "output_type": "stream",
     "text": [
      "Precisión del modelo en el conjunto de prueba: 49.00%\n",
      "Precisión (Precision) en el conjunto de prueba: 39.35%\n",
      "Recuperación (Recall) en el conjunto de prueba: 49.00%\n",
      "F1-score en el conjunto de prueba: 42.03%\n",
      "AUC en el conjunto de prueba: 60.92%\n"
     ]
    }
   ],
   "source": [
    "accuracy = accuracy_score(y_test, y_pred)\n",
    "precision = precision_score(y_test, y_pred, average='weighted')\n",
    "recall = recall_score(y_test, y_pred, average='weighted')\n",
    "f1 = f1_score(y_test, y_pred, average='weighted')\n",
    "\n",
    "# AUC para cada clase y promedio ponderado\n",
    "auc = roc_auc_score(y_test, y_pred_prob, multi_class='ovr', average='weighted')\n",
    "\n",
    "print(\"Precisión del modelo en el conjunto de prueba: {:.2f}%\".format(accuracy * 100))\n",
    "print(\"Precisión (Precision) en el conjunto de prueba: {:.2f}%\".format(precision * 100))\n",
    "print(\"Recuperación (Recall) en el conjunto de prueba: {:.2f}%\".format(recall * 100))\n",
    "print(\"F1-score en el conjunto de prueba: {:.2f}%\".format(f1*100))\n",
    "print(\"AUC en el conjunto de prueba: {:.2f}%\".format(auc*100))"
   ]
  },
  {
   "cell_type": "code",
   "execution_count": 127,
   "id": "a2da0dc1",
   "metadata": {
    "id": "a2da0dc1",
    "outputId": "78b9483b-5fa5-453a-ec1f-c7348750e43a"
   },
   "outputs": [
    {
     "name": "stdout",
     "output_type": "stream",
     "text": [
      "Matriz de confusión:\n",
      "[[ 46   3  61]\n",
      " [ 25   1  74]\n",
      " [ 35   6 149]]\n"
     ]
    }
   ],
   "source": [
    "from sklearn.metrics import confusion_matrix\n",
    "\n",
    "conf_matrix = confusion_matrix(y_test, y_pred)\n",
    "print(\"Matriz de confusión:\")\n",
    "print(conf_matrix)"
   ]
  },
  {
   "cell_type": "markdown",
   "id": "e6bcda38-b14b-4012-9bcc-7b4b07a71f95",
   "metadata": {},
   "source": [
    "## Regresion logistica"
   ]
  },
  {
   "cell_type": "code",
   "execution_count": 9,
   "id": "00031694",
   "metadata": {
    "id": "00031694"
   },
   "outputs": [],
   "source": [
    "import pandas as pd\n",
    "from sklearn.model_selection import train_test_split\n",
    "from sklearn.linear_model import LogisticRegression\n",
    "from sklearn.model_selection import GridSearchCV, StratifiedKFold\n",
    "from sklearn.metrics import accuracy_score, confusion_matrix"
   ]
  },
  {
   "cell_type": "code",
   "execution_count": 10,
   "id": "a00a1048",
   "metadata": {
    "id": "a00a1048"
   },
   "outputs": [],
   "source": [
    "param_grid = {'penalty': [None],\n",
    "              'C': [1]}"
   ]
  },
  {
   "cell_type": "code",
   "execution_count": 11,
   "id": "8caf0601",
   "metadata": {
    "id": "8caf0601"
   },
   "outputs": [],
   "source": [
    "lr_clf = LogisticRegression(max_iter=1000, random_state=3)\n",
    "grid_search = GridSearchCV(estimator=lr_clf, param_grid=param_grid, cv=TimeSeriesSplit(n_splits=10),\n",
    "                           scoring='accuracy', n_jobs=-1)"
   ]
  },
  {
   "cell_type": "code",
   "execution_count": 12,
   "id": "1zOBHt47HdKf",
   "metadata": {
    "id": "1zOBHt47HdKf"
   },
   "outputs": [],
   "source": [
    "import time\n",
    "# Guardar e l tiempo antes de ejecutar la funcion de entrenamiento\n",
    "start_time = time.time()"
   ]
  },
  {
   "cell_type": "code",
   "execution_count": 13,
   "id": "29f2a941",
   "metadata": {
    "colab": {
     "base_uri": "https://localhost:8080/",
     "height": 117
    },
    "id": "29f2a941",
    "outputId": "dc274fae-9b9d-4214-a42d-4c49f1fb1e6f"
   },
   "outputs": [
    {
     "data": {
      "text/html": [
       "<style>#sk-container-id-1 {color: black;background-color: white;}#sk-container-id-1 pre{padding: 0;}#sk-container-id-1 div.sk-toggleable {background-color: white;}#sk-container-id-1 label.sk-toggleable__label {cursor: pointer;display: block;width: 100%;margin-bottom: 0;padding: 0.3em;box-sizing: border-box;text-align: center;}#sk-container-id-1 label.sk-toggleable__label-arrow:before {content: \"▸\";float: left;margin-right: 0.25em;color: #696969;}#sk-container-id-1 label.sk-toggleable__label-arrow:hover:before {color: black;}#sk-container-id-1 div.sk-estimator:hover label.sk-toggleable__label-arrow:before {color: black;}#sk-container-id-1 div.sk-toggleable__content {max-height: 0;max-width: 0;overflow: hidden;text-align: left;background-color: #f0f8ff;}#sk-container-id-1 div.sk-toggleable__content pre {margin: 0.2em;color: black;border-radius: 0.25em;background-color: #f0f8ff;}#sk-container-id-1 input.sk-toggleable__control:checked~div.sk-toggleable__content {max-height: 200px;max-width: 100%;overflow: auto;}#sk-container-id-1 input.sk-toggleable__control:checked~label.sk-toggleable__label-arrow:before {content: \"▾\";}#sk-container-id-1 div.sk-estimator input.sk-toggleable__control:checked~label.sk-toggleable__label {background-color: #d4ebff;}#sk-container-id-1 div.sk-label input.sk-toggleable__control:checked~label.sk-toggleable__label {background-color: #d4ebff;}#sk-container-id-1 input.sk-hidden--visually {border: 0;clip: rect(1px 1px 1px 1px);clip: rect(1px, 1px, 1px, 1px);height: 1px;margin: -1px;overflow: hidden;padding: 0;position: absolute;width: 1px;}#sk-container-id-1 div.sk-estimator {font-family: monospace;background-color: #f0f8ff;border: 1px dotted black;border-radius: 0.25em;box-sizing: border-box;margin-bottom: 0.5em;}#sk-container-id-1 div.sk-estimator:hover {background-color: #d4ebff;}#sk-container-id-1 div.sk-parallel-item::after {content: \"\";width: 100%;border-bottom: 1px solid gray;flex-grow: 1;}#sk-container-id-1 div.sk-label:hover label.sk-toggleable__label {background-color: #d4ebff;}#sk-container-id-1 div.sk-serial::before {content: \"\";position: absolute;border-left: 1px solid gray;box-sizing: border-box;top: 0;bottom: 0;left: 50%;z-index: 0;}#sk-container-id-1 div.sk-serial {display: flex;flex-direction: column;align-items: center;background-color: white;padding-right: 0.2em;padding-left: 0.2em;position: relative;}#sk-container-id-1 div.sk-item {position: relative;z-index: 1;}#sk-container-id-1 div.sk-parallel {display: flex;align-items: stretch;justify-content: center;background-color: white;position: relative;}#sk-container-id-1 div.sk-item::before, #sk-container-id-1 div.sk-parallel-item::before {content: \"\";position: absolute;border-left: 1px solid gray;box-sizing: border-box;top: 0;bottom: 0;left: 50%;z-index: -1;}#sk-container-id-1 div.sk-parallel-item {display: flex;flex-direction: column;z-index: 1;position: relative;background-color: white;}#sk-container-id-1 div.sk-parallel-item:first-child::after {align-self: flex-end;width: 50%;}#sk-container-id-1 div.sk-parallel-item:last-child::after {align-self: flex-start;width: 50%;}#sk-container-id-1 div.sk-parallel-item:only-child::after {width: 0;}#sk-container-id-1 div.sk-dashed-wrapped {border: 1px dashed gray;margin: 0 0.4em 0.5em 0.4em;box-sizing: border-box;padding-bottom: 0.4em;background-color: white;}#sk-container-id-1 div.sk-label label {font-family: monospace;font-weight: bold;display: inline-block;line-height: 1.2em;}#sk-container-id-1 div.sk-label-container {text-align: center;}#sk-container-id-1 div.sk-container {/* jupyter's `normalize.less` sets `[hidden] { display: none; }` but bootstrap.min.css set `[hidden] { display: none !important; }` so we also need the `!important` here to be able to override the default hidden behavior on the sphinx rendered scikit-learn.org. See: https://github.com/scikit-learn/scikit-learn/issues/21755 */display: inline-block !important;position: relative;}#sk-container-id-1 div.sk-text-repr-fallback {display: none;}</style><div id=\"sk-container-id-1\" class=\"sk-top-container\"><div class=\"sk-text-repr-fallback\"><pre>GridSearchCV(cv=TimeSeriesSplit(gap=0, max_train_size=None, n_splits=10, test_size=None),\n",
       "             estimator=LogisticRegression(max_iter=1000, random_state=3),\n",
       "             n_jobs=-1, param_grid={&#x27;C&#x27;: [1], &#x27;penalty&#x27;: [None]},\n",
       "             scoring=&#x27;accuracy&#x27;)</pre><b>In a Jupyter environment, please rerun this cell to show the HTML representation or trust the notebook. <br />On GitHub, the HTML representation is unable to render, please try loading this page with nbviewer.org.</b></div><div class=\"sk-container\" hidden><div class=\"sk-item sk-dashed-wrapped\"><div class=\"sk-label-container\"><div class=\"sk-label sk-toggleable\"><input class=\"sk-toggleable__control sk-hidden--visually\" id=\"sk-estimator-id-1\" type=\"checkbox\" ><label for=\"sk-estimator-id-1\" class=\"sk-toggleable__label sk-toggleable__label-arrow\">GridSearchCV</label><div class=\"sk-toggleable__content\"><pre>GridSearchCV(cv=TimeSeriesSplit(gap=0, max_train_size=None, n_splits=10, test_size=None),\n",
       "             estimator=LogisticRegression(max_iter=1000, random_state=3),\n",
       "             n_jobs=-1, param_grid={&#x27;C&#x27;: [1], &#x27;penalty&#x27;: [None]},\n",
       "             scoring=&#x27;accuracy&#x27;)</pre></div></div></div><div class=\"sk-parallel\"><div class=\"sk-parallel-item\"><div class=\"sk-item\"><div class=\"sk-label-container\"><div class=\"sk-label sk-toggleable\"><input class=\"sk-toggleable__control sk-hidden--visually\" id=\"sk-estimator-id-2\" type=\"checkbox\" ><label for=\"sk-estimator-id-2\" class=\"sk-toggleable__label sk-toggleable__label-arrow\">estimator: LogisticRegression</label><div class=\"sk-toggleable__content\"><pre>LogisticRegression(max_iter=1000, random_state=3)</pre></div></div></div><div class=\"sk-serial\"><div class=\"sk-item\"><div class=\"sk-estimator sk-toggleable\"><input class=\"sk-toggleable__control sk-hidden--visually\" id=\"sk-estimator-id-3\" type=\"checkbox\" ><label for=\"sk-estimator-id-3\" class=\"sk-toggleable__label sk-toggleable__label-arrow\">LogisticRegression</label><div class=\"sk-toggleable__content\"><pre>LogisticRegression(max_iter=1000, random_state=3)</pre></div></div></div></div></div></div></div></div></div></div>"
      ],
      "text/plain": [
       "GridSearchCV(cv=TimeSeriesSplit(gap=0, max_train_size=None, n_splits=10, test_size=None),\n",
       "             estimator=LogisticRegression(max_iter=1000, random_state=3),\n",
       "             n_jobs=-1, param_grid={'C': [1], 'penalty': [None]},\n",
       "             scoring='accuracy')"
      ]
     },
     "execution_count": 13,
     "metadata": {},
     "output_type": "execute_result"
    }
   ],
   "source": [
    "grid_search.fit(X_train, y_train)"
   ]
  },
  {
   "cell_type": "code",
   "execution_count": 14,
   "id": "fu1ZkoD6HiHf",
   "metadata": {
    "id": "fu1ZkoD6HiHf"
   },
   "outputs": [],
   "source": [
    "# Guardar el tiempo despues de ejecutar la funcion de entrenamiento\n",
    "end_time = time.time ()"
   ]
  },
  {
   "cell_type": "code",
   "execution_count": 15,
   "id": "7WsCXF4AHnNN",
   "metadata": {
    "colab": {
     "base_uri": "https://localhost:8080/"
    },
    "id": "7WsCXF4AHnNN",
    "outputId": "68a7d5a9-8ee0-46e4-e3f2-b8f4886d314d"
   },
   "outputs": [
    {
     "name": "stdout",
     "output_type": "stream",
     "text": [
      "El tiempo de CPU total es 5.17 segundos\n"
     ]
    }
   ],
   "source": [
    "# Calcular el tiempo de CPU total\n",
    "cpu_time = end_time - start_time\n",
    "# Mostrar e l tiempo de CPU total\n",
    "print(f\"El tiempo de CPU total es {cpu_time:.2f} segundos\")"
   ]
  },
  {
   "cell_type": "code",
   "execution_count": 16,
   "id": "8d7555c6",
   "metadata": {
    "colab": {
     "base_uri": "https://localhost:8080/"
    },
    "id": "8d7555c6",
    "outputId": "385b6786-4bc4-4bf0-c73f-2ac7b9cf1629"
   },
   "outputs": [
    {
     "name": "stdout",
     "output_type": "stream",
     "text": [
      "Mejor parámetro C encontrado: {'C': 1, 'penalty': None}\n",
      "Precisión del modelo en el conjunto de entrenamiento: 0.4846\n"
     ]
    }
   ],
   "source": [
    "best_lr = grid_search.best_estimator_\n",
    "print(\"Mejor parámetro C encontrado:\", grid_search.best_params_)\n",
    "accuracy_train = best_lr.score(X_train, y_train)\n",
    "print(f\"Precisión del modelo en el conjunto de entrenamiento: {accuracy_train:.4f}\")"
   ]
  },
  {
   "cell_type": "code",
   "execution_count": 19,
   "id": "14c8fc64",
   "metadata": {
    "colab": {
     "base_uri": "https://localhost:8080/"
    },
    "id": "14c8fc64",
    "outputId": "0997f92e-4c4b-4bc0-a8b4-92dd46ef74af"
   },
   "outputs": [
    {
     "name": "stdout",
     "output_type": "stream",
     "text": [
      "Precisión del modelo en el conjunto de prueba: 49.75%\n",
      "Precisión (Precision) en el conjunto de prueba: 45.07%\n",
      "Recuperación (Recall) en el conjunto de prueba: 49.75%\n",
      "F1-score en el conjunto de prueba: 42.14%\n",
      "AUC en el conjunto de prueba: 60.73%\n",
      "Matriz de confusión:\n",
      "[[ 45   1  64]\n",
      " [ 22   1  77]\n",
      " [ 36   1 153]]\n"
     ]
    }
   ],
   "source": [
    "y_pred = best_lr.predict(X_test)\n",
    "y_pred_prob = best_lr.predict_proba(X_test)  # Probabilidades para AUC\n",
    "\n",
    "accuracy = accuracy_score(y_test, y_pred)\n",
    "precision = precision_score(y_test, y_pred, average='weighted')\n",
    "recall = recall_score(y_test, y_pred, average='weighted')\n",
    "f1 = f1_score(y_test, y_pred, average='weighted')\n",
    "\n",
    "# AUC para cada clase y promedio ponderado\n",
    "from sklearn.metrics import roc_auc_score\n",
    "auc = roc_auc_score(y_test, y_pred_prob, multi_class='ovr', average='weighted')\n",
    "\n",
    "print(\"Precisión del modelo en el conjunto de prueba: {:.2f}%\".format(accuracy * 100))\n",
    "print(\"Precisión (Precision) en el conjunto de prueba: {:.2f}%\".format(precision * 100))\n",
    "print(\"Recuperación (Recall) en el conjunto de prueba: {:.2f}%\".format(recall * 100))\n",
    "print(\"F1-score en el conjunto de prueba: {:.2f}%\".format(f1*100))\n",
    "print(\"AUC en el conjunto de prueba: {:.2f}%\".format(auc*100))\n",
    "\n",
    "conf_matrix = confusion_matrix(y_test, y_pred)\n",
    "print(\"Matriz de confusión:\")\n",
    "print(conf_matrix)"
   ]
  },
  {
   "cell_type": "markdown",
   "id": "88b2039b",
   "metadata": {
    "id": "88b2039b"
   },
   "source": [
    "## 5. SVM\n",
    "1º kernel lineal"
   ]
  },
  {
   "cell_type": "code",
   "execution_count": 138,
   "id": "b7c00ed4-08bc-4b24-8c57-f06298b7772d",
   "metadata": {},
   "outputs": [],
   "source": [
    "import pandas as pd\n",
    "from sklearn.model_selection import train_test_split, GridSearchCV, TimeSeriesSplit\n",
    "from sklearn.svm import SVC\n",
    "from sklearn.metrics import make_scorer, accuracy_score, precision_score, recall_score, f1_score, mean_squared_error"
   ]
  },
  {
   "cell_type": "code",
   "execution_count": 139,
   "id": "fcd2a926-1dd2-4686-8aa9-4fe9cf3ee2b2",
   "metadata": {},
   "outputs": [],
   "source": [
    "param_grid = {\n",
    "    'C': [2**-5, 2**-4, 2**-3, 2**-2, 2**-1, 2**0, 2**1, 2**2, 2**3, 2**4, 2**5],\n",
    "    'kernel': ['linear']\n",
    "}"
   ]
  },
  {
   "cell_type": "code",
   "execution_count": 140,
   "id": "04b21aac",
   "metadata": {
    "id": "04b21aac"
   },
   "outputs": [],
   "source": [
    "svm_model = SVC(random_state=3, probability=True)"
   ]
  },
  {
   "cell_type": "code",
   "execution_count": 141,
   "id": "dfbd76e2",
   "metadata": {
    "id": "dfbd76e2"
   },
   "outputs": [],
   "source": [
    "grid_search_accur = GridSearchCV(estimator=svm_model, param_grid=param_grid, cv=TimeSeriesSplit(n_splits=4), scoring='accuracy')\n",
    "grid_search = GridSearchCV(estimator=svm_model, param_grid=param_grid, cv=TimeSeriesSplit(n_splits=4), scoring='accuracy')"
   ]
  },
  {
   "cell_type": "code",
   "execution_count": 142,
   "id": "ZZtM_5P1IYAZ",
   "metadata": {
    "id": "ZZtM_5P1IYAZ"
   },
   "outputs": [],
   "source": [
    "import time\n",
    "# Guardar e l tiempo antes de ejecutar la funcion de entrenamiento\n",
    "start_time = time.time()"
   ]
  },
  {
   "cell_type": "code",
   "execution_count": 143,
   "id": "iM99RzPxR98b",
   "metadata": {
    "colab": {
     "base_uri": "https://localhost:8080/",
     "height": 298
    },
    "id": "iM99RzPxR98b",
    "outputId": "735dcbe3-1d4a-44fe-e1a5-8fb5efbeda17"
   },
   "outputs": [
    {
     "data": {
      "text/html": [
       "<style>#sk-container-id-8 {color: black;background-color: white;}#sk-container-id-8 pre{padding: 0;}#sk-container-id-8 div.sk-toggleable {background-color: white;}#sk-container-id-8 label.sk-toggleable__label {cursor: pointer;display: block;width: 100%;margin-bottom: 0;padding: 0.3em;box-sizing: border-box;text-align: center;}#sk-container-id-8 label.sk-toggleable__label-arrow:before {content: \"▸\";float: left;margin-right: 0.25em;color: #696969;}#sk-container-id-8 label.sk-toggleable__label-arrow:hover:before {color: black;}#sk-container-id-8 div.sk-estimator:hover label.sk-toggleable__label-arrow:before {color: black;}#sk-container-id-8 div.sk-toggleable__content {max-height: 0;max-width: 0;overflow: hidden;text-align: left;background-color: #f0f8ff;}#sk-container-id-8 div.sk-toggleable__content pre {margin: 0.2em;color: black;border-radius: 0.25em;background-color: #f0f8ff;}#sk-container-id-8 input.sk-toggleable__control:checked~div.sk-toggleable__content {max-height: 200px;max-width: 100%;overflow: auto;}#sk-container-id-8 input.sk-toggleable__control:checked~label.sk-toggleable__label-arrow:before {content: \"▾\";}#sk-container-id-8 div.sk-estimator input.sk-toggleable__control:checked~label.sk-toggleable__label {background-color: #d4ebff;}#sk-container-id-8 div.sk-label input.sk-toggleable__control:checked~label.sk-toggleable__label {background-color: #d4ebff;}#sk-container-id-8 input.sk-hidden--visually {border: 0;clip: rect(1px 1px 1px 1px);clip: rect(1px, 1px, 1px, 1px);height: 1px;margin: -1px;overflow: hidden;padding: 0;position: absolute;width: 1px;}#sk-container-id-8 div.sk-estimator {font-family: monospace;background-color: #f0f8ff;border: 1px dotted black;border-radius: 0.25em;box-sizing: border-box;margin-bottom: 0.5em;}#sk-container-id-8 div.sk-estimator:hover {background-color: #d4ebff;}#sk-container-id-8 div.sk-parallel-item::after {content: \"\";width: 100%;border-bottom: 1px solid gray;flex-grow: 1;}#sk-container-id-8 div.sk-label:hover label.sk-toggleable__label {background-color: #d4ebff;}#sk-container-id-8 div.sk-serial::before {content: \"\";position: absolute;border-left: 1px solid gray;box-sizing: border-box;top: 0;bottom: 0;left: 50%;z-index: 0;}#sk-container-id-8 div.sk-serial {display: flex;flex-direction: column;align-items: center;background-color: white;padding-right: 0.2em;padding-left: 0.2em;position: relative;}#sk-container-id-8 div.sk-item {position: relative;z-index: 1;}#sk-container-id-8 div.sk-parallel {display: flex;align-items: stretch;justify-content: center;background-color: white;position: relative;}#sk-container-id-8 div.sk-item::before, #sk-container-id-8 div.sk-parallel-item::before {content: \"\";position: absolute;border-left: 1px solid gray;box-sizing: border-box;top: 0;bottom: 0;left: 50%;z-index: -1;}#sk-container-id-8 div.sk-parallel-item {display: flex;flex-direction: column;z-index: 1;position: relative;background-color: white;}#sk-container-id-8 div.sk-parallel-item:first-child::after {align-self: flex-end;width: 50%;}#sk-container-id-8 div.sk-parallel-item:last-child::after {align-self: flex-start;width: 50%;}#sk-container-id-8 div.sk-parallel-item:only-child::after {width: 0;}#sk-container-id-8 div.sk-dashed-wrapped {border: 1px dashed gray;margin: 0 0.4em 0.5em 0.4em;box-sizing: border-box;padding-bottom: 0.4em;background-color: white;}#sk-container-id-8 div.sk-label label {font-family: monospace;font-weight: bold;display: inline-block;line-height: 1.2em;}#sk-container-id-8 div.sk-label-container {text-align: center;}#sk-container-id-8 div.sk-container {/* jupyter's `normalize.less` sets `[hidden] { display: none; }` but bootstrap.min.css set `[hidden] { display: none !important; }` so we also need the `!important` here to be able to override the default hidden behavior on the sphinx rendered scikit-learn.org. See: https://github.com/scikit-learn/scikit-learn/issues/21755 */display: inline-block !important;position: relative;}#sk-container-id-8 div.sk-text-repr-fallback {display: none;}</style><div id=\"sk-container-id-8\" class=\"sk-top-container\"><div class=\"sk-text-repr-fallback\"><pre>GridSearchCV(cv=TimeSeriesSplit(gap=0, max_train_size=None, n_splits=4, test_size=None),\n",
       "             estimator=SVC(probability=True, random_state=3),\n",
       "             param_grid={&#x27;C&#x27;: [0.03125, 0.0625, 0.125, 0.25, 0.5, 1, 2, 4, 8,\n",
       "                               16, 32],\n",
       "                         &#x27;kernel&#x27;: [&#x27;linear&#x27;]},\n",
       "             scoring=&#x27;accuracy&#x27;)</pre><b>In a Jupyter environment, please rerun this cell to show the HTML representation or trust the notebook. <br />On GitHub, the HTML representation is unable to render, please try loading this page with nbviewer.org.</b></div><div class=\"sk-container\" hidden><div class=\"sk-item sk-dashed-wrapped\"><div class=\"sk-label-container\"><div class=\"sk-label sk-toggleable\"><input class=\"sk-toggleable__control sk-hidden--visually\" id=\"sk-estimator-id-16\" type=\"checkbox\" ><label for=\"sk-estimator-id-16\" class=\"sk-toggleable__label sk-toggleable__label-arrow\">GridSearchCV</label><div class=\"sk-toggleable__content\"><pre>GridSearchCV(cv=TimeSeriesSplit(gap=0, max_train_size=None, n_splits=4, test_size=None),\n",
       "             estimator=SVC(probability=True, random_state=3),\n",
       "             param_grid={&#x27;C&#x27;: [0.03125, 0.0625, 0.125, 0.25, 0.5, 1, 2, 4, 8,\n",
       "                               16, 32],\n",
       "                         &#x27;kernel&#x27;: [&#x27;linear&#x27;]},\n",
       "             scoring=&#x27;accuracy&#x27;)</pre></div></div></div><div class=\"sk-parallel\"><div class=\"sk-parallel-item\"><div class=\"sk-item\"><div class=\"sk-label-container\"><div class=\"sk-label sk-toggleable\"><input class=\"sk-toggleable__control sk-hidden--visually\" id=\"sk-estimator-id-17\" type=\"checkbox\" ><label for=\"sk-estimator-id-17\" class=\"sk-toggleable__label sk-toggleable__label-arrow\">estimator: SVC</label><div class=\"sk-toggleable__content\"><pre>SVC(probability=True, random_state=3)</pre></div></div></div><div class=\"sk-serial\"><div class=\"sk-item\"><div class=\"sk-estimator sk-toggleable\"><input class=\"sk-toggleable__control sk-hidden--visually\" id=\"sk-estimator-id-18\" type=\"checkbox\" ><label for=\"sk-estimator-id-18\" class=\"sk-toggleable__label sk-toggleable__label-arrow\">SVC</label><div class=\"sk-toggleable__content\"><pre>SVC(probability=True, random_state=3)</pre></div></div></div></div></div></div></div></div></div></div>"
      ],
      "text/plain": [
       "GridSearchCV(cv=TimeSeriesSplit(gap=0, max_train_size=None, n_splits=4, test_size=None),\n",
       "             estimator=SVC(probability=True, random_state=3),\n",
       "             param_grid={'C': [0.03125, 0.0625, 0.125, 0.25, 0.5, 1, 2, 4, 8,\n",
       "                               16, 32],\n",
       "                         'kernel': ['linear']},\n",
       "             scoring='accuracy')"
      ]
     },
     "execution_count": 143,
     "metadata": {},
     "output_type": "execute_result"
    }
   ],
   "source": [
    "grid_search.fit(X_train, y_train)"
   ]
  },
  {
   "cell_type": "code",
   "execution_count": 73,
   "id": "570760c8-4103-4fa2-9ae4-d3a8d71a9521",
   "metadata": {},
   "outputs": [],
   "source": [
    "# Guardar el tiempo despues de ejecutar la funcion de entrenamiento\n",
    "end_time = time.time ()"
   ]
  },
  {
   "cell_type": "code",
   "execution_count": 74,
   "id": "d0b91d76-5518-4c14-9174-5481e2c52ea6",
   "metadata": {},
   "outputs": [
    {
     "name": "stdout",
     "output_type": "stream",
     "text": [
      "El tiempo de CPU total es 261.21 segundos\n"
     ]
    }
   ],
   "source": [
    "# Calcular el tiempo de CPU total\n",
    "cpu_time = end_time - start_time\n",
    "# Mostrar e l tiempo de CPU total\n",
    "print(f\"El tiempo de CPU total es {cpu_time:.2f} segundos\")"
   ]
  },
  {
   "cell_type": "code",
   "execution_count": 79,
   "id": "2FspE5gnSiFH",
   "metadata": {
    "colab": {
     "base_uri": "https://localhost:8080/"
    },
    "id": "2FspE5gnSiFH",
    "outputId": "440d6113-8b01-4274-9d81-ef90f4b39f85"
   },
   "outputs": [
    {
     "name": "stdout",
     "output_type": "stream",
     "text": [
      "Mejores parámetros encontrados:\n",
      "{'C': 2, 'gamma': 0.03125, 'kernel': 'rbf'}\n",
      "Precisión del modelo en el conjunto de entrenamiento: 0.5163\n"
     ]
    }
   ],
   "source": [
    "print(\"Mejores parámetros encontrados:\")\n",
    "best_svm_model_lineal = grid_search.best_estimator_\n",
    "print(grid_search.best_params_)\n",
    "accuracy_train = best_svm_model_lineal.score(X_train, y_train)\n",
    "print(f\"Precisión del modelo en el conjunto de entrenamiento: {accuracy_train:.4f}\")"
   ]
  },
  {
   "cell_type": "code",
   "execution_count": 80,
   "id": "sf4mdxPGihyu",
   "metadata": {
    "id": "sf4mdxPGihyu"
   },
   "outputs": [],
   "source": [
    "best_svm_model_lineal = grid_search.best_estimator_\n",
    "y_pred = best_svm_model_lineal.predict(X_test)\n",
    "y_pred_prob = best_svm_model_lineal.predict_proba(X_test)  # Probabilidades para AUC"
   ]
  },
  {
   "cell_type": "code",
   "execution_count": 81,
   "id": "NL_ToO77imZP",
   "metadata": {
    "colab": {
     "base_uri": "https://localhost:8080/"
    },
    "id": "NL_ToO77imZP",
    "outputId": "9f6085e4-f602-428e-e760-404cb297cba5"
   },
   "outputs": [
    {
     "name": "stdout",
     "output_type": "stream",
     "text": [
      "Accuracy: 50.75%\n",
      "Precisión del modelo en el conjunto de prueba: 50.75%\n",
      "Precisión (Precision) en el conjunto de prueba: 46.64%\n",
      "Recuperación (Recall) en el conjunto de prueba: 50.75%\n",
      "F1-score en el conjunto de prueba: 45.12%\n",
      "AUC en el conjunto de prueba: 58.60%\n"
     ]
    }
   ],
   "source": [
    "accuracy = accuracy_score(y_test, y_pred)\n",
    "print(f'Accuracy: {accuracy * 100:.2f}%')\n",
    "\n",
    "\n",
    "accuracy = accuracy_score(y_test, y_pred)\n",
    "precision = precision_score(y_test, y_pred, average='weighted')\n",
    "recall = recall_score(y_test, y_pred, average='weighted')\n",
    "f1 = f1_score(y_test, y_pred, average='weighted')\n",
    "\n",
    "# AUC para cada clase y promedio ponderado\n",
    "auc = roc_auc_score(y_test, y_pred_prob, multi_class='ovr', average='weighted')\n",
    "\n",
    "print(\"Precisión del modelo en el conjunto de prueba: {:.2f}%\".format(accuracy * 100))\n",
    "print(\"Precisión (Precision) en el conjunto de prueba: {:.2f}%\".format(precision * 100))\n",
    "print(\"Recuperación (Recall) en el conjunto de prueba: {:.2f}%\".format(recall * 100))\n",
    "print(\"F1-score en el conjunto de prueba: {:.2f}%\".format(f1*100))\n",
    "print(\"AUC en el conjunto de prueba: {:.2f}%\".format(auc*100))\n"
   ]
  },
  {
   "cell_type": "code",
   "execution_count": 57,
   "id": "CnbWybwsivMZ",
   "metadata": {
    "colab": {
     "base_uri": "https://localhost:8080/"
    },
    "id": "CnbWybwsivMZ",
    "outputId": "8278befc-4241-4cc2-c68e-d3a7aa0984e2"
   },
   "outputs": [
    {
     "name": "stdout",
     "output_type": "stream",
     "text": [
      "Confusion Matrix:\n",
      "[[ 45   0  65]\n",
      " [ 18   0  82]\n",
      " [ 36   0 154]]\n"
     ]
    }
   ],
   "source": [
    "conf_matrix = confusion_matrix(y_test, y_pred)\n",
    "print('Confusion Matrix:')\n",
    "print(conf_matrix)"
   ]
  },
  {
   "cell_type": "markdown",
   "id": "f_KdAwlP5Uid",
   "metadata": {
    "id": "f_KdAwlP5Uid"
   },
   "source": [
    "2º kernel rbf: Gausiano"
   ]
  },
  {
   "cell_type": "code",
   "execution_count": 47,
   "id": "29f6aa9c-24e0-4366-ab4d-9e964627ae9e",
   "metadata": {},
   "outputs": [],
   "source": [
    "import pandas as pd\n",
    "from sklearn.model_selection import train_test_split, GridSearchCV, TimeSeriesSplit\n",
    "from sklearn.svm import SVC\n",
    "import numpy as np\n",
    "from sklearn.metrics import make_scorer, accuracy_score, precision_score, recall_score, f1_score"
   ]
  },
  {
   "cell_type": "markdown",
   "id": "f8008c30-8b34-4f9a-8cd9-94d82dbd3785",
   "metadata": {},
   "source": [
    "Solo con accuracy"
   ]
  },
  {
   "cell_type": "code",
   "execution_count": 48,
   "id": "51gX8bHyjKnx",
   "metadata": {
    "id": "51gX8bHyjKnx"
   },
   "outputs": [],
   "source": [
    "param_grid = {\n",
    "    'C': [2**-5, 2**-4, 2**-3, 2**-2, 2**-1, 2**0, 2**1, 2**2, 2**3, 2**4, 2**5],\n",
    "    'gamma': [2**-5, 2**-4, 2**-3, 2**-2, 2**-1, 2**0, 2**1, 2**2, 2**3, 2**4, 2**5],\n",
    "    'kernel': ['rbf']\n",
    "}"
   ]
  },
  {
   "cell_type": "code",
   "execution_count": 57,
   "id": "jT1JOEQtjfgv",
   "metadata": {
    "id": "jT1JOEQtjfgv"
   },
   "outputs": [],
   "source": [
    "svm_model = SVC(probability=True)\n",
    "\n",
    "grid_search = GridSearchCV(estimator=svm_model, param_grid=param_grid, cv=TimeSeriesSplit(n_splits=4), scoring='accuracy')"
   ]
  },
  {
   "cell_type": "code",
   "execution_count": 58,
   "id": "EUJLDornOyK6",
   "metadata": {
    "id": "EUJLDornOyK6"
   },
   "outputs": [],
   "source": [
    "import time\n",
    "# Guardar e l tiempo antes de ejecutar la funcion de entrenamiento\n",
    "start_time = time.time()"
   ]
  },
  {
   "cell_type": "code",
   "execution_count": 59,
   "id": "CZH8vU4iOxRQ",
   "metadata": {
    "colab": {
     "base_uri": "https://localhost:8080/",
     "height": 117
    },
    "id": "CZH8vU4iOxRQ",
    "outputId": "95390f21-27c3-4c7b-e68e-5a97b6585423"
   },
   "outputs": [
    {
     "data": {
      "text/html": [
       "<style>#sk-container-id-4 {color: black;background-color: white;}#sk-container-id-4 pre{padding: 0;}#sk-container-id-4 div.sk-toggleable {background-color: white;}#sk-container-id-4 label.sk-toggleable__label {cursor: pointer;display: block;width: 100%;margin-bottom: 0;padding: 0.3em;box-sizing: border-box;text-align: center;}#sk-container-id-4 label.sk-toggleable__label-arrow:before {content: \"▸\";float: left;margin-right: 0.25em;color: #696969;}#sk-container-id-4 label.sk-toggleable__label-arrow:hover:before {color: black;}#sk-container-id-4 div.sk-estimator:hover label.sk-toggleable__label-arrow:before {color: black;}#sk-container-id-4 div.sk-toggleable__content {max-height: 0;max-width: 0;overflow: hidden;text-align: left;background-color: #f0f8ff;}#sk-container-id-4 div.sk-toggleable__content pre {margin: 0.2em;color: black;border-radius: 0.25em;background-color: #f0f8ff;}#sk-container-id-4 input.sk-toggleable__control:checked~div.sk-toggleable__content {max-height: 200px;max-width: 100%;overflow: auto;}#sk-container-id-4 input.sk-toggleable__control:checked~label.sk-toggleable__label-arrow:before {content: \"▾\";}#sk-container-id-4 div.sk-estimator input.sk-toggleable__control:checked~label.sk-toggleable__label {background-color: #d4ebff;}#sk-container-id-4 div.sk-label input.sk-toggleable__control:checked~label.sk-toggleable__label {background-color: #d4ebff;}#sk-container-id-4 input.sk-hidden--visually {border: 0;clip: rect(1px 1px 1px 1px);clip: rect(1px, 1px, 1px, 1px);height: 1px;margin: -1px;overflow: hidden;padding: 0;position: absolute;width: 1px;}#sk-container-id-4 div.sk-estimator {font-family: monospace;background-color: #f0f8ff;border: 1px dotted black;border-radius: 0.25em;box-sizing: border-box;margin-bottom: 0.5em;}#sk-container-id-4 div.sk-estimator:hover {background-color: #d4ebff;}#sk-container-id-4 div.sk-parallel-item::after {content: \"\";width: 100%;border-bottom: 1px solid gray;flex-grow: 1;}#sk-container-id-4 div.sk-label:hover label.sk-toggleable__label {background-color: #d4ebff;}#sk-container-id-4 div.sk-serial::before {content: \"\";position: absolute;border-left: 1px solid gray;box-sizing: border-box;top: 0;bottom: 0;left: 50%;z-index: 0;}#sk-container-id-4 div.sk-serial {display: flex;flex-direction: column;align-items: center;background-color: white;padding-right: 0.2em;padding-left: 0.2em;position: relative;}#sk-container-id-4 div.sk-item {position: relative;z-index: 1;}#sk-container-id-4 div.sk-parallel {display: flex;align-items: stretch;justify-content: center;background-color: white;position: relative;}#sk-container-id-4 div.sk-item::before, #sk-container-id-4 div.sk-parallel-item::before {content: \"\";position: absolute;border-left: 1px solid gray;box-sizing: border-box;top: 0;bottom: 0;left: 50%;z-index: -1;}#sk-container-id-4 div.sk-parallel-item {display: flex;flex-direction: column;z-index: 1;position: relative;background-color: white;}#sk-container-id-4 div.sk-parallel-item:first-child::after {align-self: flex-end;width: 50%;}#sk-container-id-4 div.sk-parallel-item:last-child::after {align-self: flex-start;width: 50%;}#sk-container-id-4 div.sk-parallel-item:only-child::after {width: 0;}#sk-container-id-4 div.sk-dashed-wrapped {border: 1px dashed gray;margin: 0 0.4em 0.5em 0.4em;box-sizing: border-box;padding-bottom: 0.4em;background-color: white;}#sk-container-id-4 div.sk-label label {font-family: monospace;font-weight: bold;display: inline-block;line-height: 1.2em;}#sk-container-id-4 div.sk-label-container {text-align: center;}#sk-container-id-4 div.sk-container {/* jupyter's `normalize.less` sets `[hidden] { display: none; }` but bootstrap.min.css set `[hidden] { display: none !important; }` so we also need the `!important` here to be able to override the default hidden behavior on the sphinx rendered scikit-learn.org. See: https://github.com/scikit-learn/scikit-learn/issues/21755 */display: inline-block !important;position: relative;}#sk-container-id-4 div.sk-text-repr-fallback {display: none;}</style><div id=\"sk-container-id-4\" class=\"sk-top-container\"><div class=\"sk-text-repr-fallback\"><pre>GridSearchCV(cv=TimeSeriesSplit(gap=0, max_train_size=None, n_splits=4, test_size=None),\n",
       "             estimator=SVC(probability=True),\n",
       "             param_grid={&#x27;C&#x27;: [0.03125, 0.0625, 0.125, 0.25, 0.5, 1, 2, 4, 8,\n",
       "                               16, 32],\n",
       "                         &#x27;gamma&#x27;: [0.03125, 0.0625, 0.125, 0.25, 0.5, 1, 2, 4,\n",
       "                                   8, 16, 32],\n",
       "                         &#x27;kernel&#x27;: [&#x27;rbf&#x27;]},\n",
       "             scoring=&#x27;accuracy&#x27;)</pre><b>In a Jupyter environment, please rerun this cell to show the HTML representation or trust the notebook. <br />On GitHub, the HTML representation is unable to render, please try loading this page with nbviewer.org.</b></div><div class=\"sk-container\" hidden><div class=\"sk-item sk-dashed-wrapped\"><div class=\"sk-label-container\"><div class=\"sk-label sk-toggleable\"><input class=\"sk-toggleable__control sk-hidden--visually\" id=\"sk-estimator-id-10\" type=\"checkbox\" ><label for=\"sk-estimator-id-10\" class=\"sk-toggleable__label sk-toggleable__label-arrow\">GridSearchCV</label><div class=\"sk-toggleable__content\"><pre>GridSearchCV(cv=TimeSeriesSplit(gap=0, max_train_size=None, n_splits=4, test_size=None),\n",
       "             estimator=SVC(probability=True),\n",
       "             param_grid={&#x27;C&#x27;: [0.03125, 0.0625, 0.125, 0.25, 0.5, 1, 2, 4, 8,\n",
       "                               16, 32],\n",
       "                         &#x27;gamma&#x27;: [0.03125, 0.0625, 0.125, 0.25, 0.5, 1, 2, 4,\n",
       "                                   8, 16, 32],\n",
       "                         &#x27;kernel&#x27;: [&#x27;rbf&#x27;]},\n",
       "             scoring=&#x27;accuracy&#x27;)</pre></div></div></div><div class=\"sk-parallel\"><div class=\"sk-parallel-item\"><div class=\"sk-item\"><div class=\"sk-label-container\"><div class=\"sk-label sk-toggleable\"><input class=\"sk-toggleable__control sk-hidden--visually\" id=\"sk-estimator-id-11\" type=\"checkbox\" ><label for=\"sk-estimator-id-11\" class=\"sk-toggleable__label sk-toggleable__label-arrow\">estimator: SVC</label><div class=\"sk-toggleable__content\"><pre>SVC(probability=True)</pre></div></div></div><div class=\"sk-serial\"><div class=\"sk-item\"><div class=\"sk-estimator sk-toggleable\"><input class=\"sk-toggleable__control sk-hidden--visually\" id=\"sk-estimator-id-12\" type=\"checkbox\" ><label for=\"sk-estimator-id-12\" class=\"sk-toggleable__label sk-toggleable__label-arrow\">SVC</label><div class=\"sk-toggleable__content\"><pre>SVC(probability=True)</pre></div></div></div></div></div></div></div></div></div></div>"
      ],
      "text/plain": [
       "GridSearchCV(cv=TimeSeriesSplit(gap=0, max_train_size=None, n_splits=4, test_size=None),\n",
       "             estimator=SVC(probability=True),\n",
       "             param_grid={'C': [0.03125, 0.0625, 0.125, 0.25, 0.5, 1, 2, 4, 8,\n",
       "                               16, 32],\n",
       "                         'gamma': [0.03125, 0.0625, 0.125, 0.25, 0.5, 1, 2, 4,\n",
       "                                   8, 16, 32],\n",
       "                         'kernel': ['rbf']},\n",
       "             scoring='accuracy')"
      ]
     },
     "execution_count": 59,
     "metadata": {},
     "output_type": "execute_result"
    }
   ],
   "source": [
    "grid_search.fit(X_train, y_train)"
   ]
  },
  {
   "cell_type": "code",
   "execution_count": 60,
   "id": "Sts2y3TNO1bo",
   "metadata": {
    "id": "Sts2y3TNO1bo"
   },
   "outputs": [],
   "source": [
    "# Guardar el tiempo despues de ejecutar la funcion de entrenamiento\n",
    "end_time = time.time ()"
   ]
  },
  {
   "cell_type": "code",
   "execution_count": 61,
   "id": "4c446l3dO5Yf",
   "metadata": {
    "colab": {
     "base_uri": "https://localhost:8080/"
    },
    "id": "4c446l3dO5Yf",
    "outputId": "24025289-a25d-4541-e2e6-fdb87f8c9bbc"
   },
   "outputs": [
    {
     "name": "stdout",
     "output_type": "stream",
     "text": [
      "El tiempo de CPU total es 225.63 segundos\n"
     ]
    }
   ],
   "source": [
    "# Calcular el tiempo de CPU total\n",
    "cpu_time = end_time - start_time\n",
    "# Mostrar e l tiempo de CPU total\n",
    "print(f\"El tiempo de CPU total es {cpu_time:.2f} segundos\")"
   ]
  },
  {
   "cell_type": "code",
   "execution_count": 62,
   "id": "uRPNsMmejzy0",
   "metadata": {
    "colab": {
     "base_uri": "https://localhost:8080/"
    },
    "id": "uRPNsMmejzy0",
    "outputId": "fbe6d4c5-6481-4275-b3d5-575780b1e7f0"
   },
   "outputs": [
    {
     "name": "stdout",
     "output_type": "stream",
     "text": [
      "Mejores parámetros encontrados:\n",
      "{'C': 2, 'gamma': 0.03125, 'kernel': 'rbf'}\n",
      "Precisión del modelo en el conjunto de entrenamiento: 0.4929\n"
     ]
    }
   ],
   "source": [
    "print(\"Mejores parámetros encontrados:\")\n",
    "print(grid_search.best_params_)\n",
    "accuracy_train = best_dt.score(X_train, y_train)\n",
    "print(f\"Precisión del modelo en el conjunto de entrenamiento: {accuracy_train:.4f}\")"
   ]
  },
  {
   "cell_type": "code",
   "execution_count": 63,
   "id": "MZjgOVerlBnO",
   "metadata": {
    "id": "MZjgOVerlBnO"
   },
   "outputs": [],
   "source": [
    "best_svm_model_gau = grid_search.best_estimator_\n",
    "y_pred = best_svm_model_gau.predict(X_test)\n",
    "y_pred_prob = best_svm_model_gau.predict_proba(X_test)  # Probabilidades para AUC"
   ]
  },
  {
   "cell_type": "code",
   "execution_count": 64,
   "id": "1OgAfA9RlESr",
   "metadata": {
    "colab": {
     "base_uri": "https://localhost:8080/"
    },
    "id": "1OgAfA9RlESr",
    "outputId": "391fccd2-386f-420c-dc56-eb04c3dc0d95"
   },
   "outputs": [
    {
     "name": "stdout",
     "output_type": "stream",
     "text": [
      "Accuracy: 50.75%\n",
      "Precisión del modelo en el conjunto de prueba: 50.75%\n",
      "Precisión (Precision) en el conjunto de prueba: 46.64%\n",
      "Recuperación (Recall) en el conjunto de prueba: 50.75%\n",
      "F1-score en el conjunto de prueba: 45.12%\n",
      "AUC en el conjunto de prueba: 57.94%\n"
     ]
    }
   ],
   "source": [
    "accuracy = accuracy_score(y_test, y_pred)\n",
    "print(f'Accuracy: {accuracy * 100:.2f}%')\n",
    "\n",
    "accuracy = accuracy_score(y_test, y_pred)\n",
    "precision = precision_score(y_test, y_pred, average='weighted')\n",
    "recall = recall_score(y_test, y_pred, average='weighted')\n",
    "f1 = f1_score(y_test, y_pred, average='weighted')\n",
    "\n",
    "# AUC para cada clase y promedio ponderado\n",
    "auc = roc_auc_score(y_test, y_pred_prob, multi_class='ovr', average='weighted')\n",
    "\n",
    "print(\"Precisión del modelo en el conjunto de prueba: {:.2f}%\".format(accuracy * 100))\n",
    "print(\"Precisión (Precision) en el conjunto de prueba: {:.2f}%\".format(precision * 100))\n",
    "print(\"Recuperación (Recall) en el conjunto de prueba: {:.2f}%\".format(recall * 100))\n",
    "print(\"F1-score en el conjunto de prueba: {:.2f}%\".format(f1*100))\n",
    "print(\"AUC en el conjunto de prueba: {:.2f}%\".format(auc*100))"
   ]
  },
  {
   "cell_type": "code",
   "execution_count": 65,
   "id": "2Jf6MLdvlG3g",
   "metadata": {
    "colab": {
     "base_uri": "https://localhost:8080/"
    },
    "id": "2Jf6MLdvlG3g",
    "outputId": "66fe0343-e216-43b6-cda7-07a96fc3d817"
   },
   "outputs": [
    {
     "name": "stdout",
     "output_type": "stream",
     "text": [
      "Confusion Matrix:\n",
      "[[ 40   7  63]\n",
      " [ 18   8  74]\n",
      " [ 26   9 155]]\n"
     ]
    }
   ],
   "source": [
    "conf_matrix = confusion_matrix(y_test, y_pred)\n",
    "print('Confusion Matrix:')\n",
    "print(conf_matrix)"
   ]
  },
  {
   "cell_type": "markdown",
   "id": "htnG37yJ5Znr",
   "metadata": {
    "id": "htnG37yJ5Znr"
   },
   "source": [
    "3º kernel polinómico"
   ]
  },
  {
   "cell_type": "code",
   "execution_count": 279,
   "id": "OmeZn9PK5eEt",
   "metadata": {
    "id": "OmeZn9PK5eEt"
   },
   "outputs": [],
   "source": [
    "param_grid = {\n",
    "    'C': [2**-5, 2**-4, 2**-3, 2**-2, 2**-1, 2**0, 2**1, 2**2, 2**3, 2**4, 2**5],\n",
    "    'gamma': [2**-5, 2**-4, 2**-3, 2**-2, 2**-1, 2**0, 2**1, 2**2, 2**3, 2**4, 2**5],\n",
    "    'degree': [2, 3, 4, 5],\n",
    "    'kernel': ['poly']\n",
    "}"
   ]
  },
  {
   "cell_type": "code",
   "execution_count": 280,
   "id": "4QdtRaPzgaZa",
   "metadata": {
    "colab": {
     "base_uri": "https://localhost:8080/",
     "height": 335
    },
    "id": "4QdtRaPzgaZa",
    "outputId": "dc1f29b2-5ec9-44ff-f96b-523a583e0fcf"
   },
   "outputs": [],
   "source": [
    "svm_model = SVC()\n",
    "\n",
    "grid_search = GridSearchCV(estimator=svm_model, param_grid=param_grid, cv=TimeSeriesSplit(n_splits=10), scoring='accuracy')"
   ]
  },
  {
   "cell_type": "code",
   "execution_count": 281,
   "id": "56a36c74-963f-4dea-8893-90a8059e4f49",
   "metadata": {},
   "outputs": [],
   "source": [
    "import time\n",
    "# Guardar el tiempo antes de ejecutar la funcion de entrenamiento\n",
    "start_time = time.time()"
   ]
  },
  {
   "cell_type": "code",
   "execution_count": null,
   "id": "a6e6d205-5c57-44f9-a81f-ce61060ed7eb",
   "metadata": {},
   "outputs": [],
   "source": [
    "grid_search.fit(X_train, y_train)"
   ]
  },
  {
   "cell_type": "code",
   "execution_count": null,
   "id": "17e58e06-3240-4e57-a5e6-1e128a16089e",
   "metadata": {},
   "outputs": [],
   "source": [
    "# Guardar el tiempo despues de ejecutar la funcion de entrenamiento\n",
    "end_time = time.time ()"
   ]
  },
  {
   "cell_type": "code",
   "execution_count": null,
   "id": "486950b8-0fb1-4b08-b9f9-b753bfe6bb50",
   "metadata": {},
   "outputs": [],
   "source": [
    "# Calcular el tiempo de CPU total\n",
    "cpu_time = end_time - start_time\n",
    "# Mostrar e l tiempo de CPU total\n",
    "print(f\"El tiempo de CPU total es {cpu_time:.2f} segundos\")"
   ]
  },
  {
   "cell_type": "code",
   "execution_count": null,
   "id": "79758207-a2d9-4749-8e9e-52220ea98ffa",
   "metadata": {},
   "outputs": [],
   "source": [
    "print(\"Mejores parámetros encontrados:\")\n",
    "print(grid_search.best_params_)\n",
    "accuracy_train = best_dt.score(X_train, y_train)\n",
    "print(f\"Precisión del modelo en el conjunto de entrenamiento: {accuracy_train:.4f}\")"
   ]
  },
  {
   "cell_type": "code",
   "execution_count": null,
   "id": "9eef1208-2b6c-465c-a648-947760841271",
   "metadata": {},
   "outputs": [],
   "source": [
    "best_svm_model = grid_search.best_estimator_\n",
    "y_pred = best_svm_model.predict(X_test)"
   ]
  },
  {
   "cell_type": "code",
   "execution_count": null,
   "id": "e6ece11e-8d7f-48c3-b8fb-9ff6e7a08dff",
   "metadata": {},
   "outputs": [],
   "source": [
    "accuracy = accuracy_score(y_test, y_pred)\n",
    "print(f'Accuracy: {accuracy * 100:.2f}%')"
   ]
  },
  {
   "cell_type": "code",
   "execution_count": null,
   "id": "f8a3e9d7-5df9-433c-87b7-06df6a69619f",
   "metadata": {},
   "outputs": [],
   "source": [
    "conf_matrix = confusion_matrix(y_test, y_pred)\n",
    "print('Confusion Matrix:')\n",
    "print(conf_matrix)"
   ]
  },
  {
   "cell_type": "markdown",
   "id": "99d94b0f",
   "metadata": {
    "id": "99d94b0f"
   },
   "source": [
    "## 6. Redes Neuronales"
   ]
  },
  {
   "cell_type": "code",
   "execution_count": 283,
   "id": "340175d7",
   "metadata": {
    "id": "340175d7"
   },
   "outputs": [],
   "source": [
    "import pandas as pd\n",
    "from sklearn.model_selection import train_test_split\n",
    "from sklearn.preprocessing import LabelEncoder\n",
    "from sklearn.metrics import accuracy_score, confusion_matrix\n",
    "from sklearn.preprocessing import StandardScaler\n",
    "from sklearn.neural_network import MLPClassifier\n",
    "import seaborn as sns\n",
    "import matplotlib.pyplot as plt\n",
    "from sklearn.model_selection import GridSearchCV\n",
    "from scipy.stats import uniform\n",
    "from sklearn.metrics import accuracy_score, precision_score, recall_score, f1_score, roc_auc_score"
   ]
  },
  {
   "cell_type": "code",
   "execution_count": 284,
   "id": "rVht7KGYeaIX",
   "metadata": {
    "id": "rVht7KGYeaIX"
   },
   "outputs": [],
   "source": [
    "param_grid = {\n",
    "    'hidden_layer_sizes': [(100,), (100, 50), (50,)],\n",
    "    'activation': ['logistic'],\n",
    "    'solver': ['adam'],\n",
    "    'max_iter': [200, 500, 1000],\n",
    "}"
   ]
  },
  {
   "cell_type": "code",
   "execution_count": 285,
   "id": "fDhZ8u4Qehuo",
   "metadata": {
    "id": "fDhZ8u4Qehuo"
   },
   "outputs": [],
   "source": [
    "# clasificador MLP\n",
    "mlp_classifier = MLPClassifier()"
   ]
  },
  {
   "cell_type": "code",
   "execution_count": 286,
   "id": "e1297be3",
   "metadata": {
    "id": "e1297be3"
   },
   "outputs": [],
   "source": [
    "scaler = StandardScaler()\n",
    "X_train_scaled = scaler.fit_transform(X_train)\n",
    "X_test_scaled = scaler.transform(X_test)"
   ]
  },
  {
   "cell_type": "code",
   "execution_count": 287,
   "id": "n_GyXfI3eqWt",
   "metadata": {
    "colab": {
     "base_uri": "https://localhost:8080/",
     "height": 1000
    },
    "id": "n_GyXfI3eqWt",
    "outputId": "1beb1ce3-0c1f-4c93-d4b2-f17f03835d76"
   },
   "outputs": [
    {
     "name": "stderr",
     "output_type": "stream",
     "text": [
      "C:\\ProgramData\\anaconda3\\Lib\\site-packages\\sklearn\\neural_network\\_multilayer_perceptron.py:686: ConvergenceWarning: Stochastic Optimizer: Maximum iterations (200) reached and the optimization hasn't converged yet.\n",
      "  warnings.warn(\n",
      "C:\\ProgramData\\anaconda3\\Lib\\site-packages\\sklearn\\neural_network\\_multilayer_perceptron.py:686: ConvergenceWarning: Stochastic Optimizer: Maximum iterations (500) reached and the optimization hasn't converged yet.\n",
      "  warnings.warn(\n",
      "C:\\ProgramData\\anaconda3\\Lib\\site-packages\\sklearn\\neural_network\\_multilayer_perceptron.py:686: ConvergenceWarning: Stochastic Optimizer: Maximum iterations (1000) reached and the optimization hasn't converged yet.\n",
      "  warnings.warn(\n",
      "C:\\ProgramData\\anaconda3\\Lib\\site-packages\\sklearn\\neural_network\\_multilayer_perceptron.py:686: ConvergenceWarning: Stochastic Optimizer: Maximum iterations (200) reached and the optimization hasn't converged yet.\n",
      "  warnings.warn(\n",
      "C:\\ProgramData\\anaconda3\\Lib\\site-packages\\sklearn\\neural_network\\_multilayer_perceptron.py:686: ConvergenceWarning: Stochastic Optimizer: Maximum iterations (500) reached and the optimization hasn't converged yet.\n",
      "  warnings.warn(\n",
      "C:\\ProgramData\\anaconda3\\Lib\\site-packages\\sklearn\\neural_network\\_multilayer_perceptron.py:686: ConvergenceWarning: Stochastic Optimizer: Maximum iterations (200) reached and the optimization hasn't converged yet.\n",
      "  warnings.warn(\n",
      "C:\\ProgramData\\anaconda3\\Lib\\site-packages\\sklearn\\neural_network\\_multilayer_perceptron.py:686: ConvergenceWarning: Stochastic Optimizer: Maximum iterations (500) reached and the optimization hasn't converged yet.\n",
      "  warnings.warn(\n",
      "C:\\ProgramData\\anaconda3\\Lib\\site-packages\\sklearn\\neural_network\\_multilayer_perceptron.py:686: ConvergenceWarning: Stochastic Optimizer: Maximum iterations (1000) reached and the optimization hasn't converged yet.\n",
      "  warnings.warn(\n"
     ]
    },
    {
     "data": {
      "text/html": [
       "<style>#sk-container-id-16 {color: black;background-color: white;}#sk-container-id-16 pre{padding: 0;}#sk-container-id-16 div.sk-toggleable {background-color: white;}#sk-container-id-16 label.sk-toggleable__label {cursor: pointer;display: block;width: 100%;margin-bottom: 0;padding: 0.3em;box-sizing: border-box;text-align: center;}#sk-container-id-16 label.sk-toggleable__label-arrow:before {content: \"▸\";float: left;margin-right: 0.25em;color: #696969;}#sk-container-id-16 label.sk-toggleable__label-arrow:hover:before {color: black;}#sk-container-id-16 div.sk-estimator:hover label.sk-toggleable__label-arrow:before {color: black;}#sk-container-id-16 div.sk-toggleable__content {max-height: 0;max-width: 0;overflow: hidden;text-align: left;background-color: #f0f8ff;}#sk-container-id-16 div.sk-toggleable__content pre {margin: 0.2em;color: black;border-radius: 0.25em;background-color: #f0f8ff;}#sk-container-id-16 input.sk-toggleable__control:checked~div.sk-toggleable__content {max-height: 200px;max-width: 100%;overflow: auto;}#sk-container-id-16 input.sk-toggleable__control:checked~label.sk-toggleable__label-arrow:before {content: \"▾\";}#sk-container-id-16 div.sk-estimator input.sk-toggleable__control:checked~label.sk-toggleable__label {background-color: #d4ebff;}#sk-container-id-16 div.sk-label input.sk-toggleable__control:checked~label.sk-toggleable__label {background-color: #d4ebff;}#sk-container-id-16 input.sk-hidden--visually {border: 0;clip: rect(1px 1px 1px 1px);clip: rect(1px, 1px, 1px, 1px);height: 1px;margin: -1px;overflow: hidden;padding: 0;position: absolute;width: 1px;}#sk-container-id-16 div.sk-estimator {font-family: monospace;background-color: #f0f8ff;border: 1px dotted black;border-radius: 0.25em;box-sizing: border-box;margin-bottom: 0.5em;}#sk-container-id-16 div.sk-estimator:hover {background-color: #d4ebff;}#sk-container-id-16 div.sk-parallel-item::after {content: \"\";width: 100%;border-bottom: 1px solid gray;flex-grow: 1;}#sk-container-id-16 div.sk-label:hover label.sk-toggleable__label {background-color: #d4ebff;}#sk-container-id-16 div.sk-serial::before {content: \"\";position: absolute;border-left: 1px solid gray;box-sizing: border-box;top: 0;bottom: 0;left: 50%;z-index: 0;}#sk-container-id-16 div.sk-serial {display: flex;flex-direction: column;align-items: center;background-color: white;padding-right: 0.2em;padding-left: 0.2em;position: relative;}#sk-container-id-16 div.sk-item {position: relative;z-index: 1;}#sk-container-id-16 div.sk-parallel {display: flex;align-items: stretch;justify-content: center;background-color: white;position: relative;}#sk-container-id-16 div.sk-item::before, #sk-container-id-16 div.sk-parallel-item::before {content: \"\";position: absolute;border-left: 1px solid gray;box-sizing: border-box;top: 0;bottom: 0;left: 50%;z-index: -1;}#sk-container-id-16 div.sk-parallel-item {display: flex;flex-direction: column;z-index: 1;position: relative;background-color: white;}#sk-container-id-16 div.sk-parallel-item:first-child::after {align-self: flex-end;width: 50%;}#sk-container-id-16 div.sk-parallel-item:last-child::after {align-self: flex-start;width: 50%;}#sk-container-id-16 div.sk-parallel-item:only-child::after {width: 0;}#sk-container-id-16 div.sk-dashed-wrapped {border: 1px dashed gray;margin: 0 0.4em 0.5em 0.4em;box-sizing: border-box;padding-bottom: 0.4em;background-color: white;}#sk-container-id-16 div.sk-label label {font-family: monospace;font-weight: bold;display: inline-block;line-height: 1.2em;}#sk-container-id-16 div.sk-label-container {text-align: center;}#sk-container-id-16 div.sk-container {/* jupyter's `normalize.less` sets `[hidden] { display: none; }` but bootstrap.min.css set `[hidden] { display: none !important; }` so we also need the `!important` here to be able to override the default hidden behavior on the sphinx rendered scikit-learn.org. See: https://github.com/scikit-learn/scikit-learn/issues/21755 */display: inline-block !important;position: relative;}#sk-container-id-16 div.sk-text-repr-fallback {display: none;}</style><div id=\"sk-container-id-16\" class=\"sk-top-container\"><div class=\"sk-text-repr-fallback\"><pre>GridSearchCV(cv=TimeSeriesSplit(gap=0, max_train_size=None, n_splits=10, test_size=None),\n",
       "             estimator=MLPClassifier(),\n",
       "             param_grid={&#x27;activation&#x27;: [&#x27;logistic&#x27;],\n",
       "                         &#x27;hidden_layer_sizes&#x27;: [(100,), (100, 50), (50,)],\n",
       "                         &#x27;max_iter&#x27;: [200, 500, 1000], &#x27;solver&#x27;: [&#x27;adam&#x27;]},\n",
       "             scoring=&#x27;accuracy&#x27;)</pre><b>In a Jupyter environment, please rerun this cell to show the HTML representation or trust the notebook. <br />On GitHub, the HTML representation is unable to render, please try loading this page with nbviewer.org.</b></div><div class=\"sk-container\" hidden><div class=\"sk-item sk-dashed-wrapped\"><div class=\"sk-label-container\"><div class=\"sk-label sk-toggleable\"><input class=\"sk-toggleable__control sk-hidden--visually\" id=\"sk-estimator-id-38\" type=\"checkbox\" ><label for=\"sk-estimator-id-38\" class=\"sk-toggleable__label sk-toggleable__label-arrow\">GridSearchCV</label><div class=\"sk-toggleable__content\"><pre>GridSearchCV(cv=TimeSeriesSplit(gap=0, max_train_size=None, n_splits=10, test_size=None),\n",
       "             estimator=MLPClassifier(),\n",
       "             param_grid={&#x27;activation&#x27;: [&#x27;logistic&#x27;],\n",
       "                         &#x27;hidden_layer_sizes&#x27;: [(100,), (100, 50), (50,)],\n",
       "                         &#x27;max_iter&#x27;: [200, 500, 1000], &#x27;solver&#x27;: [&#x27;adam&#x27;]},\n",
       "             scoring=&#x27;accuracy&#x27;)</pre></div></div></div><div class=\"sk-parallel\"><div class=\"sk-parallel-item\"><div class=\"sk-item\"><div class=\"sk-label-container\"><div class=\"sk-label sk-toggleable\"><input class=\"sk-toggleable__control sk-hidden--visually\" id=\"sk-estimator-id-39\" type=\"checkbox\" ><label for=\"sk-estimator-id-39\" class=\"sk-toggleable__label sk-toggleable__label-arrow\">estimator: MLPClassifier</label><div class=\"sk-toggleable__content\"><pre>MLPClassifier()</pre></div></div></div><div class=\"sk-serial\"><div class=\"sk-item\"><div class=\"sk-estimator sk-toggleable\"><input class=\"sk-toggleable__control sk-hidden--visually\" id=\"sk-estimator-id-40\" type=\"checkbox\" ><label for=\"sk-estimator-id-40\" class=\"sk-toggleable__label sk-toggleable__label-arrow\">MLPClassifier</label><div class=\"sk-toggleable__content\"><pre>MLPClassifier()</pre></div></div></div></div></div></div></div></div></div></div>"
      ],
      "text/plain": [
       "GridSearchCV(cv=TimeSeriesSplit(gap=0, max_train_size=None, n_splits=10, test_size=None),\n",
       "             estimator=MLPClassifier(),\n",
       "             param_grid={'activation': ['logistic'],\n",
       "                         'hidden_layer_sizes': [(100,), (100, 50), (50,)],\n",
       "                         'max_iter': [200, 500, 1000], 'solver': ['adam']},\n",
       "             scoring='accuracy')"
      ]
     },
     "execution_count": 287,
     "metadata": {},
     "output_type": "execute_result"
    }
   ],
   "source": [
    "# búsqueda de hiperparámetros\n",
    "grid_search = GridSearchCV(mlp_classifier, param_grid, cv=TimeSeriesSplit(n_splits=10), scoring='accuracy')\n",
    "\n",
    "import time\n",
    "# Guardar el tiempo antes de ejecutar la funcion de entrenamiento\n",
    "start_time = time.time()\n",
    "\n",
    "grid_search.fit(X_train_scaled, y_train)"
   ]
  },
  {
   "cell_type": "code",
   "execution_count": null,
   "id": "56906377-f963-47c6-8641-33fdaf68ad5a",
   "metadata": {},
   "outputs": [],
   "source": [
    "# Guardar el tiempo despues de ejecutar la funcion de entrenamiento\n",
    "end_time = time.time ()"
   ]
  },
  {
   "cell_type": "code",
   "execution_count": null,
   "id": "7b85b929-0093-491d-9fae-ccfeb6e8febb",
   "metadata": {},
   "outputs": [],
   "source": [
    "# Calcular el tiempo de CPU total\n",
    "cpu_time = end_time - start_time\n",
    "# Mostrar e l tiempo de CPU total\n",
    "print(f\"El tiempo de CPU total es {cpu_time:.2f} segundos\")"
   ]
  },
  {
   "cell_type": "code",
   "execution_count": 288,
   "id": "QZ-ydDsdf_Gz",
   "metadata": {
    "colab": {
     "base_uri": "https://localhost:8080/"
    },
    "id": "QZ-ydDsdf_Gz",
    "outputId": "86dc6d48-fa5f-40e3-ff36-a0b3f2084827"
   },
   "outputs": [
    {
     "name": "stdout",
     "output_type": "stream",
     "text": [
      "Mejores parámetros: {'activation': 'logistic', 'hidden_layer_sizes': (100, 50), 'max_iter': 1000, 'solver': 'adam'}\n"
     ]
    }
   ],
   "source": [
    "print(\"Mejores parámetros:\", grid_search.best_params_)"
   ]
  },
  {
   "cell_type": "code",
   "execution_count": 289,
   "id": "63rA2iYtgDxp",
   "metadata": {
    "colab": {
     "base_uri": "https://localhost:8080/",
     "height": 74
    },
    "id": "63rA2iYtgDxp",
    "outputId": "9081a7fd-568c-4522-c4c3-1df0021a5225"
   },
   "outputs": [
    {
     "data": {
      "text/html": [
       "<style>#sk-container-id-17 {color: black;background-color: white;}#sk-container-id-17 pre{padding: 0;}#sk-container-id-17 div.sk-toggleable {background-color: white;}#sk-container-id-17 label.sk-toggleable__label {cursor: pointer;display: block;width: 100%;margin-bottom: 0;padding: 0.3em;box-sizing: border-box;text-align: center;}#sk-container-id-17 label.sk-toggleable__label-arrow:before {content: \"▸\";float: left;margin-right: 0.25em;color: #696969;}#sk-container-id-17 label.sk-toggleable__label-arrow:hover:before {color: black;}#sk-container-id-17 div.sk-estimator:hover label.sk-toggleable__label-arrow:before {color: black;}#sk-container-id-17 div.sk-toggleable__content {max-height: 0;max-width: 0;overflow: hidden;text-align: left;background-color: #f0f8ff;}#sk-container-id-17 div.sk-toggleable__content pre {margin: 0.2em;color: black;border-radius: 0.25em;background-color: #f0f8ff;}#sk-container-id-17 input.sk-toggleable__control:checked~div.sk-toggleable__content {max-height: 200px;max-width: 100%;overflow: auto;}#sk-container-id-17 input.sk-toggleable__control:checked~label.sk-toggleable__label-arrow:before {content: \"▾\";}#sk-container-id-17 div.sk-estimator input.sk-toggleable__control:checked~label.sk-toggleable__label {background-color: #d4ebff;}#sk-container-id-17 div.sk-label input.sk-toggleable__control:checked~label.sk-toggleable__label {background-color: #d4ebff;}#sk-container-id-17 input.sk-hidden--visually {border: 0;clip: rect(1px 1px 1px 1px);clip: rect(1px, 1px, 1px, 1px);height: 1px;margin: -1px;overflow: hidden;padding: 0;position: absolute;width: 1px;}#sk-container-id-17 div.sk-estimator {font-family: monospace;background-color: #f0f8ff;border: 1px dotted black;border-radius: 0.25em;box-sizing: border-box;margin-bottom: 0.5em;}#sk-container-id-17 div.sk-estimator:hover {background-color: #d4ebff;}#sk-container-id-17 div.sk-parallel-item::after {content: \"\";width: 100%;border-bottom: 1px solid gray;flex-grow: 1;}#sk-container-id-17 div.sk-label:hover label.sk-toggleable__label {background-color: #d4ebff;}#sk-container-id-17 div.sk-serial::before {content: \"\";position: absolute;border-left: 1px solid gray;box-sizing: border-box;top: 0;bottom: 0;left: 50%;z-index: 0;}#sk-container-id-17 div.sk-serial {display: flex;flex-direction: column;align-items: center;background-color: white;padding-right: 0.2em;padding-left: 0.2em;position: relative;}#sk-container-id-17 div.sk-item {position: relative;z-index: 1;}#sk-container-id-17 div.sk-parallel {display: flex;align-items: stretch;justify-content: center;background-color: white;position: relative;}#sk-container-id-17 div.sk-item::before, #sk-container-id-17 div.sk-parallel-item::before {content: \"\";position: absolute;border-left: 1px solid gray;box-sizing: border-box;top: 0;bottom: 0;left: 50%;z-index: -1;}#sk-container-id-17 div.sk-parallel-item {display: flex;flex-direction: column;z-index: 1;position: relative;background-color: white;}#sk-container-id-17 div.sk-parallel-item:first-child::after {align-self: flex-end;width: 50%;}#sk-container-id-17 div.sk-parallel-item:last-child::after {align-self: flex-start;width: 50%;}#sk-container-id-17 div.sk-parallel-item:only-child::after {width: 0;}#sk-container-id-17 div.sk-dashed-wrapped {border: 1px dashed gray;margin: 0 0.4em 0.5em 0.4em;box-sizing: border-box;padding-bottom: 0.4em;background-color: white;}#sk-container-id-17 div.sk-label label {font-family: monospace;font-weight: bold;display: inline-block;line-height: 1.2em;}#sk-container-id-17 div.sk-label-container {text-align: center;}#sk-container-id-17 div.sk-container {/* jupyter's `normalize.less` sets `[hidden] { display: none; }` but bootstrap.min.css set `[hidden] { display: none !important; }` so we also need the `!important` here to be able to override the default hidden behavior on the sphinx rendered scikit-learn.org. See: https://github.com/scikit-learn/scikit-learn/issues/21755 */display: inline-block !important;position: relative;}#sk-container-id-17 div.sk-text-repr-fallback {display: none;}</style><div id=\"sk-container-id-17\" class=\"sk-top-container\"><div class=\"sk-text-repr-fallback\"><pre>MLPClassifier(activation=&#x27;logistic&#x27;, hidden_layer_sizes=(100, 50),\n",
       "              max_iter=1000)</pre><b>In a Jupyter environment, please rerun this cell to show the HTML representation or trust the notebook. <br />On GitHub, the HTML representation is unable to render, please try loading this page with nbviewer.org.</b></div><div class=\"sk-container\" hidden><div class=\"sk-item\"><div class=\"sk-estimator sk-toggleable\"><input class=\"sk-toggleable__control sk-hidden--visually\" id=\"sk-estimator-id-41\" type=\"checkbox\" checked><label for=\"sk-estimator-id-41\" class=\"sk-toggleable__label sk-toggleable__label-arrow\">MLPClassifier</label><div class=\"sk-toggleable__content\"><pre>MLPClassifier(activation=&#x27;logistic&#x27;, hidden_layer_sizes=(100, 50),\n",
       "              max_iter=1000)</pre></div></div></div></div></div>"
      ],
      "text/plain": [
       "MLPClassifier(activation='logistic', hidden_layer_sizes=(100, 50),\n",
       "              max_iter=1000)"
      ]
     },
     "execution_count": 289,
     "metadata": {},
     "output_type": "execute_result"
    }
   ],
   "source": [
    "# Entrena el modelo con los mejores parámetros encontrados\n",
    "best_mlp_classifier = grid_search.best_estimator_\n",
    "best_mlp_classifier.fit(X_train_scaled, y_train)"
   ]
  },
  {
   "cell_type": "code",
   "execution_count": 290,
   "id": "22cb8b4d-c7a3-4889-b4d5-52f87b0d914c",
   "metadata": {},
   "outputs": [],
   "source": [
    "# Realiza predicciones\n",
    "y_pred = best_mlp_classifier.predict(X_test_scaled)\n",
    "y_pred_prob = best_mlp_classifier.predict_proba(X_test_scaled)[:, 1]  # Probabilidades para AUC"
   ]
  },
  {
   "cell_type": "code",
   "execution_count": 291,
   "id": "8fe3d884-ad73-474d-adb6-213ba641dac7",
   "metadata": {},
   "outputs": [
    {
     "name": "stdout",
     "output_type": "stream",
     "text": [
      "Precisión del modelo: 49.00%\n",
      "Precisión (Precision): 36.22%\n",
      "Recuperación (Recall): 49.00%\n",
      "F1-score: 40.88%\n",
      "AUC: 61.48%\n"
     ]
    }
   ],
   "source": [
    "from sklearn.metrics import accuracy_score, precision_score, recall_score, f1_score, roc_auc_score\n",
    "\n",
    "# Realiza predicciones\n",
    "y_pred = best_mlp_classifier.predict(X_test_scaled)\n",
    "y_pred_prob = best_mlp_classifier.predict_proba(X_test_scaled)  # Probabilidades para AUC\n",
    "\n",
    "# Calcula varias métricas para problemas multiclase\n",
    "accuracy = accuracy_score(y_test, y_pred)\n",
    "precision = precision_score(y_test, y_pred, average='weighted')\n",
    "recall = recall_score(y_test, y_pred, average='weighted')\n",
    "f1 = f1_score(y_test, y_pred, average='weighted')\n",
    "\n",
    "# AUC para cada clase y promedio ponderado\n",
    "auc = roc_auc_score(y_test, y_pred_prob, multi_class='ovr', average='weighted')\n",
    "\n",
    "print(\"Precisión del modelo: {:.2f}%\".format(accuracy * 100))\n",
    "print(\"Precisión (Precision): {:.2f}%\".format(precision * 100))\n",
    "print(\"Recuperación (Recall): {:.2f}%\".format(recall * 100))\n",
    "print(\"F1-score: {:.2f}%\".format(f1 * 100))\n",
    "print(\"AUC: {:.2f}%\".format(auc * 100))"
   ]
  },
  {
   "cell_type": "markdown",
   "id": "deccf747",
   "metadata": {
    "id": "deccf747"
   },
   "source": [
    "## TSVM\n"
   ]
  },
  {
   "cell_type": "code",
   "execution_count": 292,
   "id": "e1fdaf15-f554-435d-872b-9f8a044b5073",
   "metadata": {},
   "outputs": [
    {
     "name": "stdout",
     "output_type": "stream",
     "text": [
      "    Season       Date    HomeTeam     AwayTeam  PartidoSeason  ELOHomeT  \\\n",
      "0  2019-20 2019-08-16  Ath Bilbao    Barcelona              1         0   \n",
      "1  2019-20 2019-08-17       Celta  Real Madrid              1         0   \n",
      "2  2019-20 2019-08-17    Valencia     Sociedad              1         0   \n",
      "3  2019-20 2019-08-17    Mallorca        Eibar              1         0   \n",
      "4  2019-20 2019-08-17     Leganes      Osasuna              1         0   \n",
      "\n",
      "   ELOHomeM  ELOAwayT  ELOAwayM  AtaqueMedioH  AtaqueMedioA  TarjetasRMedioH  \\\n",
      "0         0         0         0           0.0           0.0              0.0   \n",
      "1         0         0         0           0.0           0.0              0.0   \n",
      "2         0         0         0           0.0           0.0              0.0   \n",
      "3         0         0         0           0.0           0.0              0.0   \n",
      "4         0         0         0           0.0           0.0              0.0   \n",
      "\n",
      "   TarjetasRMedioA Resultado  \n",
      "0              0.0         H  \n",
      "1              0.0         A  \n",
      "2              0.0         A  \n",
      "3              0.0         H  \n",
      "4              0.0         A  \n"
     ]
    }
   ],
   "source": [
    "import pandas as pd\n",
    "\n",
    "# Cargar el archivo Excel en un DataFrame de pandas\n",
    "datos = pd.read_excel('datos_tsvm.xlsx')\n",
    "\n",
    "print(datos.head())"
   ]
  },
  {
   "cell_type": "code",
   "execution_count": 293,
   "id": "ee06267a-28ea-425b-99b2-4e3c16dedcb6",
   "metadata": {},
   "outputs": [
    {
     "data": {
      "text/html": [
       "<div>\n",
       "<style scoped>\n",
       "    .dataframe tbody tr th:only-of-type {\n",
       "        vertical-align: middle;\n",
       "    }\n",
       "\n",
       "    .dataframe tbody tr th {\n",
       "        vertical-align: top;\n",
       "    }\n",
       "\n",
       "    .dataframe thead th {\n",
       "        text-align: right;\n",
       "    }\n",
       "</style>\n",
       "<table border=\"1\" class=\"dataframe\">\n",
       "  <thead>\n",
       "    <tr style=\"text-align: right;\">\n",
       "      <th></th>\n",
       "      <th>count</th>\n",
       "      <th>percent</th>\n",
       "    </tr>\n",
       "  </thead>\n",
       "  <tbody>\n",
       "    <tr>\n",
       "      <th>Season</th>\n",
       "      <td>0</td>\n",
       "      <td>0.0</td>\n",
       "    </tr>\n",
       "    <tr>\n",
       "      <th>Date</th>\n",
       "      <td>0</td>\n",
       "      <td>0.0</td>\n",
       "    </tr>\n",
       "    <tr>\n",
       "      <th>HomeTeam</th>\n",
       "      <td>0</td>\n",
       "      <td>0.0</td>\n",
       "    </tr>\n",
       "    <tr>\n",
       "      <th>AwayTeam</th>\n",
       "      <td>0</td>\n",
       "      <td>0.0</td>\n",
       "    </tr>\n",
       "    <tr>\n",
       "      <th>PartidoSeason</th>\n",
       "      <td>0</td>\n",
       "      <td>0.0</td>\n",
       "    </tr>\n",
       "    <tr>\n",
       "      <th>ELOHomeT</th>\n",
       "      <td>0</td>\n",
       "      <td>0.0</td>\n",
       "    </tr>\n",
       "    <tr>\n",
       "      <th>ELOHomeM</th>\n",
       "      <td>0</td>\n",
       "      <td>0.0</td>\n",
       "    </tr>\n",
       "    <tr>\n",
       "      <th>ELOAwayT</th>\n",
       "      <td>0</td>\n",
       "      <td>0.0</td>\n",
       "    </tr>\n",
       "    <tr>\n",
       "      <th>ELOAwayM</th>\n",
       "      <td>0</td>\n",
       "      <td>0.0</td>\n",
       "    </tr>\n",
       "    <tr>\n",
       "      <th>AtaqueMedioH</th>\n",
       "      <td>0</td>\n",
       "      <td>0.0</td>\n",
       "    </tr>\n",
       "    <tr>\n",
       "      <th>AtaqueMedioA</th>\n",
       "      <td>0</td>\n",
       "      <td>0.0</td>\n",
       "    </tr>\n",
       "    <tr>\n",
       "      <th>TarjetasRMedioH</th>\n",
       "      <td>0</td>\n",
       "      <td>0.0</td>\n",
       "    </tr>\n",
       "    <tr>\n",
       "      <th>TarjetasRMedioA</th>\n",
       "      <td>0</td>\n",
       "      <td>0.0</td>\n",
       "    </tr>\n",
       "    <tr>\n",
       "      <th>Resultado</th>\n",
       "      <td>0</td>\n",
       "      <td>0.0</td>\n",
       "    </tr>\n",
       "  </tbody>\n",
       "</table>\n",
       "</div>"
      ],
      "text/plain": [
       "                 count  percent\n",
       "Season               0      0.0\n",
       "Date                 0      0.0\n",
       "HomeTeam             0      0.0\n",
       "AwayTeam             0      0.0\n",
       "PartidoSeason        0      0.0\n",
       "ELOHomeT             0      0.0\n",
       "ELOHomeM             0      0.0\n",
       "ELOAwayT             0      0.0\n",
       "ELOAwayM             0      0.0\n",
       "AtaqueMedioH         0      0.0\n",
       "AtaqueMedioA         0      0.0\n",
       "TarjetasRMedioH      0      0.0\n",
       "TarjetasRMedioA      0      0.0\n",
       "Resultado            0      0.0"
      ]
     },
     "execution_count": 293,
     "metadata": {},
     "output_type": "execute_result"
    }
   ],
   "source": [
    "valores_faltantes = data.isnull().sum()\n",
    "valores_faltantes_porcentaje = 100*valores_faltantes/len(data)\n",
    "\n",
    "valores_faltantes_df = pd.DataFrame({'count': valores_faltantes, 'percent': valores_faltantes_porcentaje})\n",
    "valores_faltantes_df.sort_values('percent', ascending=False)"
   ]
  },
  {
   "cell_type": "code",
   "execution_count": 294,
   "id": "0beffa35-e3ed-4440-9e38-77ee71640981",
   "metadata": {},
   "outputs": [],
   "source": [
    "# Codificar la variable respuesta\n",
    "from sklearn.preprocessing import LabelEncoder\n",
    "\n",
    "label_encoder = LabelEncoder()\n",
    "data['Resultado'] = label_encoder.fit_transform(datos['Resultado'])"
   ]
  },
  {
   "cell_type": "code",
   "execution_count": 295,
   "id": "d54391b4-2db3-4bc8-bd60-3b2427bfc0f1",
   "metadata": {},
   "outputs": [],
   "source": [
    "X = datos.drop(['PartidoSeason','Resultado', 'Date', 'Season', 'HomeTeam', 'AwayTeam'], axis=1)\n",
    "y = datos['Resultado']"
   ]
  },
  {
   "cell_type": "code",
   "execution_count": 296,
   "id": "a61ff471-4554-477f-a4e1-ff805611fbbc",
   "metadata": {},
   "outputs": [],
   "source": [
    "from sklearn.model_selection import train_test_split\n",
    "\n",
    "X_train_1, X_test_1, y_train_1, y_test_1 = train_test_split(X, y, test_size=0.25, shuffle=False) #importa no hacerlo de manera aleatoria"
   ]
  },
  {
   "cell_type": "code",
   "execution_count": 297,
   "id": "0c6f85c0-d7be-4afe-b54a-aeeca6d454ea",
   "metadata": {},
   "outputs": [],
   "source": [
    "# Modelo\n",
    "model_tsvm = TwinSVMClassifier()\n",
    "\n",
    "param_grid_tsvm_radial = {\n",
    "    'Epsilon1': [0.1],\n",
    "    'Epsilon2': [0.1],\n",
    "    'C1':[2**(-5),2**(-3),2**(-1),2**(1),2**(3),2**(5)],\n",
    "    'C2':[2**(-5),2**(-3),2**(-1),2**(1),2**(3),2**(5)],\n",
    "    'kernel_type': [3], # 1 lineal, 2 polinomial, 3 radial\n",
    "    'kernel_param': [2**(-5),2**(-3),2**(-1),2**(1),2**(3),2**(5)],\n",
    "}"
   ]
  },
  {
   "cell_type": "code",
   "execution_count": 298,
   "id": "9c5edcb3-101b-4433-8351-dd09cdc182ee",
   "metadata": {},
   "outputs": [],
   "source": [
    "keys, values = zip(*param_grid_tsvm_radial.items())"
   ]
  },
  {
   "cell_type": "code",
   "execution_count": 299,
   "id": "eee11500-bd2d-4c57-a681-f392b7cd0bf6",
   "metadata": {},
   "outputs": [],
   "source": [
    "# Generar todas las combinaciones de valores de parámetros\n",
    "combinations = [dict(zip(keys, combination)) for combination in itertools.product(*values)]"
   ]
  },
  {
   "cell_type": "code",
   "execution_count": 300,
   "id": "c682ce11-827d-4394-ae35-b896743eefc6",
   "metadata": {},
   "outputs": [],
   "source": [
    "# Búsqueda de hiperparámetros con validación cruzada estratificada\n",
    "stratified_cv = TimeSeriesSplit(n_splits=5)\n",
    "best_auc = 0"
   ]
  },
  {
   "cell_type": "code",
   "execution_count": 301,
   "id": "f184afcf-bee2-4660-af45-6df54f9da626",
   "metadata": {},
   "outputs": [
    {
     "name": "stdout",
     "output_type": "stream",
     "text": [
      "{'Epsilon1': 0.1, 'Epsilon2': 0.1, 'C1': 0.03125, 'C2': 0.03125, 'kernel_type': 3, 'kernel_param': 0.03125}\n",
      "Y\n",
      "['H' 'A' 'A' 'H' 'A' 'A' 'H' 'A' 'A' 'H' 'A' 'H' 'A' 'A' 'H' 'A' 'A' 'A'\n",
      " 'A' 'H' 'A' 'H' 'A' 'A' 'H' 'H' 'H' 'H' 'A' 'A' 'A' 'H' 'A' 'H' 'H' 'A'\n",
      " 'A' 'A' 'A' 'A' 'A' 'H' 'A' 'A' 'H' 'H' 'A' 'A' 'H' 'A' 'A' 'H' 'H' 'A'\n",
      " 'A' 'A' 'H' 'H' 'A' 'H' 'H' 'A' 'A' 'H' 'A' 'A' 'H' 'H' 'A' 'H' 'A' 'A'\n",
      " 'H' 'H' 'H' 'H' 'H' 'A' 'A' 'H' 'H' 'A' 'A' 'H' 'H' 'H' 'H' 'A' 'A' 'H'\n",
      " 'H' 'H' 'H' 'H' 'A' 'H' 'A' 'H' 'H' 'A' 'H' 'A' 'A' 'H' 'H' 'H' 'H' 'A'\n",
      " 'H' 'A' 'H' 'A' 'A' 'H' 'A' 'H' 'A' 'A' 'A' 'A' 'H' 'H' 'A' 'H' 'H' 'H'\n",
      " 'H' 'A' 'A' 'H' 'A' 'H' 'A' 'H' 'A' 'A' 'A' 'A' 'A' 'A' 'A' 'H' 'A' 'H'\n",
      " 'H' 'H' 'A' 'H' 'A' 'A' 'H' 'H' 'A' 'H' 'A' 'H' 'A' 'H' 'A' 'A' 'A' 'A'\n",
      " 'A' 'H' 'H' 'A' 'A' 'A' 'A' 'A' 'H' 'A' 'H' 'H' 'A' 'H' 'A' 'A' 'H' 'A'\n",
      " 'A' 'A' 'H' 'A' 'H' 'A' 'H' 'A' 'A' 'A' 'A' 'A' 'H' 'A' 'H' 'H' 'H' 'A'\n",
      " 'A' 'H' 'H' 'A' 'H' 'A']\n",
      "X\n",
      "[[ 0.   0.   0.  ...  0.   0.   0. ]\n",
      " [ 0.   0.   0.  ...  0.   0.   0. ]\n",
      " [ 0.   0.   0.  ...  0.   0.   0. ]\n",
      " ...\n",
      " [-7.  -1.  -2.  ...  0.7  0.1  0. ]\n",
      " [ 5.   3.   1.  ...  1.5  0.1  0.2]\n",
      " [ 2.   0.  -2.  ...  1.4  0.   0. ]]\n",
      "imprimo Datos\n",
      "[[ 0.          0.          0.         ...  0.          0.\n",
      "   0.        ]\n",
      " [ 0.          0.          0.         ...  0.          0.\n",
      "   0.        ]\n",
      " [ 0.          0.          0.         ...  0.          0.\n",
      "   0.        ]\n",
      " ...\n",
      " [ 5.          3.         -5.         ...  1.          0.\n",
      "   0.11111111]\n",
      " [-7.         -1.         -2.         ...  0.7         0.1\n",
      "   0.        ]\n",
      " [ 2.          0.         -2.         ...  1.4         0.\n",
      "   0.        ]]\n",
      "Enseo A y B\n",
      "[]\n",
      "[]\n"
     ]
    },
    {
     "name": "stderr",
     "output_type": "stream",
     "text": [
      "C:\\Users\\vigar\\TFG\\TVSVM.py:235: RuntimeWarning: invalid value encountered in divide\n",
      "  distFromPlane1 = y1/w1mod\n",
      "C:\\Users\\vigar\\TFG\\TVSVM.py:236: RuntimeWarning: invalid value encountered in divide\n",
      "  distFromPlane2 = y2/w2mod\n"
     ]
    },
    {
     "ename": "ValueError",
     "evalue": "Input contains NaN.",
     "output_type": "error",
     "traceback": [
      "\u001b[1;31m---------------------------------------------------------------------------\u001b[0m",
      "\u001b[1;31mValueError\u001b[0m                                Traceback (most recent call last)",
      "Cell \u001b[1;32mIn[301], line 26\u001b[0m\n\u001b[0;32m     23\u001b[0m     y_pred_prob \u001b[38;5;241m=\u001b[39m twin_svm\u001b[38;5;241m.\u001b[39mdecision_function(X_test_inner)\n\u001b[0;32m     25\u001b[0m     \u001b[38;5;66;03m# Calcular métricas de evaluación\u001b[39;00m\n\u001b[1;32m---> 26\u001b[0m     auc \u001b[38;5;241m=\u001b[39m roc_auc_score(y_test_inner, y_pred_prob)\n\u001b[0;32m     27\u001b[0m     auc_folds\u001b[38;5;241m.\u001b[39mappend(auc)\n\u001b[0;32m     29\u001b[0m mean_auc \u001b[38;5;241m=\u001b[39m \u001b[38;5;28msum\u001b[39m(auc_folds) \u001b[38;5;241m/\u001b[39m \u001b[38;5;28mlen\u001b[39m(auc_folds)\n",
      "File \u001b[1;32mC:\\ProgramData\\anaconda3\\Lib\\site-packages\\sklearn\\metrics\\_ranking.py:551\u001b[0m, in \u001b[0;36mroc_auc_score\u001b[1;34m(y_true, y_score, average, sample_weight, max_fpr, multi_class, labels)\u001b[0m\n\u001b[0;32m    549\u001b[0m y_type \u001b[38;5;241m=\u001b[39m type_of_target(y_true, input_name\u001b[38;5;241m=\u001b[39m\u001b[38;5;124m\"\u001b[39m\u001b[38;5;124my_true\u001b[39m\u001b[38;5;124m\"\u001b[39m)\n\u001b[0;32m    550\u001b[0m y_true \u001b[38;5;241m=\u001b[39m check_array(y_true, ensure_2d\u001b[38;5;241m=\u001b[39m\u001b[38;5;28;01mFalse\u001b[39;00m, dtype\u001b[38;5;241m=\u001b[39m\u001b[38;5;28;01mNone\u001b[39;00m)\n\u001b[1;32m--> 551\u001b[0m y_score \u001b[38;5;241m=\u001b[39m check_array(y_score, ensure_2d\u001b[38;5;241m=\u001b[39m\u001b[38;5;28;01mFalse\u001b[39;00m)\n\u001b[0;32m    553\u001b[0m \u001b[38;5;28;01mif\u001b[39;00m y_type \u001b[38;5;241m==\u001b[39m \u001b[38;5;124m\"\u001b[39m\u001b[38;5;124mmulticlass\u001b[39m\u001b[38;5;124m\"\u001b[39m \u001b[38;5;129;01mor\u001b[39;00m (\n\u001b[0;32m    554\u001b[0m     y_type \u001b[38;5;241m==\u001b[39m \u001b[38;5;124m\"\u001b[39m\u001b[38;5;124mbinary\u001b[39m\u001b[38;5;124m\"\u001b[39m \u001b[38;5;129;01mand\u001b[39;00m y_score\u001b[38;5;241m.\u001b[39mndim \u001b[38;5;241m==\u001b[39m \u001b[38;5;241m2\u001b[39m \u001b[38;5;129;01mand\u001b[39;00m y_score\u001b[38;5;241m.\u001b[39mshape[\u001b[38;5;241m1\u001b[39m] \u001b[38;5;241m>\u001b[39m \u001b[38;5;241m2\u001b[39m\n\u001b[0;32m    555\u001b[0m ):\n\u001b[0;32m    556\u001b[0m     \u001b[38;5;66;03m# do not support partial ROC computation for multiclass\u001b[39;00m\n\u001b[0;32m    557\u001b[0m     \u001b[38;5;28;01mif\u001b[39;00m max_fpr \u001b[38;5;129;01mis\u001b[39;00m \u001b[38;5;129;01mnot\u001b[39;00m \u001b[38;5;28;01mNone\u001b[39;00m \u001b[38;5;129;01mand\u001b[39;00m max_fpr \u001b[38;5;241m!=\u001b[39m \u001b[38;5;241m1.0\u001b[39m:\n",
      "File \u001b[1;32mC:\\ProgramData\\anaconda3\\Lib\\site-packages\\sklearn\\utils\\validation.py:921\u001b[0m, in \u001b[0;36mcheck_array\u001b[1;34m(array, accept_sparse, accept_large_sparse, dtype, order, copy, force_all_finite, ensure_2d, allow_nd, ensure_min_samples, ensure_min_features, estimator, input_name)\u001b[0m\n\u001b[0;32m    915\u001b[0m         \u001b[38;5;28;01mraise\u001b[39;00m \u001b[38;5;167;01mValueError\u001b[39;00m(\n\u001b[0;32m    916\u001b[0m             \u001b[38;5;124m\"\u001b[39m\u001b[38;5;124mFound array with dim \u001b[39m\u001b[38;5;132;01m%d\u001b[39;00m\u001b[38;5;124m. \u001b[39m\u001b[38;5;132;01m%s\u001b[39;00m\u001b[38;5;124m expected <= 2.\u001b[39m\u001b[38;5;124m\"\u001b[39m\n\u001b[0;32m    917\u001b[0m             \u001b[38;5;241m%\u001b[39m (array\u001b[38;5;241m.\u001b[39mndim, estimator_name)\n\u001b[0;32m    918\u001b[0m         )\n\u001b[0;32m    920\u001b[0m     \u001b[38;5;28;01mif\u001b[39;00m force_all_finite:\n\u001b[1;32m--> 921\u001b[0m         _assert_all_finite(\n\u001b[0;32m    922\u001b[0m             array,\n\u001b[0;32m    923\u001b[0m             input_name\u001b[38;5;241m=\u001b[39minput_name,\n\u001b[0;32m    924\u001b[0m             estimator_name\u001b[38;5;241m=\u001b[39mestimator_name,\n\u001b[0;32m    925\u001b[0m             allow_nan\u001b[38;5;241m=\u001b[39mforce_all_finite \u001b[38;5;241m==\u001b[39m \u001b[38;5;124m\"\u001b[39m\u001b[38;5;124mallow-nan\u001b[39m\u001b[38;5;124m\"\u001b[39m,\n\u001b[0;32m    926\u001b[0m         )\n\u001b[0;32m    928\u001b[0m \u001b[38;5;28;01mif\u001b[39;00m ensure_min_samples \u001b[38;5;241m>\u001b[39m \u001b[38;5;241m0\u001b[39m:\n\u001b[0;32m    929\u001b[0m     n_samples \u001b[38;5;241m=\u001b[39m _num_samples(array)\n",
      "File \u001b[1;32mC:\\ProgramData\\anaconda3\\Lib\\site-packages\\sklearn\\utils\\validation.py:161\u001b[0m, in \u001b[0;36m_assert_all_finite\u001b[1;34m(X, allow_nan, msg_dtype, estimator_name, input_name)\u001b[0m\n\u001b[0;32m    144\u001b[0m \u001b[38;5;28;01mif\u001b[39;00m estimator_name \u001b[38;5;129;01mand\u001b[39;00m input_name \u001b[38;5;241m==\u001b[39m \u001b[38;5;124m\"\u001b[39m\u001b[38;5;124mX\u001b[39m\u001b[38;5;124m\"\u001b[39m \u001b[38;5;129;01mand\u001b[39;00m has_nan_error:\n\u001b[0;32m    145\u001b[0m     \u001b[38;5;66;03m# Improve the error message on how to handle missing values in\u001b[39;00m\n\u001b[0;32m    146\u001b[0m     \u001b[38;5;66;03m# scikit-learn.\u001b[39;00m\n\u001b[0;32m    147\u001b[0m     msg_err \u001b[38;5;241m+\u001b[39m\u001b[38;5;241m=\u001b[39m (\n\u001b[0;32m    148\u001b[0m         \u001b[38;5;124mf\u001b[39m\u001b[38;5;124m\"\u001b[39m\u001b[38;5;130;01m\\n\u001b[39;00m\u001b[38;5;132;01m{\u001b[39;00mestimator_name\u001b[38;5;132;01m}\u001b[39;00m\u001b[38;5;124m does not accept missing values\u001b[39m\u001b[38;5;124m\"\u001b[39m\n\u001b[0;32m    149\u001b[0m         \u001b[38;5;124m\"\u001b[39m\u001b[38;5;124m encoded as NaN natively. For supervised learning, you might want\u001b[39m\u001b[38;5;124m\"\u001b[39m\n\u001b[1;32m   (...)\u001b[0m\n\u001b[0;32m    159\u001b[0m         \u001b[38;5;124m\"\u001b[39m\u001b[38;5;124m#estimators-that-handle-nan-values\u001b[39m\u001b[38;5;124m\"\u001b[39m\n\u001b[0;32m    160\u001b[0m     )\n\u001b[1;32m--> 161\u001b[0m \u001b[38;5;28;01mraise\u001b[39;00m \u001b[38;5;167;01mValueError\u001b[39;00m(msg_err)\n",
      "\u001b[1;31mValueError\u001b[0m: Input contains NaN."
     ]
    }
   ],
   "source": [
    "for params_sel in combinations:\n",
    "    print(params_sel)\n",
    "    auc_folds = []\n",
    "    for train_index, test_index in stratified_cv.split(X_train_1, y_train_1):\n",
    "        X_train_inner = X_train_1.iloc[train_index]\n",
    "        X_test_inner = X_train_1.iloc[test_index]\n",
    "        y_train_inner = y_train_1.iloc[train_index]\n",
    "        y_test_inner = y_train_1.iloc[test_index]\n",
    "\n",
    "        # Asegúrate de que los datos están en el formato correcto\n",
    "        X_train_inner = X_train_inner.to_numpy()\n",
    "        X_test_inner = X_test_inner.to_numpy()\n",
    "        y_train_inner = y_train_inner.to_numpy()\n",
    "        y_test_inner = y_test_inner.to_numpy()\n",
    "\n",
    "        # Inicializar el modelo con los parámetros seleccionados\n",
    "        twin_svm = TwinSVMClassifier(**params_sel)\n",
    "\n",
    "        # Entrenar el modelo\n",
    "        twin_svm.fit(X_train_inner, y_train_inner)\n",
    "\n",
    "        # Hacer predicciones\n",
    "        y_pred_prob = twin_svm.decision_function(X_test_inner)\n",
    "\n",
    "        # Calcular métricas de evaluación\n",
    "        auc = roc_auc_score(y_test_inner, y_pred_prob)\n",
    "        auc_folds.append(auc)\n",
    "\n",
    "    mean_auc = sum(auc_folds) / len(auc_folds)\n",
    "    if mean_auc > best_auc:\n",
    "        best_auc = mean_auc\n",
    "        best_params = params_sel"
   ]
  },
  {
   "cell_type": "code",
   "execution_count": null,
   "id": "5856269c-7b17-44c1-b1da-9d0e8d3abfec",
   "metadata": {},
   "outputs": [],
   "source": []
  },
  {
   "cell_type": "markdown",
   "id": "6781641e-2ac4-49ad-97c6-04ef8189c241",
   "metadata": {},
   "source": [
    "# Estrategia de apuestas"
   ]
  },
  {
   "cell_type": "code",
   "execution_count": 169,
   "id": "373611f3-b9df-4985-9be0-49e3dbfc8469",
   "metadata": {},
   "outputs": [
    {
     "data": {
      "text/html": [
       "<div>\n",
       "<style scoped>\n",
       "    .dataframe tbody tr th:only-of-type {\n",
       "        vertical-align: middle;\n",
       "    }\n",
       "\n",
       "    .dataframe tbody tr th {\n",
       "        vertical-align: top;\n",
       "    }\n",
       "\n",
       "    .dataframe thead th {\n",
       "        text-align: right;\n",
       "    }\n",
       "</style>\n",
       "<table border=\"1\" class=\"dataframe\">\n",
       "  <thead>\n",
       "    <tr style=\"text-align: right;\">\n",
       "      <th></th>\n",
       "      <th>count</th>\n",
       "      <th>percent</th>\n",
       "    </tr>\n",
       "  </thead>\n",
       "  <tbody>\n",
       "    <tr>\n",
       "      <th>Season</th>\n",
       "      <td>0</td>\n",
       "      <td>0.0</td>\n",
       "    </tr>\n",
       "    <tr>\n",
       "      <th>Date</th>\n",
       "      <td>0</td>\n",
       "      <td>0.0</td>\n",
       "    </tr>\n",
       "    <tr>\n",
       "      <th>HomeTeam</th>\n",
       "      <td>0</td>\n",
       "      <td>0.0</td>\n",
       "    </tr>\n",
       "    <tr>\n",
       "      <th>AwayTeam</th>\n",
       "      <td>0</td>\n",
       "      <td>0.0</td>\n",
       "    </tr>\n",
       "    <tr>\n",
       "      <th>Semana</th>\n",
       "      <td>0</td>\n",
       "      <td>0.0</td>\n",
       "    </tr>\n",
       "    <tr>\n",
       "      <th>ELOHomeT</th>\n",
       "      <td>0</td>\n",
       "      <td>0.0</td>\n",
       "    </tr>\n",
       "    <tr>\n",
       "      <th>ELOHomeM</th>\n",
       "      <td>0</td>\n",
       "      <td>0.0</td>\n",
       "    </tr>\n",
       "    <tr>\n",
       "      <th>ELOAwayT</th>\n",
       "      <td>0</td>\n",
       "      <td>0.0</td>\n",
       "    </tr>\n",
       "    <tr>\n",
       "      <th>ELOAwayM</th>\n",
       "      <td>0</td>\n",
       "      <td>0.0</td>\n",
       "    </tr>\n",
       "    <tr>\n",
       "      <th>AtaqueMedioH</th>\n",
       "      <td>0</td>\n",
       "      <td>0.0</td>\n",
       "    </tr>\n",
       "    <tr>\n",
       "      <th>AtaqueMedioA</th>\n",
       "      <td>0</td>\n",
       "      <td>0.0</td>\n",
       "    </tr>\n",
       "    <tr>\n",
       "      <th>TarjetasRMedioH</th>\n",
       "      <td>0</td>\n",
       "      <td>0.0</td>\n",
       "    </tr>\n",
       "    <tr>\n",
       "      <th>TarjetasRMedioA</th>\n",
       "      <td>0</td>\n",
       "      <td>0.0</td>\n",
       "    </tr>\n",
       "    <tr>\n",
       "      <th>Resultado</th>\n",
       "      <td>0</td>\n",
       "      <td>0.0</td>\n",
       "    </tr>\n",
       "  </tbody>\n",
       "</table>\n",
       "</div>"
      ],
      "text/plain": [
       "                 count  percent\n",
       "Season               0      0.0\n",
       "Date                 0      0.0\n",
       "HomeTeam             0      0.0\n",
       "AwayTeam             0      0.0\n",
       "Semana               0      0.0\n",
       "ELOHomeT             0      0.0\n",
       "ELOHomeM             0      0.0\n",
       "ELOAwayT             0      0.0\n",
       "ELOAwayM             0      0.0\n",
       "AtaqueMedioH         0      0.0\n",
       "AtaqueMedioA         0      0.0\n",
       "TarjetasRMedioH      0      0.0\n",
       "TarjetasRMedioA      0      0.0\n",
       "Resultado            0      0.0"
      ]
     },
     "execution_count": 169,
     "metadata": {},
     "output_type": "execute_result"
    }
   ],
   "source": [
    "import pandas as pd\n",
    "import matplotlib.pyplot as plt\n",
    "from sklearn.preprocessing import LabelEncoder\n",
    "\n",
    "import os\n",
    "\n",
    "os.chdir(\"C:/Users/Sandra/Downloads\")\n",
    "# Cargar el archivo Excel en un DataFrame de pandas\n",
    "\n",
    "nuevos_datos = pd.read_excel('datos_parte2.xlsx')\n",
    "cuotas = pd.read_excel('cuotas.xlsx')\n",
    "\n",
    "valores_faltantes = nuevos_datos.isnull().sum()\n",
    "valores_faltantes_porcentaje = 100*valores_faltantes/len(nuevos_datos)\n",
    "\n",
    "\n",
    "label_encoder = LabelEncoder()\n",
    "nuevos_datos['Resultado'] = label_encoder.fit_transform(nuevos_datos['Resultado'])\n",
    "\n",
    "train_df_nuevo = nuevos_datos[(nuevos_datos['Season'] >= '2019-20') & (nuevos_datos['Season'] <= '2022-23')]\n",
    "test_df_nuevo = nuevos_datos[nuevos_datos['Season'] == '2023-24']\n",
    "\n",
    "X_train_2 = train_df_nuevo.drop(columns=['Semana', 'Resultado', 'Date', 'Season', 'HomeTeam', 'AwayTeam'])\n",
    "y_train_2 = train_df_nuevo['Resultado']\n",
    "X_test_2 = test_df_nuevo.drop(columns=['Semana', 'Resultado', 'Date', 'Season', 'HomeTeam', 'AwayTeam'])\n",
    "y_test_2 = test_df_nuevo['Resultado']\n",
    "\n",
    "valores_faltantes_df = pd.DataFrame({'count': valores_faltantes, 'percent': valores_faltantes_porcentaje})\n",
    "valores_faltantes_df.sort_values('percent', ascending=False)\n"
   ]
  },
  {
   "cell_type": "code",
   "execution_count": 170,
   "id": "2f69e1e1",
   "metadata": {},
   "outputs": [
    {
     "data": {
      "text/html": [
       "<div>\n",
       "<style scoped>\n",
       "    .dataframe tbody tr th:only-of-type {\n",
       "        vertical-align: middle;\n",
       "    }\n",
       "\n",
       "    .dataframe tbody tr th {\n",
       "        vertical-align: top;\n",
       "    }\n",
       "\n",
       "    .dataframe thead th {\n",
       "        text-align: right;\n",
       "    }\n",
       "</style>\n",
       "<table border=\"1\" class=\"dataframe\">\n",
       "  <thead>\n",
       "    <tr style=\"text-align: right;\">\n",
       "      <th></th>\n",
       "      <th>Date</th>\n",
       "      <th>HomeTeam</th>\n",
       "      <th>AwayTeam</th>\n",
       "      <th>cuota local</th>\n",
       "      <th>cuota empate</th>\n",
       "      <th>cuota visitante</th>\n",
       "    </tr>\n",
       "  </thead>\n",
       "  <tbody>\n",
       "    <tr>\n",
       "      <th>0</th>\n",
       "      <td>2023-08-11</td>\n",
       "      <td>Almeria</td>\n",
       "      <td>Vallecano</td>\n",
       "      <td>2.63</td>\n",
       "      <td>3.19</td>\n",
       "      <td>2.88</td>\n",
       "    </tr>\n",
       "    <tr>\n",
       "      <th>1</th>\n",
       "      <td>2023-08-11</td>\n",
       "      <td>Sevilla</td>\n",
       "      <td>Valencia</td>\n",
       "      <td>1.94</td>\n",
       "      <td>3.38</td>\n",
       "      <td>4.42</td>\n",
       "    </tr>\n",
       "    <tr>\n",
       "      <th>2</th>\n",
       "      <td>2023-08-12</td>\n",
       "      <td>Sociedad</td>\n",
       "      <td>Girona</td>\n",
       "      <td>1.79</td>\n",
       "      <td>3.64</td>\n",
       "      <td>4.87</td>\n",
       "    </tr>\n",
       "    <tr>\n",
       "      <th>3</th>\n",
       "      <td>2023-08-12</td>\n",
       "      <td>Las Palmas</td>\n",
       "      <td>Mallorca</td>\n",
       "      <td>2.60</td>\n",
       "      <td>2.89</td>\n",
       "      <td>3.24</td>\n",
       "    </tr>\n",
       "    <tr>\n",
       "      <th>4</th>\n",
       "      <td>2023-08-12</td>\n",
       "      <td>Ath Bilbao</td>\n",
       "      <td>Real Madrid</td>\n",
       "      <td>3.34</td>\n",
       "      <td>3.45</td>\n",
       "      <td>2.23</td>\n",
       "    </tr>\n",
       "    <tr>\n",
       "      <th>...</th>\n",
       "      <td>...</td>\n",
       "      <td>...</td>\n",
       "      <td>...</td>\n",
       "      <td>...</td>\n",
       "      <td>...</td>\n",
       "      <td>...</td>\n",
       "    </tr>\n",
       "    <tr>\n",
       "      <th>373</th>\n",
       "      <td>2024-05-25</td>\n",
       "      <td>Real Madrid</td>\n",
       "      <td>Betis</td>\n",
       "      <td>1.23</td>\n",
       "      <td>7.25</td>\n",
       "      <td>11.33</td>\n",
       "    </tr>\n",
       "    <tr>\n",
       "      <th>374</th>\n",
       "      <td>2024-05-26</td>\n",
       "      <td>Getafe</td>\n",
       "      <td>Mallorca</td>\n",
       "      <td>2.34</td>\n",
       "      <td>3.22</td>\n",
       "      <td>3.35</td>\n",
       "    </tr>\n",
       "    <tr>\n",
       "      <th>375</th>\n",
       "      <td>2024-05-26</td>\n",
       "      <td>Las Palmas</td>\n",
       "      <td>Alaves</td>\n",
       "      <td>2.36</td>\n",
       "      <td>3.46</td>\n",
       "      <td>3.08</td>\n",
       "    </tr>\n",
       "    <tr>\n",
       "      <th>376</th>\n",
       "      <td>2024-05-26</td>\n",
       "      <td>Celta</td>\n",
       "      <td>Valencia</td>\n",
       "      <td>1.93</td>\n",
       "      <td>3.70</td>\n",
       "      <td>3.96</td>\n",
       "    </tr>\n",
       "    <tr>\n",
       "      <th>377</th>\n",
       "      <td>2024-05-26</td>\n",
       "      <td>Sevilla</td>\n",
       "      <td>Barcelona</td>\n",
       "      <td>4.48</td>\n",
       "      <td>4.31</td>\n",
       "      <td>1.72</td>\n",
       "    </tr>\n",
       "  </tbody>\n",
       "</table>\n",
       "<p>378 rows × 6 columns</p>\n",
       "</div>"
      ],
      "text/plain": [
       "          Date     HomeTeam     AwayTeam  cuota local  cuota empate  \\\n",
       "0   2023-08-11      Almeria    Vallecano         2.63          3.19   \n",
       "1   2023-08-11      Sevilla     Valencia         1.94          3.38   \n",
       "2   2023-08-12     Sociedad       Girona         1.79          3.64   \n",
       "3   2023-08-12   Las Palmas     Mallorca         2.60          2.89   \n",
       "4   2023-08-12   Ath Bilbao  Real Madrid         3.34          3.45   \n",
       "..         ...          ...          ...          ...           ...   \n",
       "373 2024-05-25  Real Madrid        Betis         1.23          7.25   \n",
       "374 2024-05-26       Getafe     Mallorca         2.34          3.22   \n",
       "375 2024-05-26   Las Palmas       Alaves         2.36          3.46   \n",
       "376 2024-05-26        Celta     Valencia         1.93          3.70   \n",
       "377 2024-05-26      Sevilla    Barcelona         4.48          4.31   \n",
       "\n",
       "     cuota visitante  \n",
       "0               2.88  \n",
       "1               4.42  \n",
       "2               4.87  \n",
       "3               3.24  \n",
       "4               2.23  \n",
       "..               ...  \n",
       "373            11.33  \n",
       "374             3.35  \n",
       "375             3.08  \n",
       "376             3.96  \n",
       "377             1.72  \n",
       "\n",
       "[378 rows x 6 columns]"
      ]
     },
     "execution_count": 170,
     "metadata": {},
     "output_type": "execute_result"
    }
   ],
   "source": [
    "cuotas"
   ]
  },
  {
   "cell_type": "code",
   "execution_count": 171,
   "id": "d168425d-2f0a-4660-a9b4-6bd5c76f4830",
   "metadata": {},
   "outputs": [],
   "source": [
    "import pandas as pd\n",
    "from sklearn.model_selection import train_test_split\n",
    "from sklearn.linear_model import LogisticRegression\n",
    "from sklearn.model_selection import GridSearchCV, StratifiedKFold\n",
    "from sklearn.metrics import accuracy_score, confusion_matrix\n",
    "\n",
    "params = {'penalty': None, 'C': 1}\n",
    "lr_clf = LogisticRegression(penalty=None,C=1,max_iter=1000, random_state=123)\n",
    "\n",
    "lr_clf.fit(X_train_2, y_train_2)\n",
    "\n",
    "y_pred_prob_2 = lr_clf.predict_proba(X_test_2)\n",
    "y_pred_class_2 = lr_clf.predict(X_test_2)"
   ]
  },
  {
   "cell_type": "code",
   "execution_count": 212,
   "id": "5939ad05-8063-4efd-975e-bb39a801da46",
   "metadata": {},
   "outputs": [
    {
     "data": {
      "text/html": [
       "<div>\n",
       "<style scoped>\n",
       "    .dataframe tbody tr th:only-of-type {\n",
       "        vertical-align: middle;\n",
       "    }\n",
       "\n",
       "    .dataframe tbody tr th {\n",
       "        vertical-align: top;\n",
       "    }\n",
       "\n",
       "    .dataframe thead th {\n",
       "        text-align: right;\n",
       "    }\n",
       "</style>\n",
       "<table border=\"1\" class=\"dataframe\">\n",
       "  <thead>\n",
       "    <tr style=\"text-align: right;\">\n",
       "      <th></th>\n",
       "      <th>Date</th>\n",
       "      <th>HomeTeam</th>\n",
       "      <th>AwayTeam</th>\n",
       "      <th>cuota local</th>\n",
       "      <th>cuota empate</th>\n",
       "      <th>cuota visitante</th>\n",
       "    </tr>\n",
       "  </thead>\n",
       "  <tbody>\n",
       "    <tr>\n",
       "      <th>5</th>\n",
       "      <td>2023-08-13</td>\n",
       "      <td>Celta</td>\n",
       "      <td>Osasuna</td>\n",
       "      <td>2.11</td>\n",
       "      <td>3.18</td>\n",
       "      <td>3.93</td>\n",
       "    </tr>\n",
       "    <tr>\n",
       "      <th>21</th>\n",
       "      <td>2023-08-25</td>\n",
       "      <td>Celta</td>\n",
       "      <td>Real Madrid</td>\n",
       "      <td>4.64</td>\n",
       "      <td>3.85</td>\n",
       "      <td>1.78</td>\n",
       "    </tr>\n",
       "    <tr>\n",
       "      <th>42</th>\n",
       "      <td>2023-09-16</td>\n",
       "      <td>Celta</td>\n",
       "      <td>Mallorca</td>\n",
       "      <td>2.06</td>\n",
       "      <td>3.10</td>\n",
       "      <td>4.31</td>\n",
       "    </tr>\n",
       "    <tr>\n",
       "      <th>66</th>\n",
       "      <td>2023-09-28</td>\n",
       "      <td>Celta</td>\n",
       "      <td>Alaves</td>\n",
       "      <td>1.60</td>\n",
       "      <td>3.85</td>\n",
       "      <td>6.59</td>\n",
       "    </tr>\n",
       "    <tr>\n",
       "      <th>86</th>\n",
       "      <td>2023-10-08</td>\n",
       "      <td>Celta</td>\n",
       "      <td>Getafe</td>\n",
       "      <td>2.04</td>\n",
       "      <td>3.27</td>\n",
       "      <td>4.21</td>\n",
       "    </tr>\n",
       "    <tr>\n",
       "      <th>93</th>\n",
       "      <td>2023-10-21</td>\n",
       "      <td>Celta</td>\n",
       "      <td>Ath Madrid</td>\n",
       "      <td>3.46</td>\n",
       "      <td>3.51</td>\n",
       "      <td>2.17</td>\n",
       "    </tr>\n",
       "    <tr>\n",
       "      <th>112</th>\n",
       "      <td>2023-11-04</td>\n",
       "      <td>Celta</td>\n",
       "      <td>Sevilla</td>\n",
       "      <td>2.42</td>\n",
       "      <td>3.42</td>\n",
       "      <td>4.71</td>\n",
       "    </tr>\n",
       "    <tr>\n",
       "      <th>148</th>\n",
       "      <td>2023-12-04</td>\n",
       "      <td>Celta</td>\n",
       "      <td>Cadiz</td>\n",
       "      <td>1.55</td>\n",
       "      <td>4.18</td>\n",
       "      <td>6.59</td>\n",
       "    </tr>\n",
       "    <tr>\n",
       "      <th>160</th>\n",
       "      <td>2023-12-16</td>\n",
       "      <td>Celta</td>\n",
       "      <td>Granada</td>\n",
       "      <td>1.69</td>\n",
       "      <td>3.93</td>\n",
       "      <td>5.26</td>\n",
       "    </tr>\n",
       "    <tr>\n",
       "      <th>185</th>\n",
       "      <td>2024-01-03</td>\n",
       "      <td>Celta</td>\n",
       "      <td>Betis</td>\n",
       "      <td>2.23</td>\n",
       "      <td>3.28</td>\n",
       "      <td>3.48</td>\n",
       "    </tr>\n",
       "    <tr>\n",
       "      <th>201</th>\n",
       "      <td>2024-01-20</td>\n",
       "      <td>Celta</td>\n",
       "      <td>Sociedad</td>\n",
       "      <td>2.64</td>\n",
       "      <td>2.94</td>\n",
       "      <td>3.20</td>\n",
       "    </tr>\n",
       "    <tr>\n",
       "      <th>212</th>\n",
       "      <td>2024-01-28</td>\n",
       "      <td>Celta</td>\n",
       "      <td>Girona</td>\n",
       "      <td>2.77</td>\n",
       "      <td>3.52</td>\n",
       "      <td>2.55</td>\n",
       "    </tr>\n",
       "    <tr>\n",
       "      <th>243</th>\n",
       "      <td>2024-02-17</td>\n",
       "      <td>Celta</td>\n",
       "      <td>Barcelona</td>\n",
       "      <td>3.84</td>\n",
       "      <td>3.82</td>\n",
       "      <td>1.94</td>\n",
       "    </tr>\n",
       "    <tr>\n",
       "      <th>259</th>\n",
       "      <td>2024-03-01</td>\n",
       "      <td>Celta</td>\n",
       "      <td>Almeria</td>\n",
       "      <td>1.82</td>\n",
       "      <td>3.32</td>\n",
       "      <td>4.47</td>\n",
       "    </tr>\n",
       "    <tr>\n",
       "      <th>294</th>\n",
       "      <td>2024-03-31</td>\n",
       "      <td>Celta</td>\n",
       "      <td>Vallecano</td>\n",
       "      <td>1.93</td>\n",
       "      <td>3.51</td>\n",
       "      <td>4.31</td>\n",
       "    </tr>\n",
       "    <tr>\n",
       "      <th>311</th>\n",
       "      <td>2024-04-20</td>\n",
       "      <td>Celta</td>\n",
       "      <td>Las Palmas</td>\n",
       "      <td>1.68</td>\n",
       "      <td>3.94</td>\n",
       "      <td>5.33</td>\n",
       "    </tr>\n",
       "    <tr>\n",
       "      <th>336</th>\n",
       "      <td>2024-05-05</td>\n",
       "      <td>Celta</td>\n",
       "      <td>Villarreal</td>\n",
       "      <td>2.71</td>\n",
       "      <td>3.67</td>\n",
       "      <td>2.55</td>\n",
       "    </tr>\n",
       "    <tr>\n",
       "      <th>355</th>\n",
       "      <td>2024-05-14</td>\n",
       "      <td>Celta</td>\n",
       "      <td>Ath Bilbao</td>\n",
       "      <td>2.32</td>\n",
       "      <td>3.30</td>\n",
       "      <td>3.33</td>\n",
       "    </tr>\n",
       "    <tr>\n",
       "      <th>376</th>\n",
       "      <td>2024-05-26</td>\n",
       "      <td>Celta</td>\n",
       "      <td>Valencia</td>\n",
       "      <td>1.93</td>\n",
       "      <td>3.70</td>\n",
       "      <td>3.96</td>\n",
       "    </tr>\n",
       "  </tbody>\n",
       "</table>\n",
       "</div>"
      ],
      "text/plain": [
       "          Date HomeTeam     AwayTeam  cuota local  cuota empate  \\\n",
       "5   2023-08-13    Celta      Osasuna         2.11          3.18   \n",
       "21  2023-08-25    Celta  Real Madrid         4.64          3.85   \n",
       "42  2023-09-16    Celta     Mallorca         2.06          3.10   \n",
       "66  2023-09-28    Celta       Alaves         1.60          3.85   \n",
       "86  2023-10-08    Celta       Getafe         2.04          3.27   \n",
       "93  2023-10-21    Celta   Ath Madrid         3.46          3.51   \n",
       "112 2023-11-04    Celta      Sevilla         2.42          3.42   \n",
       "148 2023-12-04    Celta        Cadiz         1.55          4.18   \n",
       "160 2023-12-16    Celta      Granada         1.69          3.93   \n",
       "185 2024-01-03    Celta        Betis         2.23          3.28   \n",
       "201 2024-01-20    Celta     Sociedad         2.64          2.94   \n",
       "212 2024-01-28    Celta       Girona         2.77          3.52   \n",
       "243 2024-02-17    Celta    Barcelona         3.84          3.82   \n",
       "259 2024-03-01    Celta      Almeria         1.82          3.32   \n",
       "294 2024-03-31    Celta    Vallecano         1.93          3.51   \n",
       "311 2024-04-20    Celta   Las Palmas         1.68          3.94   \n",
       "336 2024-05-05    Celta   Villarreal         2.71          3.67   \n",
       "355 2024-05-14    Celta   Ath Bilbao         2.32          3.30   \n",
       "376 2024-05-26    Celta     Valencia         1.93          3.70   \n",
       "\n",
       "     cuota visitante  \n",
       "5               3.93  \n",
       "21              1.78  \n",
       "42              4.31  \n",
       "66              6.59  \n",
       "86              4.21  \n",
       "93              2.17  \n",
       "112             4.71  \n",
       "148             6.59  \n",
       "160             5.26  \n",
       "185             3.48  \n",
       "201             3.20  \n",
       "212             2.55  \n",
       "243             1.94  \n",
       "259             4.47  \n",
       "294             4.31  \n",
       "311             5.33  \n",
       "336             2.55  \n",
       "355             3.33  \n",
       "376             3.96  "
      ]
     },
     "execution_count": 212,
     "metadata": {},
     "output_type": "execute_result"
    }
   ],
   "source": [
    "equipo = \"Celta\"\n",
    "\n",
    "cuotas_df_equipo = cuotas[(cuotas['HomeTeam'] == equipo)]\n",
    "\n",
    "#test_df_equipo = test_df_nuevo[(test_df_nuevo['HomeTeam'] == equipo) | (test_df_nuevo['AwayTeam'] == equipo)]\n",
    "test_df_equipo = test_df_nuevo[(test_df_nuevo['HomeTeam'] == equipo)]\n",
    "\n",
    "X_test_equipo = test_df_equipo.drop(columns=['Semana', 'Resultado', 'Date', 'Season', 'HomeTeam', 'AwayTeam'])\n",
    "y_test_equipo = test_df_equipo['Resultado']\n",
    "\n",
    "cuotas_df_equipo"
   ]
  },
  {
   "cell_type": "code",
   "execution_count": 213,
   "id": "9e99bb82",
   "metadata": {},
   "outputs": [
    {
     "data": {
      "text/html": [
       "<div>\n",
       "<style scoped>\n",
       "    .dataframe tbody tr th:only-of-type {\n",
       "        vertical-align: middle;\n",
       "    }\n",
       "\n",
       "    .dataframe tbody tr th {\n",
       "        vertical-align: top;\n",
       "    }\n",
       "\n",
       "    .dataframe thead th {\n",
       "        text-align: right;\n",
       "    }\n",
       "</style>\n",
       "<table border=\"1\" class=\"dataframe\">\n",
       "  <thead>\n",
       "    <tr style=\"text-align: right;\">\n",
       "      <th></th>\n",
       "      <th>Season</th>\n",
       "      <th>Date</th>\n",
       "      <th>HomeTeam</th>\n",
       "      <th>AwayTeam</th>\n",
       "      <th>Semana</th>\n",
       "      <th>ELOHomeT</th>\n",
       "      <th>ELOHomeM</th>\n",
       "      <th>ELOAwayT</th>\n",
       "      <th>ELOAwayM</th>\n",
       "      <th>AtaqueMedioH</th>\n",
       "      <th>AtaqueMedioA</th>\n",
       "      <th>TarjetasRMedioH</th>\n",
       "      <th>TarjetasRMedioA</th>\n",
       "      <th>Resultado</th>\n",
       "    </tr>\n",
       "  </thead>\n",
       "  <tbody>\n",
       "    <tr>\n",
       "      <th>1525</th>\n",
       "      <td>2023-24</td>\n",
       "      <td>2023-08-13</td>\n",
       "      <td>Celta</td>\n",
       "      <td>Osasuna</td>\n",
       "      <td>1</td>\n",
       "      <td>0</td>\n",
       "      <td>0</td>\n",
       "      <td>0</td>\n",
       "      <td>0</td>\n",
       "      <td>0.000000</td>\n",
       "      <td>0.000000</td>\n",
       "      <td>0.000000</td>\n",
       "      <td>0.000000</td>\n",
       "      <td>0</td>\n",
       "    </tr>\n",
       "    <tr>\n",
       "      <th>1541</th>\n",
       "      <td>2023-24</td>\n",
       "      <td>2023-08-25</td>\n",
       "      <td>Celta</td>\n",
       "      <td>Real Madrid</td>\n",
       "      <td>2</td>\n",
       "      <td>-1</td>\n",
       "      <td>-1</td>\n",
       "      <td>2</td>\n",
       "      <td>1</td>\n",
       "      <td>0.000000</td>\n",
       "      <td>2.500000</td>\n",
       "      <td>0.000000</td>\n",
       "      <td>0.000000</td>\n",
       "      <td>0</td>\n",
       "    </tr>\n",
       "    <tr>\n",
       "      <th>1562</th>\n",
       "      <td>2023-24</td>\n",
       "      <td>2023-09-16</td>\n",
       "      <td>Celta</td>\n",
       "      <td>Mallorca</td>\n",
       "      <td>3</td>\n",
       "      <td>-2</td>\n",
       "      <td>-1</td>\n",
       "      <td>-1</td>\n",
       "      <td>-1</td>\n",
       "      <td>0.000000</td>\n",
       "      <td>1.500000</td>\n",
       "      <td>0.000000</td>\n",
       "      <td>0.000000</td>\n",
       "      <td>0</td>\n",
       "    </tr>\n",
       "    <tr>\n",
       "      <th>1586</th>\n",
       "      <td>2023-24</td>\n",
       "      <td>2023-09-28</td>\n",
       "      <td>Celta</td>\n",
       "      <td>Alaves</td>\n",
       "      <td>4</td>\n",
       "      <td>-3</td>\n",
       "      <td>-1</td>\n",
       "      <td>-3</td>\n",
       "      <td>-2</td>\n",
       "      <td>0.000000</td>\n",
       "      <td>0.000000</td>\n",
       "      <td>0.000000</td>\n",
       "      <td>0.000000</td>\n",
       "      <td>1</td>\n",
       "    </tr>\n",
       "    <tr>\n",
       "      <th>1606</th>\n",
       "      <td>2023-24</td>\n",
       "      <td>2023-10-08</td>\n",
       "      <td>Celta</td>\n",
       "      <td>Getafe</td>\n",
       "      <td>5</td>\n",
       "      <td>-3</td>\n",
       "      <td>0</td>\n",
       "      <td>-3</td>\n",
       "      <td>0</td>\n",
       "      <td>0.250000</td>\n",
       "      <td>1.500000</td>\n",
       "      <td>0.250000</td>\n",
       "      <td>0.000000</td>\n",
       "      <td>1</td>\n",
       "    </tr>\n",
       "    <tr>\n",
       "      <th>1613</th>\n",
       "      <td>2023-24</td>\n",
       "      <td>2023-10-21</td>\n",
       "      <td>Celta</td>\n",
       "      <td>Ath Madrid</td>\n",
       "      <td>6</td>\n",
       "      <td>-3</td>\n",
       "      <td>0</td>\n",
       "      <td>1</td>\n",
       "      <td>1</td>\n",
       "      <td>0.600000</td>\n",
       "      <td>2.250000</td>\n",
       "      <td>0.400000</td>\n",
       "      <td>0.000000</td>\n",
       "      <td>0</td>\n",
       "    </tr>\n",
       "    <tr>\n",
       "      <th>1632</th>\n",
       "      <td>2023-24</td>\n",
       "      <td>2023-11-04</td>\n",
       "      <td>Celta</td>\n",
       "      <td>Sevilla</td>\n",
       "      <td>7</td>\n",
       "      <td>-4</td>\n",
       "      <td>-1</td>\n",
       "      <td>-2</td>\n",
       "      <td>-1</td>\n",
       "      <td>0.500000</td>\n",
       "      <td>1.250000</td>\n",
       "      <td>0.333333</td>\n",
       "      <td>0.000000</td>\n",
       "      <td>1</td>\n",
       "    </tr>\n",
       "    <tr>\n",
       "      <th>1668</th>\n",
       "      <td>2023-24</td>\n",
       "      <td>2023-12-04</td>\n",
       "      <td>Celta</td>\n",
       "      <td>Cadiz</td>\n",
       "      <td>8</td>\n",
       "      <td>-4</td>\n",
       "      <td>0</td>\n",
       "      <td>-5</td>\n",
       "      <td>1</td>\n",
       "      <td>0.571429</td>\n",
       "      <td>0.571429</td>\n",
       "      <td>0.285714</td>\n",
       "      <td>0.142857</td>\n",
       "      <td>1</td>\n",
       "    </tr>\n",
       "    <tr>\n",
       "      <th>1680</th>\n",
       "      <td>2023-24</td>\n",
       "      <td>2023-12-16</td>\n",
       "      <td>Celta</td>\n",
       "      <td>Granada</td>\n",
       "      <td>9</td>\n",
       "      <td>-4</td>\n",
       "      <td>-1</td>\n",
       "      <td>-7</td>\n",
       "      <td>-7</td>\n",
       "      <td>0.625000</td>\n",
       "      <td>1.000000</td>\n",
       "      <td>0.375000</td>\n",
       "      <td>0.000000</td>\n",
       "      <td>2</td>\n",
       "    </tr>\n",
       "    <tr>\n",
       "      <th>1705</th>\n",
       "      <td>2023-24</td>\n",
       "      <td>2024-01-03</td>\n",
       "      <td>Celta</td>\n",
       "      <td>Betis</td>\n",
       "      <td>10</td>\n",
       "      <td>-3</td>\n",
       "      <td>0</td>\n",
       "      <td>-1</td>\n",
       "      <td>0</td>\n",
       "      <td>0.666667</td>\n",
       "      <td>0.888889</td>\n",
       "      <td>0.333333</td>\n",
       "      <td>0.111111</td>\n",
       "      <td>2</td>\n",
       "    </tr>\n",
       "    <tr>\n",
       "      <th>1721</th>\n",
       "      <td>2023-24</td>\n",
       "      <td>2024-01-20</td>\n",
       "      <td>Celta</td>\n",
       "      <td>Sociedad</td>\n",
       "      <td>11</td>\n",
       "      <td>-2</td>\n",
       "      <td>0</td>\n",
       "      <td>0</td>\n",
       "      <td>1</td>\n",
       "      <td>0.800000</td>\n",
       "      <td>1.300000</td>\n",
       "      <td>0.300000</td>\n",
       "      <td>0.000000</td>\n",
       "      <td>0</td>\n",
       "    </tr>\n",
       "    <tr>\n",
       "      <th>1732</th>\n",
       "      <td>2023-24</td>\n",
       "      <td>2024-01-28</td>\n",
       "      <td>Celta</td>\n",
       "      <td>Girona</td>\n",
       "      <td>12</td>\n",
       "      <td>-3</td>\n",
       "      <td>-1</td>\n",
       "      <td>7</td>\n",
       "      <td>2</td>\n",
       "      <td>0.727273</td>\n",
       "      <td>2.100000</td>\n",
       "      <td>0.272727</td>\n",
       "      <td>0.000000</td>\n",
       "      <td>0</td>\n",
       "    </tr>\n",
       "    <tr>\n",
       "      <th>1763</th>\n",
       "      <td>2023-24</td>\n",
       "      <td>2024-02-17</td>\n",
       "      <td>Celta</td>\n",
       "      <td>Barcelona</td>\n",
       "      <td>13</td>\n",
       "      <td>-4</td>\n",
       "      <td>-2</td>\n",
       "      <td>6</td>\n",
       "      <td>-1</td>\n",
       "      <td>0.666667</td>\n",
       "      <td>2.100000</td>\n",
       "      <td>0.250000</td>\n",
       "      <td>0.200000</td>\n",
       "      <td>0</td>\n",
       "    </tr>\n",
       "    <tr>\n",
       "      <th>1779</th>\n",
       "      <td>2023-24</td>\n",
       "      <td>2024-03-01</td>\n",
       "      <td>Celta</td>\n",
       "      <td>Almeria</td>\n",
       "      <td>14</td>\n",
       "      <td>-5</td>\n",
       "      <td>-3</td>\n",
       "      <td>-11</td>\n",
       "      <td>-5</td>\n",
       "      <td>0.692308</td>\n",
       "      <td>1.000000</td>\n",
       "      <td>0.230769</td>\n",
       "      <td>0.076923</td>\n",
       "      <td>2</td>\n",
       "    </tr>\n",
       "    <tr>\n",
       "      <th>1814</th>\n",
       "      <td>2023-24</td>\n",
       "      <td>2024-03-31</td>\n",
       "      <td>Celta</td>\n",
       "      <td>Vallecano</td>\n",
       "      <td>15</td>\n",
       "      <td>-4</td>\n",
       "      <td>-3</td>\n",
       "      <td>-3</td>\n",
       "      <td>1</td>\n",
       "      <td>0.714286</td>\n",
       "      <td>0.733333</td>\n",
       "      <td>0.285714</td>\n",
       "      <td>0.200000</td>\n",
       "      <td>1</td>\n",
       "    </tr>\n",
       "    <tr>\n",
       "      <th>1831</th>\n",
       "      <td>2023-24</td>\n",
       "      <td>2024-04-20</td>\n",
       "      <td>Celta</td>\n",
       "      <td>Las Palmas</td>\n",
       "      <td>16</td>\n",
       "      <td>-4</td>\n",
       "      <td>-3</td>\n",
       "      <td>-4</td>\n",
       "      <td>-1</td>\n",
       "      <td>0.666667</td>\n",
       "      <td>0.800000</td>\n",
       "      <td>0.266667</td>\n",
       "      <td>0.133333</td>\n",
       "      <td>2</td>\n",
       "    </tr>\n",
       "    <tr>\n",
       "      <th>1856</th>\n",
       "      <td>2023-24</td>\n",
       "      <td>2024-05-05</td>\n",
       "      <td>Celta</td>\n",
       "      <td>Villarreal</td>\n",
       "      <td>17</td>\n",
       "      <td>-3</td>\n",
       "      <td>-2</td>\n",
       "      <td>1</td>\n",
       "      <td>-2</td>\n",
       "      <td>0.875000</td>\n",
       "      <td>1.562500</td>\n",
       "      <td>0.250000</td>\n",
       "      <td>0.312500</td>\n",
       "      <td>2</td>\n",
       "    </tr>\n",
       "    <tr>\n",
       "      <th>1875</th>\n",
       "      <td>2023-24</td>\n",
       "      <td>2024-05-14</td>\n",
       "      <td>Celta</td>\n",
       "      <td>Ath Bilbao</td>\n",
       "      <td>18</td>\n",
       "      <td>-2</td>\n",
       "      <td>-1</td>\n",
       "      <td>-1</td>\n",
       "      <td>2</td>\n",
       "      <td>1.000000</td>\n",
       "      <td>0.944444</td>\n",
       "      <td>0.294118</td>\n",
       "      <td>0.111111</td>\n",
       "      <td>2</td>\n",
       "    </tr>\n",
       "    <tr>\n",
       "      <th>1896</th>\n",
       "      <td>2023-24</td>\n",
       "      <td>2024-05-26</td>\n",
       "      <td>Celta</td>\n",
       "      <td>Valencia</td>\n",
       "      <td>19</td>\n",
       "      <td>-1</td>\n",
       "      <td>-2</td>\n",
       "      <td>-5</td>\n",
       "      <td>-3</td>\n",
       "      <td>1.055556</td>\n",
       "      <td>1.000000</td>\n",
       "      <td>0.277778</td>\n",
       "      <td>0.055556</td>\n",
       "      <td>1</td>\n",
       "    </tr>\n",
       "  </tbody>\n",
       "</table>\n",
       "</div>"
      ],
      "text/plain": [
       "       Season       Date HomeTeam     AwayTeam  Semana  ELOHomeT  ELOHomeM  \\\n",
       "1525  2023-24 2023-08-13    Celta      Osasuna       1         0         0   \n",
       "1541  2023-24 2023-08-25    Celta  Real Madrid       2        -1        -1   \n",
       "1562  2023-24 2023-09-16    Celta     Mallorca       3        -2        -1   \n",
       "1586  2023-24 2023-09-28    Celta       Alaves       4        -3        -1   \n",
       "1606  2023-24 2023-10-08    Celta       Getafe       5        -3         0   \n",
       "1613  2023-24 2023-10-21    Celta   Ath Madrid       6        -3         0   \n",
       "1632  2023-24 2023-11-04    Celta      Sevilla       7        -4        -1   \n",
       "1668  2023-24 2023-12-04    Celta        Cadiz       8        -4         0   \n",
       "1680  2023-24 2023-12-16    Celta      Granada       9        -4        -1   \n",
       "1705  2023-24 2024-01-03    Celta        Betis      10        -3         0   \n",
       "1721  2023-24 2024-01-20    Celta     Sociedad      11        -2         0   \n",
       "1732  2023-24 2024-01-28    Celta       Girona      12        -3        -1   \n",
       "1763  2023-24 2024-02-17    Celta    Barcelona      13        -4        -2   \n",
       "1779  2023-24 2024-03-01    Celta      Almeria      14        -5        -3   \n",
       "1814  2023-24 2024-03-31    Celta    Vallecano      15        -4        -3   \n",
       "1831  2023-24 2024-04-20    Celta   Las Palmas      16        -4        -3   \n",
       "1856  2023-24 2024-05-05    Celta   Villarreal      17        -3        -2   \n",
       "1875  2023-24 2024-05-14    Celta   Ath Bilbao      18        -2        -1   \n",
       "1896  2023-24 2024-05-26    Celta     Valencia      19        -1        -2   \n",
       "\n",
       "      ELOAwayT  ELOAwayM  AtaqueMedioH  AtaqueMedioA  TarjetasRMedioH  \\\n",
       "1525         0         0      0.000000      0.000000         0.000000   \n",
       "1541         2         1      0.000000      2.500000         0.000000   \n",
       "1562        -1        -1      0.000000      1.500000         0.000000   \n",
       "1586        -3        -2      0.000000      0.000000         0.000000   \n",
       "1606        -3         0      0.250000      1.500000         0.250000   \n",
       "1613         1         1      0.600000      2.250000         0.400000   \n",
       "1632        -2        -1      0.500000      1.250000         0.333333   \n",
       "1668        -5         1      0.571429      0.571429         0.285714   \n",
       "1680        -7        -7      0.625000      1.000000         0.375000   \n",
       "1705        -1         0      0.666667      0.888889         0.333333   \n",
       "1721         0         1      0.800000      1.300000         0.300000   \n",
       "1732         7         2      0.727273      2.100000         0.272727   \n",
       "1763         6        -1      0.666667      2.100000         0.250000   \n",
       "1779       -11        -5      0.692308      1.000000         0.230769   \n",
       "1814        -3         1      0.714286      0.733333         0.285714   \n",
       "1831        -4        -1      0.666667      0.800000         0.266667   \n",
       "1856         1        -2      0.875000      1.562500         0.250000   \n",
       "1875        -1         2      1.000000      0.944444         0.294118   \n",
       "1896        -5        -3      1.055556      1.000000         0.277778   \n",
       "\n",
       "      TarjetasRMedioA  Resultado  \n",
       "1525         0.000000          0  \n",
       "1541         0.000000          0  \n",
       "1562         0.000000          0  \n",
       "1586         0.000000          1  \n",
       "1606         0.000000          1  \n",
       "1613         0.000000          0  \n",
       "1632         0.000000          1  \n",
       "1668         0.142857          1  \n",
       "1680         0.000000          2  \n",
       "1705         0.111111          2  \n",
       "1721         0.000000          0  \n",
       "1732         0.000000          0  \n",
       "1763         0.200000          0  \n",
       "1779         0.076923          2  \n",
       "1814         0.200000          1  \n",
       "1831         0.133333          2  \n",
       "1856         0.312500          2  \n",
       "1875         0.111111          2  \n",
       "1896         0.055556          1  "
      ]
     },
     "execution_count": 213,
     "metadata": {},
     "output_type": "execute_result"
    }
   ],
   "source": [
    "test_df_equipo"
   ]
  },
  {
   "cell_type": "code",
   "execution_count": 214,
   "id": "1eeea0d4-5f1c-4dc4-95e9-8159be4f4d91",
   "metadata": {},
   "outputs": [
    {
     "name": "stdout",
     "output_type": "stream",
     "text": [
      "[2, 0, 0, 2, 0, 0, 0, 2, 2, 2, 0, 0, 0, 2, 2, 2, 0, 2, 2]\n"
     ]
    }
   ],
   "source": [
    "# Predecir probabilidades y clases para el equipo\n",
    "y_pred_prob_equipo = lr_clf.predict_proba(X_test_equipo)\n",
    "y_pred_class_equipo = lr_clf.predict(X_test_equipo)\n",
    "\n",
    "resultados_equipo = test_df_equipo[['Date', 'HomeTeam', 'AwayTeam', 'Resultado']].copy()\n",
    "resultados_equipo['Probabilidades'] = y_pred_prob_equipo.tolist()\n",
    "resultados_equipo['Prediccion'] = y_pred_class_equipo\n",
    "\n",
    "print(y_pred_class_equipo.tolist())"
   ]
  },
  {
   "cell_type": "code",
   "execution_count": 215,
   "id": "d26aefb1",
   "metadata": {},
   "outputs": [
    {
     "name": "stdout",
     "output_type": "stream",
     "text": [
      "[[0.27484377 0.35018156 0.37497467]\n",
      " [0.66301337 0.1727957  0.16419093]\n",
      " [0.4629324  0.26147188 0.27559572]\n",
      " [0.23284723 0.3670641  0.40008867]\n",
      " [0.43833513 0.24842699 0.31323789]\n",
      " [0.56270584 0.20931191 0.22798225]\n",
      " [0.37259718 0.29294805 0.33445478]\n",
      " [0.28603857 0.29677435 0.41718708]\n",
      " [0.22440154 0.3065981  0.46900036]\n",
      " [0.33242913 0.30591722 0.36165365]\n",
      " [0.3890287  0.27876905 0.33220224]\n",
      " [0.57680981 0.24318075 0.18000944]\n",
      " [0.54976186 0.26215171 0.18808644]\n",
      " [0.22429231 0.28311878 0.4925889 ]\n",
      " [0.32443321 0.31370874 0.36185805]\n",
      " [0.29966165 0.31746061 0.38287774]\n",
      " [0.41408685 0.29044593 0.29546722]\n",
      " [0.33921594 0.29374522 0.36703884]\n",
      " [0.25420552 0.28955902 0.45623546]]\n"
     ]
    }
   ],
   "source": [
    "print(y_pred_prob_equipo)"
   ]
  },
  {
   "cell_type": "code",
   "execution_count": 216,
   "id": "b45b6baf",
   "metadata": {},
   "outputs": [
    {
     "data": {
      "text/plain": [
       "[2.11,\n",
       " 4.64,\n",
       " 2.06,\n",
       " 1.6,\n",
       " 2.04,\n",
       " 3.46,\n",
       " 2.42,\n",
       " 1.55,\n",
       " 1.69,\n",
       " 2.23,\n",
       " 2.64,\n",
       " 2.77,\n",
       " 3.84,\n",
       " 1.82,\n",
       " 1.93,\n",
       " 1.68,\n",
       " 2.71,\n",
       " 2.32,\n",
       " 1.93]"
      ]
     },
     "execution_count": 216,
     "metadata": {},
     "output_type": "execute_result"
    }
   ],
   "source": [
    "b= cuotas_df_equipo['cuota local']\n",
    "b =b.tolist()\n",
    "b"
   ]
  },
  {
   "cell_type": "code",
   "execution_count": 217,
   "id": "b44890ed",
   "metadata": {},
   "outputs": [
    {
     "name": "stdout",
     "output_type": "stream",
     "text": [
      "[0.37497467099686776, 0.1641909292680428, 0.2755957233872312, 0.40008867229098755, 0.3132378858536555, 0.22798225184801338, 0.3344547787247989, 0.4171870817827699, 0.46900035772606224, 0.3616536529004371, 0.33220224389237163, 0.18000944270288477, 0.1880864366998777, 0.49258890311644665, 0.36185804703486046, 0.38287773837359035, 0.2954672170686477, 0.3670388412536716, 0.4562354571748786]\n",
      "[0.03937706796214663, 0.0, 0.0, 0.012572046236427381, 0.0, 0.0024278675205404027, 0.02971804612372153, 0.020589373724536536, 0.07739969298316787, 0.037699842795608035, 0.03962427419852893, 0.0, 0.0, 0.10689579856823614, 0.015607274044596137, 0.0077715294170304094, 0.017746010207506074, 0.04710537779357535, 0.08724608536849593]\n"
     ]
    }
   ],
   "source": [
    "probs_Sociedad_visitante = []\n",
    "Kelly_f = []\n",
    "pred_list = y_pred_class_equipo.tolist()\n",
    "len(pred_list)\n",
    "\n",
    "for i in range(len(pred_list)):\n",
    "    probs_Sociedad_visitante.append(y_pred_prob_equipo[i][2])\n",
    "    Kelly_f_aux = 1/2*(max(0, y_pred_prob_equipo[i][2] - (1- y_pred_prob_equipo[i][2])/b[i]))\n",
    "    Kelly_f.append(Kelly_f_aux)\n",
    "\n",
    "print(probs_Sociedad_visitante)\n",
    "print(Kelly_f)\n",
    "\n"
   ]
  },
  {
   "cell_type": "code",
   "execution_count": 218,
   "id": "4c8d5eb7",
   "metadata": {},
   "outputs": [
    {
     "name": "stdout",
     "output_type": "stream",
     "text": [
      "[0, 0, 0, 1, 1, 0, 1, 1, 2, 2, 0, 0, 0, 2, 1, 2, 2, 2, 1]\n",
      "[2, 0, 0, 2, 0, 0, 0, 2, 2, 2, 0, 0, 0, 2, 2, 2, 0, 2, 2]\n",
      "[0.37497467099686776, 0.1641909292680428, 0.2755957233872312, 0.40008867229098755, 0.3132378858536555, 0.22798225184801338, 0.3344547787247989, 0.4171870817827699, 0.46900035772606224, 0.3616536529004371, 0.33220224389237163, 0.18000944270288477, 0.1880864366998777, 0.49258890311644665, 0.36185804703486046, 0.38287773837359035, 0.2954672170686477, 0.3670388412536716, 0.4562354571748786]\n"
     ]
    }
   ],
   "source": [
    "\n",
    "\n",
    "print(y_test_equipo.tolist())# Resultado Real\n",
    "#y_pred_prob_equipo # Rsultado prob\n",
    "print(y_pred_class_equipo.tolist()) # Pronóstico clase\n",
    "print(probs_Sociedad_visitante) # Probs gane Sociedad\n",
    "\n"
   ]
  },
  {
   "cell_type": "code",
   "execution_count": 219,
   "id": "2cf768cb",
   "metadata": {},
   "outputs": [
    {
     "data": {
      "text/plain": [
       "[1000,\n",
       " 960.6229320378534,\n",
       " 960.6229320378534,\n",
       " 960.6229320378534,\n",
       " 948.5459361205011,\n",
       " 948.5459361205011,\n",
       " 950.8488799905488,\n",
       " 922.5915091183007,\n",
       " 903.5959277419798,\n",
       " 973.5339751300498,\n",
       " 1010.2360529486361,\n",
       " 1050.2659233159125,\n",
       " 1050.2659233159125,\n",
       " 1050.2659233159125,\n",
       " 1162.5349378977728,\n",
       " 1144.3909365355846,\n",
       " 1153.2846043634538,\n",
       " 1132.8184040022604,\n",
       " 1186.180242894302]"
      ]
     },
     "execution_count": 219,
     "metadata": {},
     "output_type": "execute_result"
    }
   ],
   "source": [
    "bankroll = [1000]\n",
    "\n",
    "for i in range(len(probs_Sociedad_visitante)):\n",
    "    if (y_test_equipo.tolist())[i] == (y_pred_class_equipo.tolist())[i]:\n",
    "        bankroll_aux = bankroll[i]*(Kelly_f[i] + 1)\n",
    "    else: \n",
    "        bankroll_aux = bankroll[i]*(-Kelly_f[i] + 1)\n",
    "    bankroll.append(bankroll_aux)\n",
    "\n",
    "del bankroll[-1]\n",
    "bankroll\n",
    "\n"
   ]
  },
  {
   "cell_type": "code",
   "execution_count": 220,
   "id": "1125832c",
   "metadata": {},
   "outputs": [
    {
     "data": {
      "text/html": [
       "<div>\n",
       "<style scoped>\n",
       "    .dataframe tbody tr th:only-of-type {\n",
       "        vertical-align: middle;\n",
       "    }\n",
       "\n",
       "    .dataframe tbody tr th {\n",
       "        vertical-align: top;\n",
       "    }\n",
       "\n",
       "    .dataframe thead th {\n",
       "        text-align: right;\n",
       "    }\n",
       "</style>\n",
       "<table border=\"1\" class=\"dataframe\">\n",
       "  <thead>\n",
       "    <tr style=\"text-align: right;\">\n",
       "      <th></th>\n",
       "      <th>Date</th>\n",
       "      <th>HomeTeam</th>\n",
       "      <th>AwayTeam</th>\n",
       "      <th>Resultado</th>\n",
       "      <th>Probabilidades</th>\n",
       "      <th>Prediccion</th>\n",
       "      <th>BR_Sandra</th>\n",
       "    </tr>\n",
       "  </thead>\n",
       "  <tbody>\n",
       "    <tr>\n",
       "      <th>1525</th>\n",
       "      <td>2023-08-13</td>\n",
       "      <td>Celta</td>\n",
       "      <td>Osasuna</td>\n",
       "      <td>0</td>\n",
       "      <td>[0.27484377330771304, 0.35018155569541914, 0.3...</td>\n",
       "      <td>2</td>\n",
       "      <td>1000.000000</td>\n",
       "    </tr>\n",
       "    <tr>\n",
       "      <th>1541</th>\n",
       "      <td>2023-08-25</td>\n",
       "      <td>Celta</td>\n",
       "      <td>Real Madrid</td>\n",
       "      <td>0</td>\n",
       "      <td>[0.663013369137138, 0.1727957015948193, 0.1641...</td>\n",
       "      <td>0</td>\n",
       "      <td>960.622932</td>\n",
       "    </tr>\n",
       "    <tr>\n",
       "      <th>1562</th>\n",
       "      <td>2023-09-16</td>\n",
       "      <td>Celta</td>\n",
       "      <td>Mallorca</td>\n",
       "      <td>0</td>\n",
       "      <td>[0.46293239555838306, 0.26147188105438574, 0.2...</td>\n",
       "      <td>0</td>\n",
       "      <td>960.622932</td>\n",
       "    </tr>\n",
       "    <tr>\n",
       "      <th>1586</th>\n",
       "      <td>2023-09-28</td>\n",
       "      <td>Celta</td>\n",
       "      <td>Alaves</td>\n",
       "      <td>1</td>\n",
       "      <td>[0.2328472255696765, 0.3670641021393358, 0.400...</td>\n",
       "      <td>2</td>\n",
       "      <td>960.622932</td>\n",
       "    </tr>\n",
       "    <tr>\n",
       "      <th>1606</th>\n",
       "      <td>2023-10-08</td>\n",
       "      <td>Celta</td>\n",
       "      <td>Getafe</td>\n",
       "      <td>1</td>\n",
       "      <td>[0.4383351267057689, 0.2484269874405757, 0.313...</td>\n",
       "      <td>0</td>\n",
       "      <td>948.545936</td>\n",
       "    </tr>\n",
       "    <tr>\n",
       "      <th>1613</th>\n",
       "      <td>2023-10-21</td>\n",
       "      <td>Celta</td>\n",
       "      <td>Ath Madrid</td>\n",
       "      <td>0</td>\n",
       "      <td>[0.5627058374069034, 0.20931191074508318, 0.22...</td>\n",
       "      <td>0</td>\n",
       "      <td>948.545936</td>\n",
       "    </tr>\n",
       "    <tr>\n",
       "      <th>1632</th>\n",
       "      <td>2023-11-04</td>\n",
       "      <td>Celta</td>\n",
       "      <td>Sevilla</td>\n",
       "      <td>1</td>\n",
       "      <td>[0.37259717616589566, 0.2929480451093055, 0.33...</td>\n",
       "      <td>0</td>\n",
       "      <td>950.848880</td>\n",
       "    </tr>\n",
       "    <tr>\n",
       "      <th>1668</th>\n",
       "      <td>2023-12-04</td>\n",
       "      <td>Celta</td>\n",
       "      <td>Cadiz</td>\n",
       "      <td>1</td>\n",
       "      <td>[0.2860385683582214, 0.29677434985900863, 0.41...</td>\n",
       "      <td>2</td>\n",
       "      <td>922.591509</td>\n",
       "    </tr>\n",
       "    <tr>\n",
       "      <th>1680</th>\n",
       "      <td>2023-12-16</td>\n",
       "      <td>Celta</td>\n",
       "      <td>Granada</td>\n",
       "      <td>2</td>\n",
       "      <td>[0.224401542857631, 0.3065980994163068, 0.4690...</td>\n",
       "      <td>2</td>\n",
       "      <td>903.595928</td>\n",
       "    </tr>\n",
       "    <tr>\n",
       "      <th>1705</th>\n",
       "      <td>2024-01-03</td>\n",
       "      <td>Celta</td>\n",
       "      <td>Betis</td>\n",
       "      <td>2</td>\n",
       "      <td>[0.3324291300764463, 0.3059172170231165, 0.361...</td>\n",
       "      <td>2</td>\n",
       "      <td>973.533975</td>\n",
       "    </tr>\n",
       "    <tr>\n",
       "      <th>1721</th>\n",
       "      <td>2024-01-20</td>\n",
       "      <td>Celta</td>\n",
       "      <td>Sociedad</td>\n",
       "      <td>0</td>\n",
       "      <td>[0.3890287048824534, 0.2787690512251749, 0.332...</td>\n",
       "      <td>0</td>\n",
       "      <td>1010.236053</td>\n",
       "    </tr>\n",
       "    <tr>\n",
       "      <th>1732</th>\n",
       "      <td>2024-01-28</td>\n",
       "      <td>Celta</td>\n",
       "      <td>Girona</td>\n",
       "      <td>0</td>\n",
       "      <td>[0.576809808101257, 0.24318074919585825, 0.180...</td>\n",
       "      <td>0</td>\n",
       "      <td>1050.265923</td>\n",
       "    </tr>\n",
       "    <tr>\n",
       "      <th>1763</th>\n",
       "      <td>2024-02-17</td>\n",
       "      <td>Celta</td>\n",
       "      <td>Barcelona</td>\n",
       "      <td>0</td>\n",
       "      <td>[0.5497618575487115, 0.2621517057514108, 0.188...</td>\n",
       "      <td>0</td>\n",
       "      <td>1050.265923</td>\n",
       "    </tr>\n",
       "    <tr>\n",
       "      <th>1779</th>\n",
       "      <td>2024-03-01</td>\n",
       "      <td>Celta</td>\n",
       "      <td>Almeria</td>\n",
       "      <td>2</td>\n",
       "      <td>[0.22429231262094057, 0.28311878426261267, 0.4...</td>\n",
       "      <td>2</td>\n",
       "      <td>1050.265923</td>\n",
       "    </tr>\n",
       "    <tr>\n",
       "      <th>1814</th>\n",
       "      <td>2024-03-31</td>\n",
       "      <td>Celta</td>\n",
       "      <td>Vallecano</td>\n",
       "      <td>1</td>\n",
       "      <td>[0.32443321303337636, 0.31370873993176324, 0.3...</td>\n",
       "      <td>2</td>\n",
       "      <td>1162.534938</td>\n",
       "    </tr>\n",
       "    <tr>\n",
       "      <th>1831</th>\n",
       "      <td>2024-04-20</td>\n",
       "      <td>Celta</td>\n",
       "      <td>Las Palmas</td>\n",
       "      <td>2</td>\n",
       "      <td>[0.2996616534438438, 0.3174606081825658, 0.382...</td>\n",
       "      <td>2</td>\n",
       "      <td>1144.390937</td>\n",
       "    </tr>\n",
       "    <tr>\n",
       "      <th>1856</th>\n",
       "      <td>2024-05-05</td>\n",
       "      <td>Celta</td>\n",
       "      <td>Villarreal</td>\n",
       "      <td>2</td>\n",
       "      <td>[0.41408685240015647, 0.2904459305311959, 0.29...</td>\n",
       "      <td>0</td>\n",
       "      <td>1153.284604</td>\n",
       "    </tr>\n",
       "    <tr>\n",
       "      <th>1875</th>\n",
       "      <td>2024-05-14</td>\n",
       "      <td>Celta</td>\n",
       "      <td>Ath Bilbao</td>\n",
       "      <td>2</td>\n",
       "      <td>[0.3392159404516394, 0.293745218294689, 0.3670...</td>\n",
       "      <td>2</td>\n",
       "      <td>1132.818404</td>\n",
       "    </tr>\n",
       "    <tr>\n",
       "      <th>1896</th>\n",
       "      <td>2024-05-26</td>\n",
       "      <td>Celta</td>\n",
       "      <td>Valencia</td>\n",
       "      <td>1</td>\n",
       "      <td>[0.25420552494044146, 0.28955901788467986, 0.4...</td>\n",
       "      <td>2</td>\n",
       "      <td>1186.180243</td>\n",
       "    </tr>\n",
       "  </tbody>\n",
       "</table>\n",
       "</div>"
      ],
      "text/plain": [
       "           Date HomeTeam     AwayTeam  Resultado  \\\n",
       "1525 2023-08-13    Celta      Osasuna          0   \n",
       "1541 2023-08-25    Celta  Real Madrid          0   \n",
       "1562 2023-09-16    Celta     Mallorca          0   \n",
       "1586 2023-09-28    Celta       Alaves          1   \n",
       "1606 2023-10-08    Celta       Getafe          1   \n",
       "1613 2023-10-21    Celta   Ath Madrid          0   \n",
       "1632 2023-11-04    Celta      Sevilla          1   \n",
       "1668 2023-12-04    Celta        Cadiz          1   \n",
       "1680 2023-12-16    Celta      Granada          2   \n",
       "1705 2024-01-03    Celta        Betis          2   \n",
       "1721 2024-01-20    Celta     Sociedad          0   \n",
       "1732 2024-01-28    Celta       Girona          0   \n",
       "1763 2024-02-17    Celta    Barcelona          0   \n",
       "1779 2024-03-01    Celta      Almeria          2   \n",
       "1814 2024-03-31    Celta    Vallecano          1   \n",
       "1831 2024-04-20    Celta   Las Palmas          2   \n",
       "1856 2024-05-05    Celta   Villarreal          2   \n",
       "1875 2024-05-14    Celta   Ath Bilbao          2   \n",
       "1896 2024-05-26    Celta     Valencia          1   \n",
       "\n",
       "                                         Probabilidades  Prediccion  \\\n",
       "1525  [0.27484377330771304, 0.35018155569541914, 0.3...           2   \n",
       "1541  [0.663013369137138, 0.1727957015948193, 0.1641...           0   \n",
       "1562  [0.46293239555838306, 0.26147188105438574, 0.2...           0   \n",
       "1586  [0.2328472255696765, 0.3670641021393358, 0.400...           2   \n",
       "1606  [0.4383351267057689, 0.2484269874405757, 0.313...           0   \n",
       "1613  [0.5627058374069034, 0.20931191074508318, 0.22...           0   \n",
       "1632  [0.37259717616589566, 0.2929480451093055, 0.33...           0   \n",
       "1668  [0.2860385683582214, 0.29677434985900863, 0.41...           2   \n",
       "1680  [0.224401542857631, 0.3065980994163068, 0.4690...           2   \n",
       "1705  [0.3324291300764463, 0.3059172170231165, 0.361...           2   \n",
       "1721  [0.3890287048824534, 0.2787690512251749, 0.332...           0   \n",
       "1732  [0.576809808101257, 0.24318074919585825, 0.180...           0   \n",
       "1763  [0.5497618575487115, 0.2621517057514108, 0.188...           0   \n",
       "1779  [0.22429231262094057, 0.28311878426261267, 0.4...           2   \n",
       "1814  [0.32443321303337636, 0.31370873993176324, 0.3...           2   \n",
       "1831  [0.2996616534438438, 0.3174606081825658, 0.382...           2   \n",
       "1856  [0.41408685240015647, 0.2904459305311959, 0.29...           0   \n",
       "1875  [0.3392159404516394, 0.293745218294689, 0.3670...           2   \n",
       "1896  [0.25420552494044146, 0.28955901788467986, 0.4...           2   \n",
       "\n",
       "        BR_Sandra  \n",
       "1525  1000.000000  \n",
       "1541   960.622932  \n",
       "1562   960.622932  \n",
       "1586   960.622932  \n",
       "1606   948.545936  \n",
       "1613   948.545936  \n",
       "1632   950.848880  \n",
       "1668   922.591509  \n",
       "1680   903.595928  \n",
       "1705   973.533975  \n",
       "1721  1010.236053  \n",
       "1732  1050.265923  \n",
       "1763  1050.265923  \n",
       "1779  1050.265923  \n",
       "1814  1162.534938  \n",
       "1831  1144.390937  \n",
       "1856  1153.284604  \n",
       "1875  1132.818404  \n",
       "1896  1186.180243  "
      ]
     },
     "execution_count": 220,
     "metadata": {},
     "output_type": "execute_result"
    }
   ],
   "source": [
    "resultados_equipo['BR_Sandra'] = bankroll\n",
    "resultados_equipo"
   ]
  },
  {
   "cell_type": "code",
   "execution_count": 221,
   "id": "e4f7e017",
   "metadata": {},
   "outputs": [
    {
     "data": {
      "image/png": "[encoded data removed]",
      "text/plain": [
       "<Figure size 1200x600 with 1 Axes>"
      ]
     },
     "metadata": {},
     "output_type": "display_data"
    }
   ],
   "source": [
    "plt.figure(figsize=(12, 6))\n",
    "plt.plot(resultados_equipo['Date'], resultados_equipo['BR_Sandra'], marker='o')\n",
    "plt.title('Evolución del Bankroll a lo largo de la temporada')\n",
    "plt.xlabel('Fecha')\n",
    "plt.ylabel('Bankroll (€)')\n",
    "plt.xticks(rotation=45)\n",
    "plt.grid(True)\n",
    "plt.show()"
   ]
  },
  {
   "cell_type": "code",
   "execution_count": null,
   "id": "6ab2c8be",
   "metadata": {},
   "outputs": [],
   "source": [
    "\n",
    "ROI = [bankroll]\n",
    "\n",
    "for index, row in resultados_equipo.iterrows():\n",
    "    fraccion_local = row['Fraccion_Kelly_Local']\n",
    "    fraccion_visitante = row['Fraccion_Kelly_Visitante']\n",
    "    fraccion_empate = row['Fraccion_Kelly_Empate']\n",
    "\n",
    "    if row['Resultado'] == 0:  # Gana equipo local\n",
    "        if row['Prediccion'] == 0:\n",
    "            bankroll += fraccion_local * (row['cuota local'] - 1) * bankroll\n",
    "        else:\n",
    "            bankroll -= fraccion_local * bankroll\n",
    "    elif row['Resultado'] == 2:  # Gana equipo visitante\n",
    "        if row['Prediccion'] == 2:\n",
    "            bankroll += fraccion_visitante * (row['cuota visitante'] - 1) * bankroll\n",
    "        else:\n",
    "            bankroll -= fraccion_visitante * bankroll\n",
    "    elif row['Resultado'] == 1:  # Empate\n",
    "        if row['Prediccion'] == 1:\n",
    "            bankroll += fraccion_empate * (row['cuota empate'] - 1) * bankroll\n",
    "        else:\n",
    "            bankroll -= fraccion_empate * bankroll\n",
    "    \n",
    "    ROI.append(bankroll)\n",
    "    resultados_equipo.at[index, 'Bankroll'] = bankroll"
   ]
  },
  {
   "cell_type": "code",
   "execution_count": 43,
   "id": "fd7970f2",
   "metadata": {},
   "outputs": [
    {
     "name": "stdout",
     "output_type": "stream",
     "text": [
      "[1, 1, 1, 2, 2, 2, 0, 2, 2, 2, 1, 0, 0, 2, 1, 0, 1, 1, 1, 2, 0, 1, 1, 0, 0, 0, 2, 0, 2, 0, 1, 1, 0, 2, 2, 2, 0, 0]\n"
     ]
    }
   ],
   "source": [
    "print(y_test_equipo.tolist())"
   ]
  },
  {
   "cell_type": "code",
   "execution_count": 45,
   "id": "b0d3fbaa-5f08-47d0-8af5-9eca07243edc",
   "metadata": {},
   "outputs": [],
   "source": [
    "resultados_equipo = resultados_equipo.merge(cuotas, on=['Date', 'HomeTeam', 'AwayTeam'], how='left')"
   ]
  },
  {
   "cell_type": "code",
   "execution_count": 46,
   "id": "c444411f-6f9d-46bc-a049-60c4dc3dc15b",
   "metadata": {},
   "outputs": [],
   "source": [
    "# Fracción de Kelly \n",
    "def calcular_fraccion_kelly(probabilidades, cuota):\n",
    "    p = probabilidades\n",
    "    b = cuota - 1\n",
    "    return max(0, (p - (1 - p)) / b)\n",
    "\n",
    "resultados_equipo['Fraccion_Kelly_Local'] = resultados_equipo.apply(\n",
    "    lambda row: calcular_fraccion_kelly(row['Probabilidades'][0], row['cuota local']), axis=1)\n",
    "resultados_equipo['Fraccion_Kelly_Visitante'] = resultados_equipo.apply(\n",
    "    lambda row: calcular_fraccion_kelly(row['Probabilidades'][2], row['cuota visitante']), axis=1)\n",
    "resultados_equipo['Fraccion_Kelly_Empate'] = resultados_equipo.apply(\n",
    "    lambda row: calcular_fraccion_kelly(row['Probabilidades'][1], row['cuota empate']), axis=1)"
   ]
  },
  {
   "cell_type": "code",
   "execution_count": 47,
   "id": "6f80b616-0d9e-4c69-977a-c3d3954bad91",
   "metadata": {},
   "outputs": [
    {
     "name": "stdout",
     "output_type": "stream",
     "text": [
      "         Date     HomeTeam     AwayTeam  Resultado  \\\n",
      "0  2023-08-12     Sociedad       Girona          1   \n",
      "1  2023-08-19     Sociedad        Celta          1   \n",
      "2  2023-08-25   Las Palmas     Sociedad          1   \n",
      "3  2023-09-02     Sociedad      Granada          2   \n",
      "4  2023-09-17  Real Madrid     Sociedad          2   \n",
      "5  2023-09-24     Sociedad       Getafe          2   \n",
      "6  2023-09-27     Valencia     Sociedad          0   \n",
      "7  2023-09-30     Sociedad   Ath Bilbao          2   \n",
      "8  2023-10-08   Ath Madrid     Sociedad          2   \n",
      "9  2023-10-21     Sociedad     Mallorca          2   \n",
      "10 2023-10-29    Vallecano     Sociedad          1   \n",
      "11 2023-11-04     Sociedad    Barcelona          0   \n",
      "12 2023-11-11      Almeria     Sociedad          0   \n",
      "13 2023-11-26     Sociedad      Sevilla          2   \n",
      "14 2023-12-02      Osasuna     Sociedad          1   \n",
      "15 2023-12-09   Villarreal     Sociedad          0   \n",
      "16 2023-12-17     Sociedad        Betis          1   \n",
      "17 2023-12-21        Cadiz     Sociedad          1   \n",
      "18 2024-01-02     Sociedad       Alaves          1   \n",
      "19 2024-01-13   Ath Bilbao     Sociedad          2   \n",
      "20 2024-01-20        Celta     Sociedad          0   \n",
      "21 2024-01-27     Sociedad    Vallecano          1   \n",
      "22 2024-02-03       Girona     Sociedad          1   \n",
      "23 2024-02-10     Sociedad      Osasuna          0   \n",
      "24 2024-02-18     Mallorca     Sociedad          0   \n",
      "25 2024-02-23     Sociedad   Villarreal          0   \n",
      "26 2024-03-02      Sevilla     Sociedad          2   \n",
      "27 2024-03-09      Granada     Sociedad          0   \n",
      "28 2024-03-15     Sociedad        Cadiz          2   \n",
      "29 2024-03-31       Alaves     Sociedad          0   \n",
      "30 2024-04-14     Sociedad      Almeria          1   \n",
      "31 2024-04-21       Getafe     Sociedad          1   \n",
      "32 2024-04-26     Sociedad  Real Madrid          0   \n",
      "33 2024-05-04     Sociedad   Las Palmas          2   \n",
      "34 2024-05-13    Barcelona     Sociedad          2   \n",
      "35 2024-05-14     Sociedad     Valencia          2   \n",
      "36 2024-05-19        Betis     Sociedad          0   \n",
      "37 2024-05-25     Sociedad   Ath Madrid          0   \n",
      "\n",
      "                                       Probabilidades  Prediccion  \\\n",
      "0   [0.27484377330771304, 0.35018155569541914, 0.3...           2   \n",
      "1   [0.1904602206526407, 0.3550359104402407, 0.454...           2   \n",
      "2   [0.1904602206526407, 0.3550359104402407, 0.454...           2   \n",
      "3   [0.2781947876699358, 0.2954961507300807, 0.426...           2   \n",
      "4   [0.13585638079921236, 0.3553210029782739, 0.50...           2   \n",
      "5   [0.13353518704510775, 0.2912978056806398, 0.57...           2   \n",
      "6   [0.1998607054846465, 0.3167268202810634, 0.483...           2   \n",
      "7   [0.24103363907591646, 0.27859438396637415, 0.4...           2   \n",
      "8   [0.13892984591723723, 0.2901987750651195, 0.57...           2   \n",
      "9   [0.20183233588800548, 0.24789499066746642, 0.5...           2   \n",
      "10  [0.2587509201544231, 0.3098822404722205, 0.431...           2   \n",
      "11  [0.296589657154111, 0.24448729103243486, 0.458...           2   \n",
      "12  [0.27020230089129127, 0.3448261000542466, 0.38...           2   \n",
      "13  [0.19914075720484856, 0.25693178493703805, 0.5...           2   \n",
      "14  [0.38218073220534554, 0.30226954148618146, 0.3...           0   \n",
      "15  [0.281698429972266, 0.32248657634898503, 0.395...           2   \n",
      "16  [0.20541564337586055, 0.24838215114927317, 0.5...           2   \n",
      "17  [0.4101749186697534, 0.24437478069892157, 0.34...           0   \n",
      "18  [0.11307392474073798, 0.23572080462859427, 0.6...           2   \n",
      "19  [0.23327966816152143, 0.23783175125094688, 0.5...           2   \n",
      "20  [0.3890287048824534, 0.2787690512251749, 0.332...           0   \n",
      "21  [0.2666477443701278, 0.25564231706275653, 0.47...           2   \n",
      "22  [0.2030120994917513, 0.22489394986942499, 0.57...           2   \n",
      "23  [0.24718458826818676, 0.22812287046212992, 0.5...           2   \n",
      "24  [0.36917010944803247, 0.2755308015917745, 0.35...           0   \n",
      "25  [0.27137625801809967, 0.23925641041102838, 0.4...           2   \n",
      "26  [0.35497199986008415, 0.3105844355232239, 0.33...           0   \n",
      "27  [0.35809969894777166, 0.31101439158129995, 0.3...           0   \n",
      "28  [0.1644867041872297, 0.2301325398316939, 0.605...           2   \n",
      "29  [0.397533350306025, 0.27966485487833637, 0.322...           0   \n",
      "30  [0.1448935713998073, 0.1943801124169423, 0.660...           2   \n",
      "31  [0.37217613353920004, 0.25319720089504905, 0.3...           2   \n",
      "32  [0.4694496291062031, 0.26119946429160057, 0.26...           0   \n",
      "33  [0.1954000844437354, 0.2516270517699897, 0.552...           2   \n",
      "34  [0.28770046740927896, 0.24784794029576757, 0.4...           2   \n",
      "35  [0.2158529697710863, 0.24103792360398305, 0.54...           2   \n",
      "36  [0.29802071852547274, 0.24333771252590225, 0.4...           2   \n",
      "37  [0.3218036945884645, 0.2302476913789788, 0.447...           2   \n",
      "\n",
      "    cuota local  cuota empate  cuota visitante  Fraccion_Kelly_Local  \\\n",
      "0          1.79          3.64             4.87                   0.0   \n",
      "1          1.74          3.45             5.76                   0.0   \n",
      "2          4.53          3.30             1.95                   0.0   \n",
      "3          1.44          4.55             7.81                   0.0   \n",
      "4          1.73          3.78             5.10                   0.0   \n",
      "5          1.68          3.43             6.54                   0.0   \n",
      "6          2.66          3.09             3.00                   0.0   \n",
      "7          2.29          3.12             3.64                   0.0   \n",
      "8          1.98          3.38             4.33                   0.0   \n",
      "9          1.64          3.66             6.59                   0.0   \n",
      "10         3.37          3.17             2.37                   0.0   \n",
      "11         3.38          3.40             2.26                   0.0   \n",
      "12         4.39          3.79             1.83                   0.0   \n",
      "13         1.64          3.89             5.81                   0.0   \n",
      "14         3.91          3.16             2.14                   0.0   \n",
      "15         3.37          3.46             2.22                   0.0   \n",
      "16         1.60          4.13             5.94                   0.0   \n",
      "17         5.85          3.58             1.71                   0.0   \n",
      "18         1.54          3.92             7.73                   0.0   \n",
      "19         2.12          3.14             4.07                   0.0   \n",
      "20         2.64          2.94             3.20                   0.0   \n",
      "21         1.81          3.30             5.55                   0.0   \n",
      "22         2.04          3.49             3.85                   0.0   \n",
      "23         1.77          3.29             5.73                   0.0   \n",
      "24         3.84          2.80             2.37                   0.0   \n",
      "25         1.64          4.05             5.46                   0.0   \n",
      "26         2.75          2.90             3.04                   0.0   \n",
      "27         4.69          3.34             1.91                   0.0   \n",
      "28         1.44          4.25             9.29                   0.0   \n",
      "29         4.05          3.00             2.17                   0.0   \n",
      "30         1.31          5.42            11.11                   0.0   \n",
      "31         3.80          3.07             2.24                   0.0   \n",
      "32         2.36          3.23             3.29                   0.0   \n",
      "33         1.34          5.06            10.51                   0.0   \n",
      "34         1.73          3.85             4.94                   0.0   \n",
      "35         1.49          4.24             7.75                   0.0   \n",
      "36         3.42          2.99             2.44                   0.0   \n",
      "37         2.65          3.34             2.75                   0.0   \n",
      "\n",
      "    Fraccion_Kelly_Visitante  Fraccion_Kelly_Empate  \n",
      "0                   0.000000                    0.0  \n",
      "1                   0.000000                    0.0  \n",
      "2                   0.000000                    0.0  \n",
      "3                   0.000000                    0.0  \n",
      "4                   0.002152                    0.0  \n",
      "5                   0.013568                    0.0  \n",
      "6                   0.000000                    0.0  \n",
      "7                   0.000000                    0.0  \n",
      "8                   0.021283                    0.0  \n",
      "9                   0.008993                    0.0  \n",
      "10                  0.000000                    0.0  \n",
      "11                  0.000000                    0.0  \n",
      "12                  0.000000                    0.0  \n",
      "13                  0.009133                    0.0  \n",
      "14                  0.000000                    0.0  \n",
      "15                  0.000000                    0.0  \n",
      "16                  0.009353                    0.0  \n",
      "17                  0.000000                    0.0  \n",
      "18                  0.022467                    0.0  \n",
      "19                  0.009410                    0.0  \n",
      "20                  0.000000                    0.0  \n",
      "21                  0.000000                    0.0  \n",
      "22                  0.025296                    0.0  \n",
      "23                  0.005220                    0.0  \n",
      "24                  0.000000                    0.0  \n",
      "25                  0.000000                    0.0  \n",
      "26                  0.000000                    0.0  \n",
      "27                  0.000000                    0.0  \n",
      "28                  0.012712                    0.0  \n",
      "29                  0.000000                    0.0  \n",
      "30                  0.015898                    0.0  \n",
      "31                  0.000000                    0.0  \n",
      "32                  0.000000                    0.0  \n",
      "33                  0.005570                    0.0  \n",
      "34                  0.000000                    0.0  \n",
      "35                  0.006387                    0.0  \n",
      "36                  0.000000                    0.0  \n",
      "37                  0.000000                    0.0  \n"
     ]
    }
   ],
   "source": [
    "# fracción de Kelly mitad del valor original\n",
    "resultados_equipo['Fraccion_Kelly_Local'] /= 2\n",
    "resultados_equipo['Fraccion_Kelly_Visitante'] /= 2\n",
    "resultados_equipo['Fraccion_Kelly_Empate'] /= 2\n",
    "\n",
    "resultados_equipo = resultados_equipo.sort_values(by='Date')\n",
    "print(resultados_equipo)"
   ]
  },
  {
   "cell_type": "code",
   "execution_count": 29,
   "id": "e5627475-7758-4cc8-b35a-c29f370e255b",
   "metadata": {},
   "outputs": [],
   "source": [
    "bankroll = 1000\n",
    "resultados_equipo['Bankroll'] = bankroll\n",
    "\n",
    "resultados_equipo['Bankroll'] = resultados_equipo['Bankroll'].astype(float)\n",
    "\n",
    "ROI = [bankroll]\n",
    "\n",
    "for index, row in resultados_equipo.iterrows():\n",
    "    fraccion_local = row['Fraccion_Kelly_Local']\n",
    "    fraccion_visitante = row['Fraccion_Kelly_Visitante']\n",
    "    fraccion_empate = row['Fraccion_Kelly_Empate']\n",
    "\n",
    "    if row['Resultado'] == 0:  # Gana equipo local\n",
    "        if row['Prediccion'] == 0:\n",
    "            bankroll += fraccion_local * (row['cuota local'] - 1) * bankroll\n",
    "        else:\n",
    "            bankroll -= fraccion_local * bankroll\n",
    "    elif row['Resultado'] == 2:  # Gana equipo visitante\n",
    "        if row['Prediccion'] == 2:\n",
    "            bankroll += fraccion_visitante * (row['cuota visitante'] - 1) * bankroll\n",
    "        else:\n",
    "            bankroll -= fraccion_visitante * bankroll\n",
    "    elif row['Resultado'] == 1:  # Empate\n",
    "        if row['Prediccion'] == 1:\n",
    "            bankroll += fraccion_empate * (row['cuota empate'] - 1) * bankroll\n",
    "        else:\n",
    "            bankroll -= fraccion_empate * bankroll\n",
    "    \n",
    "    ROI.append(bankroll)\n",
    "    resultados_equipo.at[index, 'Bankroll'] = bankroll"
   ]
  },
  {
   "cell_type": "code",
   "execution_count": 33,
   "id": "598774d9-eb96-4a4d-a22f-cf3d6562a961",
   "metadata": {},
   "outputs": [
    {
     "data": {
      "image/png": "[encoded data removed]",
      "text/plain": [
       "<Figure size 1200x600 with 1 Axes>"
      ]
     },
     "metadata": {},
     "output_type": "display_data"
    },
    {
     "name": "stdout",
     "output_type": "stream",
     "text": [
      "         Date     HomeTeam     AwayTeam  Fraccion_Kelly_Local  \\\n",
      "0  2023-08-12     Sociedad       Girona                   0.0   \n",
      "1  2023-08-19     Sociedad        Celta                   0.0   \n",
      "2  2023-08-25   Las Palmas     Sociedad                   0.0   \n",
      "3  2023-09-02     Sociedad      Granada                   0.0   \n",
      "4  2023-09-17  Real Madrid     Sociedad                   0.0   \n",
      "5  2023-09-24     Sociedad       Getafe                   0.0   \n",
      "6  2023-09-27     Valencia     Sociedad                   0.0   \n",
      "7  2023-09-30     Sociedad   Ath Bilbao                   0.0   \n",
      "8  2023-10-08   Ath Madrid     Sociedad                   0.0   \n",
      "9  2023-10-21     Sociedad     Mallorca                   0.0   \n",
      "10 2023-10-29    Vallecano     Sociedad                   0.0   \n",
      "11 2023-11-04     Sociedad    Barcelona                   0.0   \n",
      "12 2023-11-11      Almeria     Sociedad                   0.0   \n",
      "13 2023-11-26     Sociedad      Sevilla                   0.0   \n",
      "14 2023-12-02      Osasuna     Sociedad                   0.0   \n",
      "15 2023-12-09   Villarreal     Sociedad                   0.0   \n",
      "16 2023-12-17     Sociedad        Betis                   0.0   \n",
      "17 2023-12-21        Cadiz     Sociedad                   0.0   \n",
      "18 2024-01-02     Sociedad       Alaves                   0.0   \n",
      "19 2024-01-13   Ath Bilbao     Sociedad                   0.0   \n",
      "20 2024-01-20        Celta     Sociedad                   0.0   \n",
      "21 2024-01-27     Sociedad    Vallecano                   0.0   \n",
      "22 2024-02-03       Girona     Sociedad                   0.0   \n",
      "23 2024-02-10     Sociedad      Osasuna                   0.0   \n",
      "24 2024-02-18     Mallorca     Sociedad                   0.0   \n",
      "25 2024-02-23     Sociedad   Villarreal                   0.0   \n",
      "26 2024-03-02      Sevilla     Sociedad                   0.0   \n",
      "27 2024-03-09      Granada     Sociedad                   0.0   \n",
      "28 2024-03-15     Sociedad        Cadiz                   0.0   \n",
      "29 2024-03-31       Alaves     Sociedad                   0.0   \n",
      "30 2024-04-14     Sociedad      Almeria                   0.0   \n",
      "31 2024-04-21       Getafe     Sociedad                   0.0   \n",
      "32 2024-04-26     Sociedad  Real Madrid                   0.0   \n",
      "33 2024-05-04     Sociedad   Las Palmas                   0.0   \n",
      "34 2024-05-13    Barcelona     Sociedad                   0.0   \n",
      "35 2024-05-14     Sociedad     Valencia                   0.0   \n",
      "36 2024-05-19        Betis     Sociedad                   0.0   \n",
      "37 2024-05-25     Sociedad   Ath Madrid                   0.0   \n",
      "\n",
      "    Fraccion_Kelly_Visitante  Fraccion_Kelly_Empate     Bankroll  \n",
      "0                   0.000000                    0.0  1000.000000  \n",
      "1                   0.000000                    0.0  1000.000000  \n",
      "2                   0.000000                    0.0  1000.000000  \n",
      "3                   0.000000                    0.0  1000.000000  \n",
      "4                   0.002152                    0.0  1004.411308  \n",
      "5                   0.013568                    0.0  1042.160604  \n",
      "6                   0.000000                    0.0  1042.160604  \n",
      "7                   0.000000                    0.0  1042.160604  \n",
      "8                   0.021283                    0.0  1079.090284  \n",
      "9                   0.008993                    0.0  1106.214660  \n",
      "10                  0.000000                    0.0  1106.214660  \n",
      "11                  0.000000                    0.0  1106.214660  \n",
      "12                  0.000000                    0.0  1106.214660  \n",
      "13                  0.009133                    0.0  1130.511259  \n",
      "14                  0.000000                    0.0  1130.511259  \n",
      "15                  0.000000                    0.0  1130.511259  \n",
      "16                  0.009353                    0.0  1130.511259  \n",
      "17                  0.000000                    0.0  1130.511259  \n",
      "18                  0.022467                    0.0  1130.511259  \n",
      "19                  0.009410                    0.0  1146.840692  \n",
      "20                  0.000000                    0.0  1146.840692  \n",
      "21                  0.000000                    0.0  1146.840692  \n",
      "22                  0.025296                    0.0  1146.840692  \n",
      "23                  0.005220                    0.0  1146.840692  \n",
      "24                  0.000000                    0.0  1146.840692  \n",
      "25                  0.000000                    0.0  1146.840692  \n",
      "26                  0.000000                    0.0  1146.840692  \n",
      "27                  0.000000                    0.0  1146.840692  \n",
      "28                  0.012712                    0.0  1207.268162  \n",
      "29                  0.000000                    0.0  1207.268162  \n",
      "30                  0.015898                    0.0  1207.268162  \n",
      "31                  0.000000                    0.0  1207.268162  \n",
      "32                  0.000000                    0.0  1207.268162  \n",
      "33                  0.005570                    0.0  1239.244388  \n",
      "34                  0.000000                    0.0  1239.244388  \n",
      "35                  0.006387                    0.0  1265.955747  \n",
      "36                  0.000000                    0.0  1265.955747  \n",
      "37                  0.000000                    0.0  1265.955747  \n"
     ]
    }
   ],
   "source": [
    "plt.figure(figsize=(12, 6))\n",
    "plt.plot(resultados_equipo['Date'], resultados_equipo['Bankroll'], marker='o')\n",
    "plt.title('Evolución del Bankroll a lo largo de la temporada')\n",
    "plt.xlabel('Fecha')\n",
    "plt.ylabel('Bankroll (€)')\n",
    "plt.xticks(rotation=45)\n",
    "plt.grid(True)\n",
    "plt.show()\n",
    "\n",
    "\n",
    "tabla_resumida = resultados_equipo[['Date', 'HomeTeam', 'AwayTeam', 'Fraccion_Kelly_Local', 'Fraccion_Kelly_Visitante', 'Fraccion_Kelly_Empate', 'Bankroll']]\n",
    "print(tabla_resumida)\n"
   ]
  }
 ],
 "metadata": {
  "colab": {
   "provenance": []
  },
  "kernelspec": {
   "display_name": "Python 3 (ipykernel)",
   "language": "python",
   "name": "python3"
  },
  "language_info": {
   "codemirror_mode": {
    "name": "ipython",
    "version": 3
   },
   "file_extension": ".py",
   "mimetype": "text/x-python",
   "name": "python",
   "nbconvert_exporter": "python",
   "pygments_lexer": "ipython3",
   "version": "3.12.3"
  }
 },
 "nbformat": 4,
 "nbformat_minor": 5
}
